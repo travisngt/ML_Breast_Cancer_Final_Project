{
  "cells": [
    {
      "cell_type": "markdown",
      "metadata": {
        "id": "view-in-github",
        "colab_type": "text"
      },
      "source": [
        "<a href=\"https://colab.research.google.com/github/travisngt/ML_Breast_Cancer_Final_Project/blob/main/DL_(Yolo).ipynb\" target=\"_parent\"><img src=\"https://colab.research.google.com/assets/colab-badge.svg\" alt=\"Open In Colab\"/></a>"
      ]
    },
    {
      "cell_type": "code",
      "execution_count": null,
      "metadata": {
        "colab": {
          "base_uri": "https://localhost:8080/"
        },
        "id": "_azNPCg9w7Q8",
        "outputId": "1f5c595a-933f-4675-8b17-eb757575b567"
      },
      "outputs": [
        {
          "output_type": "stream",
          "name": "stdout",
          "text": [
            "Drive already mounted at /content/drive; to attempt to forcibly remount, call drive.mount(\"/content/drive\", force_remount=True).\n",
            "Created label file: /content/drive/My Drive/yolo_labels1/mdb001.txt\n",
            "Created label file: /content/drive/My Drive/yolo_labels1/mdb002.txt\n",
            "Created label file: /content/drive/My Drive/yolo_labels1/mdb003.txt\n",
            "Created label file: /content/drive/My Drive/yolo_labels1/mdb004.txt\n",
            "Created label file: /content/drive/My Drive/yolo_labels1/mdb005.txt\n",
            "Created label file: /content/drive/My Drive/yolo_labels1/mdb005.txt\n",
            "Created label file: /content/drive/My Drive/yolo_labels1/mdb006.txt\n",
            "Created label file: /content/drive/My Drive/yolo_labels1/mdb007.txt\n",
            "Created label file: /content/drive/My Drive/yolo_labels1/mdb008.txt\n",
            "Created label file: /content/drive/My Drive/yolo_labels1/mdb009.txt\n",
            "Created label file: /content/drive/My Drive/yolo_labels1/mdb010.txt\n",
            "Created label file: /content/drive/My Drive/yolo_labels1/mdb011.txt\n",
            "Created label file: /content/drive/My Drive/yolo_labels1/mdb012.txt\n",
            "Created label file: /content/drive/My Drive/yolo_labels1/mdb013.txt\n",
            "Created label file: /content/drive/My Drive/yolo_labels1/mdb014.txt\n",
            "Created label file: /content/drive/My Drive/yolo_labels1/mdb015.txt\n",
            "Created label file: /content/drive/My Drive/yolo_labels1/mdb016.txt\n",
            "Created label file: /content/drive/My Drive/yolo_labels1/mdb017.txt\n",
            "Created label file: /content/drive/My Drive/yolo_labels1/mdb018.txt\n",
            "Created label file: /content/drive/My Drive/yolo_labels1/mdb019.txt\n",
            "Created label file: /content/drive/My Drive/yolo_labels1/mdb020.txt\n",
            "Created label file: /content/drive/My Drive/yolo_labels1/mdb021.txt\n",
            "Created label file: /content/drive/My Drive/yolo_labels1/mdb022.txt\n",
            "Created label file: /content/drive/My Drive/yolo_labels1/mdb023.txt\n",
            "Created label file: /content/drive/My Drive/yolo_labels1/mdb024.txt\n",
            "Created label file: /content/drive/My Drive/yolo_labels1/mdb025.txt\n",
            "Created label file: /content/drive/My Drive/yolo_labels1/mdb026.txt\n",
            "Created label file: /content/drive/My Drive/yolo_labels1/mdb027.txt\n",
            "Created label file: /content/drive/My Drive/yolo_labels1/mdb028.txt\n",
            "Created label file: /content/drive/My Drive/yolo_labels1/mdb029.txt\n",
            "Created label file: /content/drive/My Drive/yolo_labels1/mdb030.txt\n",
            "Created label file: /content/drive/My Drive/yolo_labels1/mdb031.txt\n",
            "Created label file: /content/drive/My Drive/yolo_labels1/mdb032.txt\n",
            "Created label file: /content/drive/My Drive/yolo_labels1/mdb033.txt\n",
            "Created label file: /content/drive/My Drive/yolo_labels1/mdb034.txt\n",
            "Created label file: /content/drive/My Drive/yolo_labels1/mdb035.txt\n",
            "Created label file: /content/drive/My Drive/yolo_labels1/mdb036.txt\n",
            "Created label file: /content/drive/My Drive/yolo_labels1/mdb037.txt\n",
            "Created label file: /content/drive/My Drive/yolo_labels1/mdb038.txt\n",
            "Created label file: /content/drive/My Drive/yolo_labels1/mdb039.txt\n",
            "Created label file: /content/drive/My Drive/yolo_labels1/mdb040.txt\n",
            "Created label file: /content/drive/My Drive/yolo_labels1/mdb041.txt\n",
            "Created label file: /content/drive/My Drive/yolo_labels1/mdb042.txt\n",
            "Created label file: /content/drive/My Drive/yolo_labels1/mdb043.txt\n",
            "Created label file: /content/drive/My Drive/yolo_labels1/mdb044.txt\n",
            "Created label file: /content/drive/My Drive/yolo_labels1/mdb045.txt\n",
            "Created label file: /content/drive/My Drive/yolo_labels1/mdb046.txt\n",
            "Created label file: /content/drive/My Drive/yolo_labels1/mdb047.txt\n",
            "Created label file: /content/drive/My Drive/yolo_labels1/mdb048.txt\n",
            "Created label file: /content/drive/My Drive/yolo_labels1/mdb049.txt\n",
            "Created label file: /content/drive/My Drive/yolo_labels1/mdb050.txt\n",
            "Created label file: /content/drive/My Drive/yolo_labels1/mdb051.txt\n",
            "Created label file: /content/drive/My Drive/yolo_labels1/mdb052.txt\n",
            "Created label file: /content/drive/My Drive/yolo_labels1/mdb053.txt\n",
            "Created label file: /content/drive/My Drive/yolo_labels1/mdb054.txt\n",
            "Created label file: /content/drive/My Drive/yolo_labels1/mdb055.txt\n",
            "Created label file: /content/drive/My Drive/yolo_labels1/mdb056.txt\n",
            "Created label file: /content/drive/My Drive/yolo_labels1/mdb057.txt\n",
            "Created label file: /content/drive/My Drive/yolo_labels1/mdb058.txt\n",
            "Created label file: /content/drive/My Drive/yolo_labels1/mdb059.txt\n",
            "Created label file: /content/drive/My Drive/yolo_labels1/mdb060.txt\n",
            "Created label file: /content/drive/My Drive/yolo_labels1/mdb061.txt\n",
            "Created label file: /content/drive/My Drive/yolo_labels1/mdb062.txt\n",
            "Created label file: /content/drive/My Drive/yolo_labels1/mdb063.txt\n",
            "Created label file: /content/drive/My Drive/yolo_labels1/mdb064.txt\n",
            "Created label file: /content/drive/My Drive/yolo_labels1/mdb065.txt\n",
            "Created label file: /content/drive/My Drive/yolo_labels1/mdb066.txt\n",
            "Created label file: /content/drive/My Drive/yolo_labels1/mdb067.txt\n",
            "Created label file: /content/drive/My Drive/yolo_labels1/mdb068.txt\n",
            "Created label file: /content/drive/My Drive/yolo_labels1/mdb069.txt\n",
            "Created label file: /content/drive/My Drive/yolo_labels1/mdb070.txt\n",
            "Created label file: /content/drive/My Drive/yolo_labels1/mdb071.txt\n",
            "Created label file: /content/drive/My Drive/yolo_labels1/mdb072.txt\n",
            "Created label file: /content/drive/My Drive/yolo_labels1/mdb073.txt\n",
            "Created label file: /content/drive/My Drive/yolo_labels1/mdb074.txt\n",
            "Created label file: /content/drive/My Drive/yolo_labels1/mdb075.txt\n",
            "Created label file: /content/drive/My Drive/yolo_labels1/mdb076.txt\n",
            "Created label file: /content/drive/My Drive/yolo_labels1/mdb077.txt\n",
            "Created label file: /content/drive/My Drive/yolo_labels1/mdb078.txt\n",
            "Created label file: /content/drive/My Drive/yolo_labels1/mdb079.txt\n",
            "Created label file: /content/drive/My Drive/yolo_labels1/mdb080.txt\n",
            "Created label file: /content/drive/My Drive/yolo_labels1/mdb081.txt\n",
            "Created label file: /content/drive/My Drive/yolo_labels1/mdb082.txt\n",
            "Created label file: /content/drive/My Drive/yolo_labels1/mdb083.txt\n",
            "Created label file: /content/drive/My Drive/yolo_labels1/mdb084.txt\n",
            "Created label file: /content/drive/My Drive/yolo_labels1/mdb085.txt\n",
            "Created label file: /content/drive/My Drive/yolo_labels1/mdb086.txt\n",
            "Created label file: /content/drive/My Drive/yolo_labels1/mdb087.txt\n",
            "Created label file: /content/drive/My Drive/yolo_labels1/mdb088.txt\n",
            "Created label file: /content/drive/My Drive/yolo_labels1/mdb089.txt\n",
            "Created label file: /content/drive/My Drive/yolo_labels1/mdb090.txt\n",
            "Created label file: /content/drive/My Drive/yolo_labels1/mdb091.txt\n",
            "Created label file: /content/drive/My Drive/yolo_labels1/mdb092.txt\n",
            "Created label file: /content/drive/My Drive/yolo_labels1/mdb093.txt\n",
            "Created label file: /content/drive/My Drive/yolo_labels1/mdb094.txt\n",
            "Created label file: /content/drive/My Drive/yolo_labels1/mdb095.txt\n",
            "Created label file: /content/drive/My Drive/yolo_labels1/mdb096.txt\n",
            "Created label file: /content/drive/My Drive/yolo_labels1/mdb097.txt\n",
            "Created label file: /content/drive/My Drive/yolo_labels1/mdb098.txt\n",
            "Created label file: /content/drive/My Drive/yolo_labels1/mdb099.txt\n",
            "Created label file: /content/drive/My Drive/yolo_labels1/mdb100.txt\n",
            "Created label file: /content/drive/My Drive/yolo_labels1/mdb101.txt\n",
            "Created label file: /content/drive/My Drive/yolo_labels1/mdb102.txt\n",
            "Created label file: /content/drive/My Drive/yolo_labels1/mdb103.txt\n",
            "Created label file: /content/drive/My Drive/yolo_labels1/mdb104.txt\n",
            "Created label file: /content/drive/My Drive/yolo_labels1/mdb105.txt\n",
            "Created label file: /content/drive/My Drive/yolo_labels1/mdb106.txt\n",
            "Created label file: /content/drive/My Drive/yolo_labels1/mdb107.txt\n",
            "Created label file: /content/drive/My Drive/yolo_labels1/mdb108.txt\n",
            "Created label file: /content/drive/My Drive/yolo_labels1/mdb109.txt\n",
            "Created label file: /content/drive/My Drive/yolo_labels1/mdb110.txt\n",
            "Created label file: /content/drive/My Drive/yolo_labels1/mdb111.txt\n",
            "Created label file: /content/drive/My Drive/yolo_labels1/mdb112.txt\n",
            "Created label file: /content/drive/My Drive/yolo_labels1/mdb113.txt\n",
            "Created label file: /content/drive/My Drive/yolo_labels1/mdb114.txt\n",
            "Created label file: /content/drive/My Drive/yolo_labels1/mdb115.txt\n",
            "Created label file: /content/drive/My Drive/yolo_labels1/mdb116.txt\n",
            "Created label file: /content/drive/My Drive/yolo_labels1/mdb117.txt\n",
            "Created label file: /content/drive/My Drive/yolo_labels1/mdb118.txt\n",
            "Created label file: /content/drive/My Drive/yolo_labels1/mdb119.txt\n",
            "Created label file: /content/drive/My Drive/yolo_labels1/mdb120.txt\n",
            "Created label file: /content/drive/My Drive/yolo_labels1/mdb121.txt\n",
            "Created label file: /content/drive/My Drive/yolo_labels1/mdb122.txt\n",
            "Created label file: /content/drive/My Drive/yolo_labels1/mdb123.txt\n",
            "Created label file: /content/drive/My Drive/yolo_labels1/mdb124.txt\n",
            "Created label file: /content/drive/My Drive/yolo_labels1/mdb125.txt\n",
            "Created label file: /content/drive/My Drive/yolo_labels1/mdb126.txt\n",
            "Created label file: /content/drive/My Drive/yolo_labels1/mdb127.txt\n",
            "Created label file: /content/drive/My Drive/yolo_labels1/mdb128.txt\n",
            "Created label file: /content/drive/My Drive/yolo_labels1/mdb129.txt\n",
            "Created label file: /content/drive/My Drive/yolo_labels1/mdb130.txt\n",
            "Created label file: /content/drive/My Drive/yolo_labels1/mdb131.txt\n",
            "Created label file: /content/drive/My Drive/yolo_labels1/mdb132.txt\n",
            "Created label file: /content/drive/My Drive/yolo_labels1/mdb132.txt\n",
            "Created label file: /content/drive/My Drive/yolo_labels1/mdb133.txt\n",
            "Created label file: /content/drive/My Drive/yolo_labels1/mdb134.txt\n",
            "Created label file: /content/drive/My Drive/yolo_labels1/mdb135.txt\n",
            "Created label file: /content/drive/My Drive/yolo_labels1/mdb136.txt\n",
            "Created label file: /content/drive/My Drive/yolo_labels1/mdb137.txt\n",
            "Created label file: /content/drive/My Drive/yolo_labels1/mdb138.txt\n",
            "Created label file: /content/drive/My Drive/yolo_labels1/mdb139.txt\n",
            "Created label file: /content/drive/My Drive/yolo_labels1/mdb140.txt\n",
            "Created label file: /content/drive/My Drive/yolo_labels1/mdb141.txt\n",
            "Created label file: /content/drive/My Drive/yolo_labels1/mdb142.txt\n",
            "Created label file: /content/drive/My Drive/yolo_labels1/mdb143.txt\n",
            "Created label file: /content/drive/My Drive/yolo_labels1/mdb144.txt\n",
            "Created label file: /content/drive/My Drive/yolo_labels1/mdb144.txt\n",
            "Created label file: /content/drive/My Drive/yolo_labels1/mdb145.txt\n",
            "Created label file: /content/drive/My Drive/yolo_labels1/mdb146.txt\n",
            "Created label file: /content/drive/My Drive/yolo_labels1/mdb147.txt\n",
            "Created label file: /content/drive/My Drive/yolo_labels1/mdb148.txt\n",
            "Created label file: /content/drive/My Drive/yolo_labels1/mdb149.txt\n",
            "Created label file: /content/drive/My Drive/yolo_labels1/mdb150.txt\n",
            "Created label file: /content/drive/My Drive/yolo_labels1/mdb151.txt\n",
            "Created label file: /content/drive/My Drive/yolo_labels1/mdb152.txt\n",
            "Created label file: /content/drive/My Drive/yolo_labels1/mdb153.txt\n",
            "Created label file: /content/drive/My Drive/yolo_labels1/mdb154.txt\n",
            "Created label file: /content/drive/My Drive/yolo_labels1/mdb155.txt\n",
            "Created label file: /content/drive/My Drive/yolo_labels1/mdb156.txt\n",
            "Created label file: /content/drive/My Drive/yolo_labels1/mdb157.txt\n",
            "Created label file: /content/drive/My Drive/yolo_labels1/mdb158.txt\n",
            "Created label file: /content/drive/My Drive/yolo_labels1/mdb159.txt\n",
            "Created label file: /content/drive/My Drive/yolo_labels1/mdb160.txt\n",
            "Created label file: /content/drive/My Drive/yolo_labels1/mdb161.txt\n",
            "Created label file: /content/drive/My Drive/yolo_labels1/mdb162.txt\n",
            "Created label file: /content/drive/My Drive/yolo_labels1/mdb163.txt\n",
            "Created label file: /content/drive/My Drive/yolo_labels1/mdb164.txt\n",
            "Created label file: /content/drive/My Drive/yolo_labels1/mdb165.txt\n",
            "Created label file: /content/drive/My Drive/yolo_labels1/mdb166.txt\n",
            "Created label file: /content/drive/My Drive/yolo_labels1/mdb167.txt\n",
            "Created label file: /content/drive/My Drive/yolo_labels1/mdb168.txt\n",
            "Created label file: /content/drive/My Drive/yolo_labels1/mdb169.txt\n",
            "Created label file: /content/drive/My Drive/yolo_labels1/mdb170.txt\n",
            "Created label file: /content/drive/My Drive/yolo_labels1/mdb171.txt\n",
            "Created label file: /content/drive/My Drive/yolo_labels1/mdb172.txt\n",
            "Created label file: /content/drive/My Drive/yolo_labels1/mdb173.txt\n",
            "Created label file: /content/drive/My Drive/yolo_labels1/mdb174.txt\n",
            "Created label file: /content/drive/My Drive/yolo_labels1/mdb175.txt\n",
            "Created label file: /content/drive/My Drive/yolo_labels1/mdb176.txt\n",
            "Created label file: /content/drive/My Drive/yolo_labels1/mdb177.txt\n",
            "Created label file: /content/drive/My Drive/yolo_labels1/mdb178.txt\n",
            "Created label file: /content/drive/My Drive/yolo_labels1/mdb179.txt\n",
            "Created label file: /content/drive/My Drive/yolo_labels1/mdb180.txt\n",
            "Created label file: /content/drive/My Drive/yolo_labels1/mdb181.txt\n",
            "Created label file: /content/drive/My Drive/yolo_labels1/mdb182.txt\n",
            "Created label file: /content/drive/My Drive/yolo_labels1/mdb183.txt\n",
            "Created label file: /content/drive/My Drive/yolo_labels1/mdb184.txt\n",
            "Created label file: /content/drive/My Drive/yolo_labels1/mdb185.txt\n",
            "Created label file: /content/drive/My Drive/yolo_labels1/mdb186.txt\n",
            "Created label file: /content/drive/My Drive/yolo_labels1/mdb187.txt\n",
            "Created label file: /content/drive/My Drive/yolo_labels1/mdb188.txt\n",
            "Created label file: /content/drive/My Drive/yolo_labels1/mdb189.txt\n",
            "Created label file: /content/drive/My Drive/yolo_labels1/mdb190.txt\n",
            "Created label file: /content/drive/My Drive/yolo_labels1/mdb191.txt\n",
            "Created label file: /content/drive/My Drive/yolo_labels1/mdb192.txt\n",
            "Created label file: /content/drive/My Drive/yolo_labels1/mdb193.txt\n",
            "Created label file: /content/drive/My Drive/yolo_labels1/mdb194.txt\n",
            "Created label file: /content/drive/My Drive/yolo_labels1/mdb195.txt\n",
            "Created label file: /content/drive/My Drive/yolo_labels1/mdb196.txt\n",
            "Created label file: /content/drive/My Drive/yolo_labels1/mdb197.txt\n",
            "Created label file: /content/drive/My Drive/yolo_labels1/mdb198.txt\n",
            "Created label file: /content/drive/My Drive/yolo_labels1/mdb199.txt\n",
            "Created label file: /content/drive/My Drive/yolo_labels1/mdb200.txt\n",
            "Created label file: /content/drive/My Drive/yolo_labels1/mdb201.txt\n",
            "Created label file: /content/drive/My Drive/yolo_labels1/mdb202.txt\n",
            "Created label file: /content/drive/My Drive/yolo_labels1/mdb203.txt\n",
            "Created label file: /content/drive/My Drive/yolo_labels1/mdb204.txt\n",
            "Created label file: /content/drive/My Drive/yolo_labels1/mdb205.txt\n",
            "Created label file: /content/drive/My Drive/yolo_labels1/mdb206.txt\n",
            "Created label file: /content/drive/My Drive/yolo_labels1/mdb207.txt\n",
            "Created label file: /content/drive/My Drive/yolo_labels1/mdb208.txt\n",
            "Created label file: /content/drive/My Drive/yolo_labels1/mdb209.txt\n",
            "Created label file: /content/drive/My Drive/yolo_labels1/mdb210.txt\n",
            "Created label file: /content/drive/My Drive/yolo_labels1/mdb211.txt\n",
            "Created label file: /content/drive/My Drive/yolo_labels1/mdb212.txt\n",
            "Created label file: /content/drive/My Drive/yolo_labels1/mdb213.txt\n",
            "Created label file: /content/drive/My Drive/yolo_labels1/mdb214.txt\n",
            "Created label file: /content/drive/My Drive/yolo_labels1/mdb215.txt\n",
            "Created label file: /content/drive/My Drive/yolo_labels1/mdb216.txt\n",
            "Created label file: /content/drive/My Drive/yolo_labels1/mdb217.txt\n",
            "Created label file: /content/drive/My Drive/yolo_labels1/mdb218.txt\n",
            "Created label file: /content/drive/My Drive/yolo_labels1/mdb219.txt\n",
            "Created label file: /content/drive/My Drive/yolo_labels1/mdb220.txt\n",
            "Created label file: /content/drive/My Drive/yolo_labels1/mdb221.txt\n",
            "Created label file: /content/drive/My Drive/yolo_labels1/mdb222.txt\n",
            "Created label file: /content/drive/My Drive/yolo_labels1/mdb223.txt\n",
            "Created label file: /content/drive/My Drive/yolo_labels1/mdb223.txt\n",
            "Created label file: /content/drive/My Drive/yolo_labels1/mdb224.txt\n",
            "Created label file: /content/drive/My Drive/yolo_labels1/mdb225.txt\n",
            "Created label file: /content/drive/My Drive/yolo_labels1/mdb226.txt\n",
            "Created label file: /content/drive/My Drive/yolo_labels1/mdb226.txt\n",
            "Created label file: /content/drive/My Drive/yolo_labels1/mdb226.txt\n",
            "Created label file: /content/drive/My Drive/yolo_labels1/mdb227.txt\n",
            "Created label file: /content/drive/My Drive/yolo_labels1/mdb228.txt\n",
            "Created label file: /content/drive/My Drive/yolo_labels1/mdb229.txt\n",
            "Created label file: /content/drive/My Drive/yolo_labels1/mdb230.txt\n",
            "Created label file: /content/drive/My Drive/yolo_labels1/mdb231.txt\n",
            "Created label file: /content/drive/My Drive/yolo_labels1/mdb232.txt\n",
            "Created label file: /content/drive/My Drive/yolo_labels1/mdb233.txt\n",
            "Created label file: /content/drive/My Drive/yolo_labels1/mdb234.txt\n",
            "Created label file: /content/drive/My Drive/yolo_labels1/mdb235.txt\n",
            "Created label file: /content/drive/My Drive/yolo_labels1/mdb236.txt\n",
            "Created label file: /content/drive/My Drive/yolo_labels1/mdb237.txt\n",
            "Created label file: /content/drive/My Drive/yolo_labels1/mdb238.txt\n",
            "Created label file: /content/drive/My Drive/yolo_labels1/mdb239.txt\n",
            "Created label file: /content/drive/My Drive/yolo_labels1/mdb239.txt\n",
            "Created label file: /content/drive/My Drive/yolo_labels1/mdb240.txt\n",
            "Created label file: /content/drive/My Drive/yolo_labels1/mdb241.txt\n",
            "Created label file: /content/drive/My Drive/yolo_labels1/mdb242.txt\n",
            "Created label file: /content/drive/My Drive/yolo_labels1/mdb243.txt\n",
            "Created label file: /content/drive/My Drive/yolo_labels1/mdb244.txt\n",
            "Created label file: /content/drive/My Drive/yolo_labels1/mdb245.txt\n",
            "Created label file: /content/drive/My Drive/yolo_labels1/mdb246.txt\n",
            "Created label file: /content/drive/My Drive/yolo_labels1/mdb247.txt\n",
            "Created label file: /content/drive/My Drive/yolo_labels1/mdb248.txt\n",
            "Created label file: /content/drive/My Drive/yolo_labels1/mdb249.txt\n",
            "Created label file: /content/drive/My Drive/yolo_labels1/mdb249.txt\n",
            "Created label file: /content/drive/My Drive/yolo_labels1/mdb250.txt\n",
            "Created label file: /content/drive/My Drive/yolo_labels1/mdb251.txt\n",
            "Created label file: /content/drive/My Drive/yolo_labels1/mdb252.txt\n",
            "Created label file: /content/drive/My Drive/yolo_labels1/mdb253.txt\n",
            "Created label file: /content/drive/My Drive/yolo_labels1/mdb254.txt\n",
            "Created label file: /content/drive/My Drive/yolo_labels1/mdb255.txt\n",
            "Created label file: /content/drive/My Drive/yolo_labels1/mdb256.txt\n",
            "Created label file: /content/drive/My Drive/yolo_labels1/mdb257.txt\n",
            "Created label file: /content/drive/My Drive/yolo_labels1/mdb258.txt\n",
            "Created label file: /content/drive/My Drive/yolo_labels1/mdb259.txt\n",
            "Created label file: /content/drive/My Drive/yolo_labels1/mdb260.txt\n",
            "Created label file: /content/drive/My Drive/yolo_labels1/mdb261.txt\n",
            "Created label file: /content/drive/My Drive/yolo_labels1/mdb262.txt\n",
            "Created label file: /content/drive/My Drive/yolo_labels1/mdb263.txt\n",
            "Created label file: /content/drive/My Drive/yolo_labels1/mdb264.txt\n",
            "Created label file: /content/drive/My Drive/yolo_labels1/mdb265.txt\n",
            "Created label file: /content/drive/My Drive/yolo_labels1/mdb266.txt\n",
            "Created label file: /content/drive/My Drive/yolo_labels1/mdb267.txt\n",
            "Created label file: /content/drive/My Drive/yolo_labels1/mdb268.txt\n",
            "Created label file: /content/drive/My Drive/yolo_labels1/mdb269.txt\n",
            "Created label file: /content/drive/My Drive/yolo_labels1/mdb270.txt\n",
            "Created label file: /content/drive/My Drive/yolo_labels1/mdb271.txt\n",
            "Created label file: /content/drive/My Drive/yolo_labels1/mdb272.txt\n",
            "Created label file: /content/drive/My Drive/yolo_labels1/mdb273.txt\n",
            "Created label file: /content/drive/My Drive/yolo_labels1/mdb274.txt\n",
            "Created label file: /content/drive/My Drive/yolo_labels1/mdb275.txt\n",
            "Created label file: /content/drive/My Drive/yolo_labels1/mdb276.txt\n",
            "Created label file: /content/drive/My Drive/yolo_labels1/mdb277.txt\n",
            "Created label file: /content/drive/My Drive/yolo_labels1/mdb278.txt\n",
            "Created label file: /content/drive/My Drive/yolo_labels1/mdb279.txt\n",
            "Created label file: /content/drive/My Drive/yolo_labels1/mdb280.txt\n",
            "Created label file: /content/drive/My Drive/yolo_labels1/mdb281.txt\n",
            "Created label file: /content/drive/My Drive/yolo_labels1/mdb282.txt\n",
            "Created label file: /content/drive/My Drive/yolo_labels1/mdb283.txt\n",
            "Created label file: /content/drive/My Drive/yolo_labels1/mdb284.txt\n",
            "Created label file: /content/drive/My Drive/yolo_labels1/mdb285.txt\n",
            "Created label file: /content/drive/My Drive/yolo_labels1/mdb286.txt\n",
            "Created label file: /content/drive/My Drive/yolo_labels1/mdb287.txt\n",
            "Created label file: /content/drive/My Drive/yolo_labels1/mdb288.txt\n",
            "Created label file: /content/drive/My Drive/yolo_labels1/mdb289.txt\n",
            "Created label file: /content/drive/My Drive/yolo_labels1/mdb290.txt\n",
            "Created label file: /content/drive/My Drive/yolo_labels1/mdb291.txt\n",
            "Created label file: /content/drive/My Drive/yolo_labels1/mdb292.txt\n",
            "Created label file: /content/drive/My Drive/yolo_labels1/mdb293.txt\n",
            "Created label file: /content/drive/My Drive/yolo_labels1/mdb294.txt\n",
            "Created label file: /content/drive/My Drive/yolo_labels1/mdb295.txt\n",
            "Created label file: /content/drive/My Drive/yolo_labels1/mdb296.txt\n",
            "Created label file: /content/drive/My Drive/yolo_labels1/mdb297.txt\n",
            "Created label file: /content/drive/My Drive/yolo_labels1/mdb298.txt\n",
            "Created label file: /content/drive/My Drive/yolo_labels1/mdb299.txt\n",
            "Created label file: /content/drive/My Drive/yolo_labels1/mdb300.txt\n",
            "Created label file: /content/drive/My Drive/yolo_labels1/mdb301.txt\n",
            "Created label file: /content/drive/My Drive/yolo_labels1/mdb302.txt\n",
            "Created label file: /content/drive/My Drive/yolo_labels1/mdb303.txt\n",
            "Created label file: /content/drive/My Drive/yolo_labels1/mdb304.txt\n",
            "Created label file: /content/drive/My Drive/yolo_labels1/mdb305.txt\n",
            "Created label file: /content/drive/My Drive/yolo_labels1/mdb306.txt\n",
            "Created label file: /content/drive/My Drive/yolo_labels1/mdb307.txt\n",
            "Created label file: /content/drive/My Drive/yolo_labels1/mdb308.txt\n",
            "Created label file: /content/drive/My Drive/yolo_labels1/mdb309.txt\n",
            "Created label file: /content/drive/My Drive/yolo_labels1/mdb310.txt\n",
            "Created label file: /content/drive/My Drive/yolo_labels1/mdb311.txt\n",
            "Created label file: /content/drive/My Drive/yolo_labels1/mdb312.txt\n",
            "Created label file: /content/drive/My Drive/yolo_labels1/mdb313.txt\n",
            "Created label file: /content/drive/My Drive/yolo_labels1/mdb314.txt\n",
            "Created label file: /content/drive/My Drive/yolo_labels1/mdb315.txt\n",
            "Created label file: /content/drive/My Drive/yolo_labels1/mdb316.txt\n",
            "Created label file: /content/drive/My Drive/yolo_labels1/mdb317.txt\n",
            "Created label file: /content/drive/My Drive/yolo_labels1/mdb318.txt\n",
            "Created label file: /content/drive/My Drive/yolo_labels1/mdb319.txt\n",
            "Created label file: /content/drive/My Drive/yolo_labels1/mdb320.txt\n",
            "Created label file: /content/drive/My Drive/yolo_labels1/mdb321.txt\n",
            "Created label file: /content/drive/My Drive/yolo_labels1/mdb322.txt\n",
            "Created label file: /content/drive/My Drive/yolo_labels1/aug_1_mdb023.png.txt\n",
            "Created label file: /content/drive/My Drive/yolo_labels1/aug_2_mdb028.png.txt\n",
            "Created label file: /content/drive/My Drive/yolo_labels1/aug_3_mdb058.png.txt\n",
            "Created label file: /content/drive/My Drive/yolo_labels1/aug_4_mdb072.png.txt\n",
            "Created label file: /content/drive/My Drive/yolo_labels1/aug_5_mdb075.png.txt\n",
            "Created label file: /content/drive/My Drive/yolo_labels1/aug_6_mdb090.png.txt\n",
            "Created label file: /content/drive/My Drive/yolo_labels1/aug_7_mdb092.png.txt\n",
            "Created label file: /content/drive/My Drive/yolo_labels1/aug_8_mdb095.png.txt\n",
            "Created label file: /content/drive/My Drive/yolo_labels1/aug_9_mdb102.png.txt\n",
            "Created label file: /content/drive/My Drive/yolo_labels1/aug_10_mdb105.png.txt\n",
            "Created label file: /content/drive/My Drive/yolo_labels1/aug_11_mdb110.png.txt\n",
            "Created label file: /content/drive/My Drive/yolo_labels1/aug_12_mdb111.png.txt\n",
            "Created label file: /content/drive/My Drive/yolo_labels1/aug_13_mdb115.png.txt\n",
            "Created label file: /content/drive/My Drive/yolo_labels1/aug_14_mdb117.png.txt\n",
            "Created label file: /content/drive/My Drive/yolo_labels1/aug_15_mdb120.png.txt\n",
            "Created label file: /content/drive/My Drive/yolo_labels1/aug_16_mdb124.png.txt\n",
            "Created label file: /content/drive/My Drive/yolo_labels1/aug_17_mdb125.png.txt\n",
            "Created label file: /content/drive/My Drive/yolo_labels1/aug_18_mdb130.png.txt\n",
            "Created label file: /content/drive/My Drive/yolo_labels1/aug_19_mdb134.png.txt\n",
            "Created label file: /content/drive/My Drive/yolo_labels1/aug_20_mdb141.png.txt\n",
            "Created label file: /content/drive/My Drive/yolo_labels1/aug_21_mdb148.png.txt\n",
            "Created label file: /content/drive/My Drive/yolo_labels1/aug_22_mdb155.png.txt\n",
            "Created label file: /content/drive/My Drive/yolo_labels1/aug_23_mdb158.png.txt\n",
            "Created label file: /content/drive/My Drive/yolo_labels1/aug_24_mdb170.png.txt\n",
            "Created label file: /content/drive/My Drive/yolo_labels1/aug_25_mdb171.png.txt\n",
            "Created label file: /content/drive/My Drive/yolo_labels1/aug_26_mdb178.png.txt\n",
            "Created label file: /content/drive/My Drive/yolo_labels1/aug_27_mdb179.png.txt\n",
            "Created label file: /content/drive/My Drive/yolo_labels1/aug_28_mdb181.png.txt\n",
            "Created label file: /content/drive/My Drive/yolo_labels1/aug_29_mdb184.png.txt\n",
            "Created label file: /content/drive/My Drive/yolo_labels1/aug_30_mdb186.png.txt\n",
            "Created label file: /content/drive/My Drive/yolo_labels1/aug_31_mdb202.png.txt\n",
            "Created label file: /content/drive/My Drive/yolo_labels1/aug_32_mdb206.png.txt\n",
            "Created label file: /content/drive/My Drive/yolo_labels1/aug_33_mdb209.png.txt\n",
            "Created label file: /content/drive/My Drive/yolo_labels1/aug_34_mdb211.png.txt\n",
            "Created label file: /content/drive/My Drive/yolo_labels1/aug_35_mdb213.png.txt\n",
            "Created label file: /content/drive/My Drive/yolo_labels1/aug_36_mdb216.png.txt\n",
            "Created label file: /content/drive/My Drive/yolo_labels1/aug_37_mdb231.png.txt\n",
            "Created label file: /content/drive/My Drive/yolo_labels1/aug_38_mdb233.png.txt\n",
            "Created label file: /content/drive/My Drive/yolo_labels1/aug_39_mdb238.png.txt\n",
            "Created label file: /content/drive/My Drive/yolo_labels1/aug_40_mdb239.png.txt\n",
            "Created label file: /content/drive/My Drive/yolo_labels1/aug_40_mdb239.png.txt\n",
            "Created label file: /content/drive/My Drive/yolo_labels1/aug_41_mdb241.png.txt\n",
            "Created label file: /content/drive/My Drive/yolo_labels1/aug_42_mdb245.png.txt\n",
            "Created label file: /content/drive/My Drive/yolo_labels1/aug_43_mdb249.png.txt\n",
            "Created label file: /content/drive/My Drive/yolo_labels1/aug_43_mdb249.png.txt\n",
            "Created label file: /content/drive/My Drive/yolo_labels1/aug_44_mdb253.png.txt\n",
            "Created label file: /content/drive/My Drive/yolo_labels1/aug_45_mdb256.png.txt\n",
            "Created label file: /content/drive/My Drive/yolo_labels1/aug_46_mdb264.png.txt\n",
            "Created label file: /content/drive/My Drive/yolo_labels1/aug_47_mdb265.png.txt\n",
            "Created label file: /content/drive/My Drive/yolo_labels1/aug_48_mdb267.png.txt\n",
            "Created label file: /content/drive/My Drive/yolo_labels1/aug_49_mdb270.png.txt\n",
            "Created label file: /content/drive/My Drive/yolo_labels1/aug_50_mdb271.png.txt\n",
            "Created label file: /content/drive/My Drive/yolo_labels1/aug_51_mdb274.png.txt\n",
            "Created label file: /content/drive/My Drive/yolo_labels1/aug_1_mdb001.png.txt\n",
            "Created label file: /content/drive/My Drive/yolo_labels1/aug_2_mdb002.png.txt\n",
            "Created label file: /content/drive/My Drive/yolo_labels1/aug_3_mdb005.png.txt\n",
            "Created label file: /content/drive/My Drive/yolo_labels1/aug_3_mdb005.png.txt\n",
            "Created label file: /content/drive/My Drive/yolo_labels1/aug_4_mdb010.png.txt\n",
            "Created label file: /content/drive/My Drive/yolo_labels1/aug_5_mdb012.png.txt\n",
            "Created label file: /content/drive/My Drive/yolo_labels1/aug_6_mdb013.png.txt\n",
            "Created label file: /content/drive/My Drive/yolo_labels1/aug_7_mdb015.png.txt\n",
            "Created label file: /content/drive/My Drive/yolo_labels1/aug_8_mdb017.png.txt\n",
            "Created label file: /content/drive/My Drive/yolo_labels1/aug_9_mdb019.png.txt\n",
            "Created label file: /content/drive/My Drive/yolo_labels1/aug_10_mdb021.png.txt\n",
            "Created label file: /content/drive/My Drive/yolo_labels1/aug_11_mdb025.png.txt\n",
            "Created label file: /content/drive/My Drive/yolo_labels1/aug_12_mdb030.png.txt\n",
            "Created label file: /content/drive/My Drive/yolo_labels1/aug_13_mdb032.png.txt\n",
            "Created label file: /content/drive/My Drive/yolo_labels1/aug_14_mdb063.png.txt\n",
            "Created label file: /content/drive/My Drive/yolo_labels1/aug_15_mdb069.png.txt\n",
            "Created label file: /content/drive/My Drive/yolo_labels1/aug_16_mdb080.png.txt\n",
            "Created label file: /content/drive/My Drive/yolo_labels1/aug_17_mdb081.png.txt\n",
            "Created label file: /content/drive/My Drive/yolo_labels1/aug_18_mdb083.png.txt\n",
            "Created label file: /content/drive/My Drive/yolo_labels1/aug_19_mdb091.png.txt\n",
            "Created label file: /content/drive/My Drive/yolo_labels1/aug_20_mdb097.png.txt\n",
            "Created label file: /content/drive/My Drive/yolo_labels1/aug_21_mdb099.png.txt\n",
            "Created label file: /content/drive/My Drive/yolo_labels1/aug_22_mdb104.png.txt\n",
            "Created label file: /content/drive/My Drive/yolo_labels1/aug_23_mdb107.png.txt\n",
            "Created label file: /content/drive/My Drive/yolo_labels1/aug_24_mdb121.png.txt\n",
            "Created label file: /content/drive/My Drive/yolo_labels1/aug_25_mdb126.png.txt\n",
            "Created label file: /content/drive/My Drive/yolo_labels1/aug_26_mdb127.png.txt\n",
            "Created label file: /content/drive/My Drive/yolo_labels1/aug_27_mdb132.png.txt\n",
            "Created label file: /content/drive/My Drive/yolo_labels1/aug_27_mdb132.png.txt\n",
            "Created label file: /content/drive/My Drive/yolo_labels1/aug_28_mdb142.png.txt\n",
            "Created label file: /content/drive/My Drive/yolo_labels1/aug_29_mdb144.png.txt\n",
            "Created label file: /content/drive/My Drive/yolo_labels1/aug_29_mdb144.png.txt\n",
            "Created label file: /content/drive/My Drive/yolo_labels1/aug_30_mdb145.png.txt\n",
            "Created label file: /content/drive/My Drive/yolo_labels1/aug_31_mdb150.png.txt\n",
            "Created label file: /content/drive/My Drive/yolo_labels1/aug_32_mdb152.png.txt\n",
            "Created label file: /content/drive/My Drive/yolo_labels1/aug_33_mdb160.png.txt\n",
            "Created label file: /content/drive/My Drive/yolo_labels1/aug_34_mdb163.png.txt\n",
            "Created label file: /content/drive/My Drive/yolo_labels1/aug_35_mdb165.png.txt\n",
            "Created label file: /content/drive/My Drive/yolo_labels1/aug_36_mdb167.png.txt\n",
            "Created label file: /content/drive/My Drive/yolo_labels1/aug_37_mdb175.png.txt\n",
            "Created label file: /content/drive/My Drive/yolo_labels1/aug_38_mdb188.png.txt\n",
            "Created label file: /content/drive/My Drive/yolo_labels1/aug_39_mdb190.png.txt\n",
            "Created label file: /content/drive/My Drive/yolo_labels1/aug_40_mdb191.png.txt\n",
            "Created label file: /content/drive/My Drive/yolo_labels1/aug_41_mdb193.png.txt\n",
            "Created label file: /content/drive/My Drive/yolo_labels1/aug_42_mdb195.png.txt\n",
            "Created label file: /content/drive/My Drive/yolo_labels1/aug_43_mdb198.png.txt\n",
            "Created label file: /content/drive/My Drive/yolo_labels1/aug_44_mdb199.png.txt\n",
            "Created label file: /content/drive/My Drive/yolo_labels1/aug_45_mdb204.png.txt\n",
            "Created label file: /content/drive/My Drive/yolo_labels1/aug_46_mdb207.png.txt\n",
            "Created label file: /content/drive/My Drive/yolo_labels1/aug_47_mdb212.png.txt\n",
            "Created label file: /content/drive/My Drive/yolo_labels1/aug_48_mdb214.png.txt\n",
            "Created label file: /content/drive/My Drive/yolo_labels1/aug_49_mdb218.png.txt\n",
            "Created label file: /content/drive/My Drive/yolo_labels1/aug_50_mdb219.png.txt\n",
            "Created label file: /content/drive/My Drive/yolo_labels1/aug_51_mdb222.png.txt\n",
            "Created label file: /content/drive/My Drive/yolo_labels1/aug_52_mdb223.png.txt\n",
            "Created label file: /content/drive/My Drive/yolo_labels1/aug_52_mdb223.png.txt\n",
            "Created label file: /content/drive/My Drive/yolo_labels1/aug_53_mdb226.png.txt\n",
            "Created label file: /content/drive/My Drive/yolo_labels1/aug_53_mdb226.png.txt\n",
            "Created label file: /content/drive/My Drive/yolo_labels1/aug_53_mdb226.png.txt\n",
            "Created label file: /content/drive/My Drive/yolo_labels1/aug_54_mdb227.png.txt\n",
            "Created label file: /content/drive/My Drive/yolo_labels1/aug_55_mdb236.png.txt\n",
            "Created label file: /content/drive/My Drive/yolo_labels1/aug_56_mdb240.png.txt\n",
            "Created label file: /content/drive/My Drive/yolo_labels1/aug_57_mdb244.png.txt\n",
            "Created label file: /content/drive/My Drive/yolo_labels1/aug_58_mdb248.png.txt\n",
            "Created label file: /content/drive/My Drive/yolo_labels1/aug_59_mdb252.png.txt\n",
            "Created label file: /content/drive/My Drive/yolo_labels1/aug_60_mdb290.png.txt\n",
            "Created label file: /content/drive/My Drive/yolo_labels1/aug_61_mdb312.png.txt\n",
            "Created label file: /content/drive/My Drive/yolo_labels1/aug_62_mdb314.png.txt\n",
            "Created label file: /content/drive/My Drive/yolo_labels1/aug_63_mdb315.png.txt\n",
            "YOLO labels have been saved to: /content/drive/My Drive/yolo_labels1\n"
          ]
        }
      ],
      "source": [
        "import pandas as pd\n",
        "import os\n",
        "from google.colab import drive\n",
        "\n",
        "# Mount Google Drive\n",
        "drive.mount('/content/drive')\n",
        "\n",
        "# Load the annotation file\n",
        "annotations_path = '/content/drive/My Drive/breast_cancer_annotations/final_breast_cancer_annotations14.csv'\n",
        "annotations = pd.read_csv(annotations_path)\n",
        "\n",
        "# Define the image dimensions (assuming all images are of the same size)\n",
        "image_width = 1024\n",
        "image_height = 1024\n",
        "\n",
        "# Create directory to save YOLO labels in Google Drive\n",
        "yolo_labels_dir = '/content/drive/My Drive/yolo_labels1'\n",
        "os.makedirs(yolo_labels_dir, exist_ok=True)\n",
        "\n",
        "# Process annotations to create YOLO label files\n",
        "for index, row in annotations.iterrows():\n",
        "    # Skip rows without abnormality information\n",
        "    if pd.isna(row['X_Center']) or pd.isna(row['Y_Center']) or pd.isna(row['Radius']):\n",
        "        continue\n",
        "\n",
        "    # Extract class and normalize coordinates\n",
        "    class_id = row['Label']  # Assume Label: 0 = Normal, 1 = Benign, 2 = Malignant\n",
        "    x_center = row['X_Center'] / image_width\n",
        "    y_center = row['Y_Center'] / image_height\n",
        "    width = (2 * row['Radius']) / image_width\n",
        "    height = (2 * row['Radius']) / image_height\n",
        "\n",
        "    # Ensure coordinates are within the bounds [0, 1]\n",
        "    x_center = min(max(x_center, 0), 1)\n",
        "    y_center = min(max(y_center, 0), 1)\n",
        "    width = min(max(width, 0), 1)\n",
        "    height = min(max(height, 0), 1)\n",
        "\n",
        "    # Create YOLO label file\n",
        "    image_id = row['Image_ID']\n",
        "    label_file_path = os.path.join(yolo_labels_dir, f\"{image_id}.txt\")\n",
        "    with open(label_file_path, 'w') as f:\n",
        "        f.write(f\"{int(class_id)} {x_center:.6f} {y_center:.6f} {width:.6f} {height:.6f}\\n\")\n",
        "    print(f\"Created label file: {label_file_path}\")  # Debugging message\n",
        "\n",
        "print(f\"YOLO labels have been saved to: {yolo_labels_dir}\")\n"
      ]
    },
    {
      "cell_type": "code",
      "execution_count": null,
      "metadata": {
        "colab": {
          "base_uri": "https://localhost:8080/"
        },
        "id": "yPKL9_R5-ea5",
        "outputId": "b3fd0914-8ddf-4e08-efd7-73d949fc02a0"
      },
      "outputs": [
        {
          "output_type": "stream",
          "name": "stdout",
          "text": [
            "Không tìm thấy ảnh cho nhãn: mdb059.txt\n",
            "Không tìm thấy ảnh cho nhãn: aug_1_mdb023.png.txt\n",
            "Không tìm thấy ảnh cho nhãn: aug_2_mdb028.png.txt\n",
            "Không tìm thấy ảnh cho nhãn: aug_3_mdb058.png.txt\n",
            "Không tìm thấy ảnh cho nhãn: aug_4_mdb072.png.txt\n",
            "Không tìm thấy ảnh cho nhãn: aug_5_mdb075.png.txt\n",
            "Không tìm thấy ảnh cho nhãn: aug_6_mdb090.png.txt\n",
            "Không tìm thấy ảnh cho nhãn: aug_7_mdb092.png.txt\n",
            "Không tìm thấy ảnh cho nhãn: aug_8_mdb095.png.txt\n",
            "Không tìm thấy ảnh cho nhãn: aug_9_mdb102.png.txt\n",
            "Không tìm thấy ảnh cho nhãn: aug_10_mdb105.png.txt\n",
            "Không tìm thấy ảnh cho nhãn: aug_11_mdb110.png.txt\n",
            "Không tìm thấy ảnh cho nhãn: aug_12_mdb111.png.txt\n",
            "Không tìm thấy ảnh cho nhãn: aug_13_mdb115.png.txt\n",
            "Không tìm thấy ảnh cho nhãn: aug_14_mdb117.png.txt\n",
            "Không tìm thấy ảnh cho nhãn: aug_15_mdb120.png.txt\n",
            "Không tìm thấy ảnh cho nhãn: aug_16_mdb124.png.txt\n",
            "Không tìm thấy ảnh cho nhãn: aug_17_mdb125.png.txt\n",
            "Không tìm thấy ảnh cho nhãn: aug_18_mdb130.png.txt\n",
            "Không tìm thấy ảnh cho nhãn: aug_19_mdb134.png.txt\n",
            "Không tìm thấy ảnh cho nhãn: aug_20_mdb141.png.txt\n",
            "Không tìm thấy ảnh cho nhãn: aug_21_mdb148.png.txt\n",
            "Không tìm thấy ảnh cho nhãn: aug_22_mdb155.png.txt\n",
            "Không tìm thấy ảnh cho nhãn: aug_23_mdb158.png.txt\n",
            "Không tìm thấy ảnh cho nhãn: aug_24_mdb170.png.txt\n",
            "Không tìm thấy ảnh cho nhãn: aug_25_mdb171.png.txt\n",
            "Không tìm thấy ảnh cho nhãn: aug_26_mdb178.png.txt\n",
            "Không tìm thấy ảnh cho nhãn: aug_27_mdb179.png.txt\n",
            "Không tìm thấy ảnh cho nhãn: aug_28_mdb181.png.txt\n",
            "Không tìm thấy ảnh cho nhãn: aug_29_mdb184.png.txt\n",
            "Không tìm thấy ảnh cho nhãn: aug_30_mdb186.png.txt\n",
            "Không tìm thấy ảnh cho nhãn: aug_31_mdb202.png.txt\n",
            "Không tìm thấy ảnh cho nhãn: aug_32_mdb206.png.txt\n",
            "Không tìm thấy ảnh cho nhãn: aug_33_mdb209.png.txt\n",
            "Không tìm thấy ảnh cho nhãn: aug_34_mdb211.png.txt\n",
            "Không tìm thấy ảnh cho nhãn: aug_35_mdb213.png.txt\n",
            "Không tìm thấy ảnh cho nhãn: aug_36_mdb216.png.txt\n",
            "Không tìm thấy ảnh cho nhãn: aug_37_mdb231.png.txt\n",
            "Không tìm thấy ảnh cho nhãn: aug_38_mdb233.png.txt\n",
            "Không tìm thấy ảnh cho nhãn: aug_39_mdb238.png.txt\n",
            "Không tìm thấy ảnh cho nhãn: aug_40_mdb239.png.txt\n",
            "Không tìm thấy ảnh cho nhãn: aug_41_mdb241.png.txt\n",
            "Không tìm thấy ảnh cho nhãn: aug_42_mdb245.png.txt\n",
            "Không tìm thấy ảnh cho nhãn: aug_43_mdb249.png.txt\n",
            "Không tìm thấy ảnh cho nhãn: aug_44_mdb253.png.txt\n",
            "Không tìm thấy ảnh cho nhãn: aug_45_mdb256.png.txt\n",
            "Không tìm thấy ảnh cho nhãn: aug_46_mdb264.png.txt\n",
            "Không tìm thấy ảnh cho nhãn: aug_47_mdb265.png.txt\n",
            "Không tìm thấy ảnh cho nhãn: aug_48_mdb267.png.txt\n",
            "Không tìm thấy ảnh cho nhãn: aug_49_mdb270.png.txt\n",
            "Không tìm thấy ảnh cho nhãn: aug_50_mdb271.png.txt\n",
            "Không tìm thấy ảnh cho nhãn: aug_51_mdb274.png.txt\n",
            "Không tìm thấy ảnh cho nhãn: aug_1_mdb001.png.txt\n",
            "Không tìm thấy ảnh cho nhãn: aug_2_mdb002.png.txt\n",
            "Không tìm thấy ảnh cho nhãn: aug_3_mdb005.png.txt\n",
            "Không tìm thấy ảnh cho nhãn: aug_4_mdb010.png.txt\n",
            "Không tìm thấy ảnh cho nhãn: aug_5_mdb012.png.txt\n",
            "Không tìm thấy ảnh cho nhãn: aug_6_mdb013.png.txt\n",
            "Không tìm thấy ảnh cho nhãn: aug_7_mdb015.png.txt\n",
            "Không tìm thấy ảnh cho nhãn: aug_8_mdb017.png.txt\n",
            "Không tìm thấy ảnh cho nhãn: aug_9_mdb019.png.txt\n",
            "Không tìm thấy ảnh cho nhãn: aug_10_mdb021.png.txt\n",
            "Không tìm thấy ảnh cho nhãn: aug_11_mdb025.png.txt\n",
            "Không tìm thấy ảnh cho nhãn: aug_12_mdb030.png.txt\n",
            "Không tìm thấy ảnh cho nhãn: aug_13_mdb032.png.txt\n",
            "Không tìm thấy ảnh cho nhãn: aug_14_mdb063.png.txt\n",
            "Không tìm thấy ảnh cho nhãn: aug_15_mdb069.png.txt\n",
            "Không tìm thấy ảnh cho nhãn: aug_16_mdb080.png.txt\n",
            "Không tìm thấy ảnh cho nhãn: aug_17_mdb081.png.txt\n",
            "Không tìm thấy ảnh cho nhãn: aug_18_mdb083.png.txt\n",
            "Không tìm thấy ảnh cho nhãn: aug_19_mdb091.png.txt\n",
            "Không tìm thấy ảnh cho nhãn: aug_20_mdb097.png.txt\n",
            "Không tìm thấy ảnh cho nhãn: aug_21_mdb099.png.txt\n",
            "Không tìm thấy ảnh cho nhãn: aug_22_mdb104.png.txt\n",
            "Không tìm thấy ảnh cho nhãn: aug_23_mdb107.png.txt\n",
            "Không tìm thấy ảnh cho nhãn: aug_24_mdb121.png.txt\n",
            "Không tìm thấy ảnh cho nhãn: aug_25_mdb126.png.txt\n",
            "Không tìm thấy ảnh cho nhãn: aug_26_mdb127.png.txt\n",
            "Không tìm thấy ảnh cho nhãn: aug_27_mdb132.png.txt\n",
            "Không tìm thấy ảnh cho nhãn: aug_28_mdb142.png.txt\n",
            "Không tìm thấy ảnh cho nhãn: aug_29_mdb144.png.txt\n",
            "Không tìm thấy ảnh cho nhãn: aug_30_mdb145.png.txt\n",
            "Không tìm thấy ảnh cho nhãn: aug_31_mdb150.png.txt\n",
            "Không tìm thấy ảnh cho nhãn: aug_32_mdb152.png.txt\n",
            "Không tìm thấy ảnh cho nhãn: aug_33_mdb160.png.txt\n",
            "Không tìm thấy ảnh cho nhãn: aug_34_mdb163.png.txt\n",
            "Không tìm thấy ảnh cho nhãn: aug_35_mdb165.png.txt\n",
            "Không tìm thấy ảnh cho nhãn: aug_36_mdb167.png.txt\n",
            "Không tìm thấy ảnh cho nhãn: aug_37_mdb175.png.txt\n",
            "Không tìm thấy ảnh cho nhãn: aug_38_mdb188.png.txt\n",
            "Không tìm thấy ảnh cho nhãn: aug_39_mdb190.png.txt\n",
            "Không tìm thấy ảnh cho nhãn: aug_40_mdb191.png.txt\n",
            "Không tìm thấy ảnh cho nhãn: aug_41_mdb193.png.txt\n",
            "Không tìm thấy ảnh cho nhãn: aug_42_mdb195.png.txt\n",
            "Không tìm thấy ảnh cho nhãn: aug_43_mdb198.png.txt\n",
            "Không tìm thấy ảnh cho nhãn: aug_44_mdb199.png.txt\n",
            "Không tìm thấy ảnh cho nhãn: aug_45_mdb204.png.txt\n",
            "Không tìm thấy ảnh cho nhãn: aug_46_mdb207.png.txt\n",
            "Không tìm thấy ảnh cho nhãn: aug_47_mdb212.png.txt\n",
            "Không tìm thấy ảnh cho nhãn: aug_48_mdb214.png.txt\n",
            "Không tìm thấy ảnh cho nhãn: aug_49_mdb218.png.txt\n",
            "Không tìm thấy ảnh cho nhãn: aug_50_mdb219.png.txt\n",
            "Không tìm thấy ảnh cho nhãn: aug_51_mdb222.png.txt\n",
            "Không tìm thấy ảnh cho nhãn: aug_52_mdb223.png.txt\n",
            "Không tìm thấy ảnh cho nhãn: aug_53_mdb226.png.txt\n",
            "Không tìm thấy ảnh cho nhãn: aug_54_mdb227.png.txt\n",
            "Không tìm thấy ảnh cho nhãn: aug_55_mdb236.png.txt\n",
            "Không tìm thấy ảnh cho nhãn: aug_56_mdb240.png.txt\n",
            "Không tìm thấy ảnh cho nhãn: aug_57_mdb244.png.txt\n",
            "Không tìm thấy ảnh cho nhãn: aug_58_mdb248.png.txt\n",
            "Không tìm thấy ảnh cho nhãn: aug_59_mdb252.png.txt\n",
            "Không tìm thấy ảnh cho nhãn: aug_60_mdb290.png.txt\n",
            "Không tìm thấy ảnh cho nhãn: aug_61_mdb312.png.txt\n",
            "Không tìm thấy ảnh cho nhãn: aug_62_mdb314.png.txt\n",
            "Không tìm thấy ảnh cho nhãn: aug_63_mdb315.png.txt\n",
            "Tổng số ảnh và nhãn khớp: 321\n",
            "Tập train: 224 ảnh, 224 nhãn\n",
            "Tập val: 48 ảnh, 48 nhãn\n",
            "Tập test: 49 ảnh, 49 nhãn\n",
            "Dataset đã được lưu tại: /content/drive/My Drive/yolo_dataset1\n"
          ]
        }
      ],
      "source": [
        "import os\n",
        "import shutil\n",
        "from sklearn.model_selection import train_test_split\n",
        "\n",
        "# Đường dẫn gốc ảnh và nhãn\n",
        "images_dir = '/content/drive/My Drive/images_processed/'  # Thư mục chứa các thư mục con\n",
        "yolo_labels_dir = '/content/drive/My Drive/yolo_labels1/'  # Thư mục nhãn YOLO\n",
        "\n",
        "# Thư mục lưu trữ train/val/test\n",
        "output_dir = '/content/drive/My Drive/yolo_dataset1'\n",
        "os.makedirs(output_dir, exist_ok=True)\n",
        "for split in ['train', 'val', 'test']:\n",
        "    os.makedirs(os.path.join(output_dir, 'images', split), exist_ok=True)\n",
        "    os.makedirs(os.path.join(output_dir, 'labels', split), exist_ok=True)\n",
        "\n",
        "# Duyệt qua các thư mục con để tìm ảnh\n",
        "image_paths = {}\n",
        "for class_dir in os.listdir(images_dir):\n",
        "    full_class_dir = os.path.join(images_dir, class_dir)\n",
        "    if os.path.isdir(full_class_dir):  # Chỉ xử lý thư mục\n",
        "        for img_file in os.listdir(full_class_dir):\n",
        "            if img_file.endswith(('.png', '.jpg', '.jpeg')):  # Hỗ trợ nhiều định dạng ảnh\n",
        "                image_id = os.path.splitext(img_file)[0]  # Tên file không bao gồm đuôi\n",
        "                image_paths[image_id] = os.path.join(full_class_dir, img_file)\n",
        "\n",
        "# Lấy danh sách nhãn và khớp với ảnh\n",
        "label_files = os.listdir(yolo_labels_dir)\n",
        "matched_images = []\n",
        "matched_labels = []\n",
        "\n",
        "for label_file in label_files:\n",
        "    image_id = os.path.splitext(label_file)[0]\n",
        "    label_path = os.path.join(yolo_labels_dir, label_file)\n",
        "    if image_id in image_paths:  # Nếu tìm thấy ảnh tương ứng\n",
        "        matched_images.append(image_paths[image_id])\n",
        "        matched_labels.append(label_path)\n",
        "    else:\n",
        "        print(f\"Không tìm thấy ảnh cho nhãn: {label_file}\")\n",
        "\n",
        "# Phân chia train/val/test\n",
        "train_images, val_test_images, train_labels, val_test_labels = train_test_split(\n",
        "    matched_images, matched_labels, test_size=0.3, random_state=42)\n",
        "val_images, test_images, val_labels, test_labels = train_test_split(\n",
        "    val_test_images, val_test_labels, test_size=0.5, random_state=42)\n",
        "\n",
        "# Hàm sao chép ảnh và nhãn\n",
        "def copy_files(images, labels, split):\n",
        "    for img_path, lbl_path in zip(images, labels):\n",
        "        dst_img_path = os.path.join(output_dir, 'images', split, os.path.basename(img_path))\n",
        "        dst_lbl_path = os.path.join(output_dir, 'labels', split, os.path.basename(lbl_path))\n",
        "\n",
        "        # Kiểm tra tồn tại file ảnh và nhãn trước khi sao chép\n",
        "        if not os.path.exists(img_path):\n",
        "            print(f\"Ảnh không tồn tại: {img_path}. Bỏ qua.\")\n",
        "            continue\n",
        "        if not os.path.exists(lbl_path):\n",
        "            print(f\"Nhãn không tồn tại: {lbl_path}. Bỏ qua.\")\n",
        "            continue\n",
        "\n",
        "        shutil.copy(img_path, dst_img_path)\n",
        "        shutil.copy(lbl_path, dst_lbl_path)\n",
        "\n",
        "# Sao chép file\n",
        "copy_files(train_images, train_labels, 'train')\n",
        "copy_files(val_images, val_labels, 'val')\n",
        "copy_files(test_images, test_labels, 'test')\n",
        "\n",
        "# Tổng hợp thông tin\n",
        "print(f\"Tổng số ảnh và nhãn khớp: {len(matched_images)}\")\n",
        "print(f\"Tập train: {len(train_images)} ảnh, {len(train_labels)} nhãn\")\n",
        "print(f\"Tập val: {len(val_images)} ảnh, {len(val_labels)} nhãn\")\n",
        "print(f\"Tập test: {len(test_images)} ảnh, {len(test_labels)} nhãn\")\n",
        "print(f\"Dataset đã được lưu tại: {output_dir}\")\n"
      ]
    },
    {
      "cell_type": "code",
      "execution_count": null,
      "metadata": {
        "colab": {
          "base_uri": "https://localhost:8080/"
        },
        "id": "HOZPYLdQ_f0Y",
        "outputId": "08a3bef4-d303-4cf0-9e48-33bf78ac1fdb"
      },
      "outputs": [
        {
          "output_type": "stream",
          "name": "stdout",
          "text": [
            "Train - Images: 224, Labels: 224\n",
            "Val - Images: 48, Labels: 48\n",
            "Test - Images: 49, Labels: 49\n"
          ]
        }
      ],
      "source": [
        "for split in ['train', 'val', 'test']:\n",
        "    img_dir = os.path.join(output_dir, 'images', split)\n",
        "    lbl_dir = os.path.join(output_dir, 'labels', split)\n",
        "    print(f\"{split.capitalize()} - Images: {len(os.listdir(img_dir))}, Labels: {len(os.listdir(lbl_dir))}\")\n"
      ]
    },
    {
      "cell_type": "code",
      "execution_count": null,
      "metadata": {
        "colab": {
          "base_uri": "https://localhost:8080/"
        },
        "id": "dKzSu7sw__GA",
        "outputId": "f9512829-5821-406b-ea1a-ccac36579718"
      },
      "outputs": [
        {
          "output_type": "stream",
          "name": "stdout",
          "text": [
            "File data.yaml has been created at: /content/drive/My Drive/yolo_dataset1/data.yaml\n"
          ]
        }
      ],
      "source": [
        "import yaml\n",
        "\n",
        "# Nội dung file data.yaml\n",
        "data = {\n",
        "    'train': '/content/drive/My Drive/yolo_dataset1/images/train',\n",
        "    'val': '/content/drive/My Drive/yolo_dataset1/images/val',\n",
        "    'nc': 3,\n",
        "    'names': ['Normal', 'Benign', 'Malignant']\n",
        "}\n",
        "\n",
        "# Đường dẫn lưu file data.yaml\n",
        "data_yaml_path = '/content/drive/My Drive/yolo_dataset1/data.yaml'\n",
        "\n",
        "# Ghi nội dung vào file data.yaml\n",
        "with open(data_yaml_path, 'w') as yaml_file:\n",
        "    yaml.dump(data, yaml_file, default_flow_style=False)\n",
        "\n",
        "print(f\"File data.yaml has been created at: {data_yaml_path}\")\n"
      ]
    },
    {
      "cell_type": "code",
      "execution_count": null,
      "metadata": {
        "colab": {
          "base_uri": "https://localhost:8080/"
        },
        "id": "AqWT104WAID_",
        "outputId": "929928a0-477a-48a3-c725-652fccaf4cb7"
      },
      "outputs": [
        {
          "output_type": "stream",
          "name": "stdout",
          "text": [
            "Collecting ultralytics\n",
            "  Downloading ultralytics-8.3.49-py3-none-any.whl.metadata (35 kB)\n",
            "Requirement already satisfied: numpy>=1.23.0 in /usr/local/lib/python3.10/dist-packages (from ultralytics) (1.26.4)\n",
            "Requirement already satisfied: matplotlib>=3.3.0 in /usr/local/lib/python3.10/dist-packages (from ultralytics) (3.8.0)\n",
            "Requirement already satisfied: opencv-python>=4.6.0 in /usr/local/lib/python3.10/dist-packages (from ultralytics) (4.10.0.84)\n",
            "Requirement already satisfied: pillow>=7.1.2 in /usr/local/lib/python3.10/dist-packages (from ultralytics) (11.0.0)\n",
            "Requirement already satisfied: pyyaml>=5.3.1 in /usr/local/lib/python3.10/dist-packages (from ultralytics) (6.0.2)\n",
            "Requirement already satisfied: requests>=2.23.0 in /usr/local/lib/python3.10/dist-packages (from ultralytics) (2.32.3)\n",
            "Requirement already satisfied: scipy>=1.4.1 in /usr/local/lib/python3.10/dist-packages (from ultralytics) (1.13.1)\n",
            "Requirement already satisfied: torch>=1.8.0 in /usr/local/lib/python3.10/dist-packages (from ultralytics) (2.5.1+cu121)\n",
            "Requirement already satisfied: torchvision>=0.9.0 in /usr/local/lib/python3.10/dist-packages (from ultralytics) (0.20.1+cu121)\n",
            "Requirement already satisfied: tqdm>=4.64.0 in /usr/local/lib/python3.10/dist-packages (from ultralytics) (4.66.6)\n",
            "Requirement already satisfied: psutil in /usr/local/lib/python3.10/dist-packages (from ultralytics) (5.9.5)\n",
            "Requirement already satisfied: py-cpuinfo in /usr/local/lib/python3.10/dist-packages (from ultralytics) (9.0.0)\n",
            "Requirement already satisfied: pandas>=1.1.4 in /usr/local/lib/python3.10/dist-packages (from ultralytics) (2.2.2)\n",
            "Requirement already satisfied: seaborn>=0.11.0 in /usr/local/lib/python3.10/dist-packages (from ultralytics) (0.13.2)\n",
            "Collecting ultralytics-thop>=2.0.0 (from ultralytics)\n",
            "  Downloading ultralytics_thop-2.0.13-py3-none-any.whl.metadata (9.4 kB)\n",
            "Requirement already satisfied: contourpy>=1.0.1 in /usr/local/lib/python3.10/dist-packages (from matplotlib>=3.3.0->ultralytics) (1.3.1)\n",
            "Requirement already satisfied: cycler>=0.10 in /usr/local/lib/python3.10/dist-packages (from matplotlib>=3.3.0->ultralytics) (0.12.1)\n",
            "Requirement already satisfied: fonttools>=4.22.0 in /usr/local/lib/python3.10/dist-packages (from matplotlib>=3.3.0->ultralytics) (4.55.3)\n",
            "Requirement already satisfied: kiwisolver>=1.0.1 in /usr/local/lib/python3.10/dist-packages (from matplotlib>=3.3.0->ultralytics) (1.4.7)\n",
            "Requirement already satisfied: packaging>=20.0 in /usr/local/lib/python3.10/dist-packages (from matplotlib>=3.3.0->ultralytics) (24.2)\n",
            "Requirement already satisfied: pyparsing>=2.3.1 in /usr/local/lib/python3.10/dist-packages (from matplotlib>=3.3.0->ultralytics) (3.2.0)\n",
            "Requirement already satisfied: python-dateutil>=2.7 in /usr/local/lib/python3.10/dist-packages (from matplotlib>=3.3.0->ultralytics) (2.8.2)\n",
            "Requirement already satisfied: pytz>=2020.1 in /usr/local/lib/python3.10/dist-packages (from pandas>=1.1.4->ultralytics) (2024.2)\n",
            "Requirement already satisfied: tzdata>=2022.7 in /usr/local/lib/python3.10/dist-packages (from pandas>=1.1.4->ultralytics) (2024.2)\n",
            "Requirement already satisfied: charset-normalizer<4,>=2 in /usr/local/lib/python3.10/dist-packages (from requests>=2.23.0->ultralytics) (3.4.0)\n",
            "Requirement already satisfied: idna<4,>=2.5 in /usr/local/lib/python3.10/dist-packages (from requests>=2.23.0->ultralytics) (3.10)\n",
            "Requirement already satisfied: urllib3<3,>=1.21.1 in /usr/local/lib/python3.10/dist-packages (from requests>=2.23.0->ultralytics) (2.2.3)\n",
            "Requirement already satisfied: certifi>=2017.4.17 in /usr/local/lib/python3.10/dist-packages (from requests>=2.23.0->ultralytics) (2024.8.30)\n",
            "Requirement already satisfied: filelock in /usr/local/lib/python3.10/dist-packages (from torch>=1.8.0->ultralytics) (3.16.1)\n",
            "Requirement already satisfied: typing-extensions>=4.8.0 in /usr/local/lib/python3.10/dist-packages (from torch>=1.8.0->ultralytics) (4.12.2)\n",
            "Requirement already satisfied: networkx in /usr/local/lib/python3.10/dist-packages (from torch>=1.8.0->ultralytics) (3.4.2)\n",
            "Requirement already satisfied: jinja2 in /usr/local/lib/python3.10/dist-packages (from torch>=1.8.0->ultralytics) (3.1.4)\n",
            "Requirement already satisfied: fsspec in /usr/local/lib/python3.10/dist-packages (from torch>=1.8.0->ultralytics) (2024.10.0)\n",
            "Requirement already satisfied: sympy==1.13.1 in /usr/local/lib/python3.10/dist-packages (from torch>=1.8.0->ultralytics) (1.13.1)\n",
            "Requirement already satisfied: mpmath<1.4,>=1.1.0 in /usr/local/lib/python3.10/dist-packages (from sympy==1.13.1->torch>=1.8.0->ultralytics) (1.3.0)\n",
            "Requirement already satisfied: six>=1.5 in /usr/local/lib/python3.10/dist-packages (from python-dateutil>=2.7->matplotlib>=3.3.0->ultralytics) (1.17.0)\n",
            "Requirement already satisfied: MarkupSafe>=2.0 in /usr/local/lib/python3.10/dist-packages (from jinja2->torch>=1.8.0->ultralytics) (3.0.2)\n",
            "Downloading ultralytics-8.3.49-py3-none-any.whl (898 kB)\n",
            "\u001b[2K   \u001b[90m━━━━━━━━━━━━━━━━━━━━━━━━━━━━━━━━━━━━━━━━\u001b[0m \u001b[32m898.7/898.7 kB\u001b[0m \u001b[31m23.1 MB/s\u001b[0m eta \u001b[36m0:00:00\u001b[0m\n",
            "\u001b[?25hDownloading ultralytics_thop-2.0.13-py3-none-any.whl (26 kB)\n",
            "Installing collected packages: ultralytics-thop, ultralytics\n",
            "Successfully installed ultralytics-8.3.49 ultralytics-thop-2.0.13\n",
            "Creating new Ultralytics Settings v0.0.6 file ✅ \n",
            "View Ultralytics Settings with 'yolo settings' or at '/root/.config/Ultralytics/settings.json'\n",
            "Update Settings with 'yolo settings key=value', i.e. 'yolo settings runs_dir=path/to/dir'. For help see https://docs.ultralytics.com/quickstart/#ultralytics-settings.\n"
          ]
        }
      ],
      "source": [
        "!pip install ultralytics\n",
        "from ultralytics import YOLO\n",
        "\n"
      ]
    },
    {
      "cell_type": "code",
      "execution_count": null,
      "metadata": {
        "colab": {
          "base_uri": "https://localhost:8080/"
        },
        "id": "xbBghmyHA_Wn",
        "outputId": "16827928-bf79-4c80-c800-49efcd051071"
      },
      "outputs": [
        {
          "output_type": "stream",
          "name": "stdout",
          "text": [
            "Drive already mounted at /content/drive; to attempt to forcibly remount, call drive.mount(\"/content/drive\", force_remount=True).\n",
            "Ultralytics 8.3.49 🚀 Python-3.10.12 torch-2.5.1+cu121 CUDA:0 (Tesla T4, 15102MiB)\n",
            "\u001b[34m\u001b[1mengine/trainer: \u001b[0mtask=detect, mode=train, model=yolov8s.pt, data=/content/drive/My Drive/yolo_dataset1/data.yaml, epochs=100, time=None, patience=100, batch=16, imgsz=1024, save=True, save_period=-1, cache=False, device=None, workers=8, project=None, name=train4, exist_ok=False, pretrained=True, optimizer=auto, verbose=True, seed=0, deterministic=True, single_cls=False, rect=False, cos_lr=False, close_mosaic=10, resume=False, amp=True, fraction=1.0, profile=False, freeze=None, multi_scale=False, overlap_mask=True, mask_ratio=4, dropout=0.0, val=True, split=val, save_json=False, save_hybrid=False, conf=None, iou=0.7, max_det=300, half=False, dnn=False, plots=True, source=None, vid_stride=1, stream_buffer=False, visualize=False, augment=False, agnostic_nms=False, classes=None, retina_masks=False, embed=None, show=False, save_frames=False, save_txt=False, save_conf=False, save_crop=False, show_labels=True, show_conf=True, show_boxes=True, line_width=None, format=torchscript, keras=False, optimize=False, int8=False, dynamic=False, simplify=True, opset=None, workspace=None, nms=False, lr0=0.01, lrf=0.01, momentum=0.937, weight_decay=0.0005, warmup_epochs=3.0, warmup_momentum=0.8, warmup_bias_lr=0.1, box=7.5, cls=0.5, dfl=1.5, pose=12.0, kobj=1.0, nbs=64, hsv_h=0.015, hsv_s=0.7, hsv_v=0.4, degrees=0.0, translate=0.1, scale=0.5, shear=0.0, perspective=0.0, flipud=0.0, fliplr=0.5, bgr=0.0, mosaic=1.0, mixup=0.0, copy_paste=0.0, copy_paste_mode=flip, auto_augment=randaugment, erasing=0.4, crop_fraction=1.0, cfg=None, tracker=botsort.yaml, save_dir=runs/detect/train4\n",
            "Downloading https://ultralytics.com/assets/Arial.ttf to '/root/.config/Ultralytics/Arial.ttf'...\n"
          ]
        },
        {
          "output_type": "stream",
          "name": "stderr",
          "text": [
            "100%|██████████| 755k/755k [00:00<00:00, 20.4MB/s]\n"
          ]
        },
        {
          "output_type": "stream",
          "name": "stdout",
          "text": [
            "Overriding model.yaml nc=80 with nc=3\n",
            "\n",
            "                   from  n    params  module                                       arguments                     \n",
            "  0                  -1  1       928  ultralytics.nn.modules.conv.Conv             [3, 32, 3, 2]                 \n",
            "  1                  -1  1     18560  ultralytics.nn.modules.conv.Conv             [32, 64, 3, 2]                \n",
            "  2                  -1  1     29056  ultralytics.nn.modules.block.C2f             [64, 64, 1, True]             \n",
            "  3                  -1  1     73984  ultralytics.nn.modules.conv.Conv             [64, 128, 3, 2]               \n",
            "  4                  -1  2    197632  ultralytics.nn.modules.block.C2f             [128, 128, 2, True]           \n",
            "  5                  -1  1    295424  ultralytics.nn.modules.conv.Conv             [128, 256, 3, 2]              \n",
            "  6                  -1  2    788480  ultralytics.nn.modules.block.C2f             [256, 256, 2, True]           \n",
            "  7                  -1  1   1180672  ultralytics.nn.modules.conv.Conv             [256, 512, 3, 2]              \n",
            "  8                  -1  1   1838080  ultralytics.nn.modules.block.C2f             [512, 512, 1, True]           \n",
            "  9                  -1  1    656896  ultralytics.nn.modules.block.SPPF            [512, 512, 5]                 \n",
            " 10                  -1  1         0  torch.nn.modules.upsampling.Upsample         [None, 2, 'nearest']          \n",
            " 11             [-1, 6]  1         0  ultralytics.nn.modules.conv.Concat           [1]                           \n",
            " 12                  -1  1    591360  ultralytics.nn.modules.block.C2f             [768, 256, 1]                 \n",
            " 13                  -1  1         0  torch.nn.modules.upsampling.Upsample         [None, 2, 'nearest']          \n",
            " 14             [-1, 4]  1         0  ultralytics.nn.modules.conv.Concat           [1]                           \n",
            " 15                  -1  1    148224  ultralytics.nn.modules.block.C2f             [384, 128, 1]                 \n",
            " 16                  -1  1    147712  ultralytics.nn.modules.conv.Conv             [128, 128, 3, 2]              \n",
            " 17            [-1, 12]  1         0  ultralytics.nn.modules.conv.Concat           [1]                           \n",
            " 18                  -1  1    493056  ultralytics.nn.modules.block.C2f             [384, 256, 1]                 \n",
            " 19                  -1  1    590336  ultralytics.nn.modules.conv.Conv             [256, 256, 3, 2]              \n",
            " 20             [-1, 9]  1         0  ultralytics.nn.modules.conv.Concat           [1]                           \n",
            " 21                  -1  1   1969152  ultralytics.nn.modules.block.C2f             [768, 512, 1]                 \n",
            " 22        [15, 18, 21]  1   2117209  ultralytics.nn.modules.head.Detect           [3, [128, 256, 512]]          \n",
            "Model summary: 225 layers, 11,136,761 parameters, 11,136,745 gradients, 28.7 GFLOPs\n",
            "\n",
            "Transferred 349/355 items from pretrained weights\n",
            "\u001b[34m\u001b[1mTensorBoard: \u001b[0mStart with 'tensorboard --logdir runs/detect/train4', view at http://localhost:6006/\n",
            "Freezing layer 'model.22.dfl.conv.weight'\n",
            "\u001b[34m\u001b[1mAMP: \u001b[0mrunning Automatic Mixed Precision (AMP) checks...\n",
            "Downloading https://github.com/ultralytics/assets/releases/download/v8.3.0/yolo11n.pt to 'yolo11n.pt'...\n"
          ]
        },
        {
          "output_type": "stream",
          "name": "stderr",
          "text": [
            "100%|██████████| 5.35M/5.35M [00:00<00:00, 91.1MB/s]\n"
          ]
        },
        {
          "output_type": "stream",
          "name": "stdout",
          "text": [
            "\u001b[34m\u001b[1mAMP: \u001b[0mchecks passed ✅\n"
          ]
        },
        {
          "output_type": "stream",
          "name": "stderr",
          "text": [
            "\u001b[34m\u001b[1mtrain: \u001b[0mScanning /content/drive/My Drive/yolo_dataset1/labels/train... 224 images, 0 backgrounds, 0 corrupt: 100%|██████████| 224/224 [00:02<00:00, 106.12it/s]\n"
          ]
        },
        {
          "output_type": "stream",
          "name": "stdout",
          "text": [
            "\u001b[34m\u001b[1mtrain: \u001b[0mNew cache created: /content/drive/My Drive/yolo_dataset1/labels/train.cache\n",
            "\u001b[34m\u001b[1malbumentations: \u001b[0mBlur(p=0.01, blur_limit=(3, 7)), MedianBlur(p=0.01, blur_limit=(3, 7)), ToGray(p=0.01, num_output_channels=3, method='weighted_average'), CLAHE(p=0.01, clip_limit=(1.0, 4.0), tile_grid_size=(8, 8))\n"
          ]
        },
        {
          "output_type": "stream",
          "name": "stderr",
          "text": [
            "/usr/local/lib/python3.10/dist-packages/albumentations/__init__.py:24: UserWarning: A new version of Albumentations is available: 1.4.22 (you have 1.4.20). Upgrade using: pip install -U albumentations. To disable automatic update checks, set the environment variable NO_ALBUMENTATIONS_UPDATE to 1.\n",
            "  check_for_updates()\n",
            "\u001b[34m\u001b[1mval: \u001b[0mScanning /content/drive/My Drive/yolo_dataset1/labels/val... 48 images, 0 backgrounds, 0 corrupt: 100%|██████████| 48/48 [00:00<00:00, 92.27it/s]\n"
          ]
        },
        {
          "output_type": "stream",
          "name": "stdout",
          "text": [
            "\u001b[34m\u001b[1mval: \u001b[0mNew cache created: /content/drive/My Drive/yolo_dataset1/labels/val.cache\n",
            "Plotting labels to runs/detect/train4/labels.jpg... \n",
            "\u001b[34m\u001b[1moptimizer:\u001b[0m 'optimizer=auto' found, ignoring 'lr0=0.01' and 'momentum=0.937' and determining best 'optimizer', 'lr0' and 'momentum' automatically... \n",
            "\u001b[34m\u001b[1moptimizer:\u001b[0m AdamW(lr=0.001429, momentum=0.9) with parameter groups 57 weight(decay=0.0), 64 weight(decay=0.0005), 63 bias(decay=0.0)\n",
            "\u001b[34m\u001b[1mTensorBoard: \u001b[0mmodel graph visualization added ✅\n",
            "Image sizes 1024 train, 1024 val\n",
            "Using 2 dataloader workers\n",
            "Logging results to \u001b[1mruns/detect/train4\u001b[0m\n",
            "Starting training for 100 epochs...\n",
            "\n",
            "      Epoch    GPU_mem   box_loss   cls_loss   dfl_loss  Instances       Size\n"
          ]
        },
        {
          "output_type": "stream",
          "name": "stderr",
          "text": [
            "      1/100       9.3G      3.291      17.22      2.999         25       1024: 100%|██████████| 14/14 [00:13<00:00,  1.08it/s]\n",
            "                 Class     Images  Instances      Box(P          R      mAP50  mAP50-95):   0%|          | 0/2 [00:00<?, ?it/s]"
          ]
        },
        {
          "output_type": "stream",
          "name": "stdout",
          "text": [
            "WARNING ⚠️ NMS time limit 3.600s exceeded\n"
          ]
        },
        {
          "output_type": "stream",
          "name": "stderr",
          "text": [
            "                 Class     Images  Instances      Box(P          R      mAP50  mAP50-95): 100%|██████████| 2/2 [00:08<00:00,  4.09s/it]"
          ]
        },
        {
          "output_type": "stream",
          "name": "stdout",
          "text": [
            "                   all         48         48          0          0          0          0\n"
          ]
        },
        {
          "output_type": "stream",
          "name": "stderr",
          "text": [
            "\n"
          ]
        },
        {
          "output_type": "stream",
          "name": "stdout",
          "text": [
            "\n",
            "      Epoch    GPU_mem   box_loss   cls_loss   dfl_loss  Instances       Size\n"
          ]
        },
        {
          "output_type": "stream",
          "name": "stderr",
          "text": [
            "      2/100      9.15G      2.846      7.473      2.489         32       1024: 100%|██████████| 14/14 [00:12<00:00,  1.14it/s]\n",
            "                 Class     Images  Instances      Box(P          R      mAP50  mAP50-95): 100%|██████████| 2/2 [00:02<00:00,  1.14s/it]"
          ]
        },
        {
          "output_type": "stream",
          "name": "stdout",
          "text": [
            "                   all         48         48          0          0          0          0\n"
          ]
        },
        {
          "output_type": "stream",
          "name": "stderr",
          "text": [
            "\n"
          ]
        },
        {
          "output_type": "stream",
          "name": "stdout",
          "text": [
            "\n",
            "      Epoch    GPU_mem   box_loss   cls_loss   dfl_loss  Instances       Size\n"
          ]
        },
        {
          "output_type": "stream",
          "name": "stderr",
          "text": [
            "      3/100      9.18G      2.726        5.5      2.294         18       1024: 100%|██████████| 14/14 [00:10<00:00,  1.34it/s]\n",
            "                 Class     Images  Instances      Box(P          R      mAP50  mAP50-95): 100%|██████████| 2/2 [00:01<00:00,  1.68it/s]"
          ]
        },
        {
          "output_type": "stream",
          "name": "stdout",
          "text": [
            "                   all         48         48    0.00114     0.0556   0.000717   0.000291\n"
          ]
        },
        {
          "output_type": "stream",
          "name": "stderr",
          "text": [
            "\n"
          ]
        },
        {
          "output_type": "stream",
          "name": "stdout",
          "text": [
            "\n",
            "      Epoch    GPU_mem   box_loss   cls_loss   dfl_loss  Instances       Size\n"
          ]
        },
        {
          "output_type": "stream",
          "name": "stderr",
          "text": [
            "      4/100      9.19G      2.607      4.612      2.241         26       1024: 100%|██████████| 14/14 [00:12<00:00,  1.11it/s]\n",
            "                 Class     Images  Instances      Box(P          R      mAP50  mAP50-95): 100%|██████████| 2/2 [00:01<00:00,  1.63it/s]"
          ]
        },
        {
          "output_type": "stream",
          "name": "stdout",
          "text": [
            "                   all         48         48      0.334      0.156    0.00158   0.000596\n"
          ]
        },
        {
          "output_type": "stream",
          "name": "stderr",
          "text": [
            "\n"
          ]
        },
        {
          "output_type": "stream",
          "name": "stdout",
          "text": [
            "\n",
            "      Epoch    GPU_mem   box_loss   cls_loss   dfl_loss  Instances       Size\n"
          ]
        },
        {
          "output_type": "stream",
          "name": "stderr",
          "text": [
            "      5/100      9.18G      2.561      4.249      2.381         27       1024: 100%|██████████| 14/14 [00:12<00:00,  1.13it/s]\n",
            "                 Class     Images  Instances      Box(P          R      mAP50  mAP50-95): 100%|██████████| 2/2 [00:01<00:00,  1.66it/s]"
          ]
        },
        {
          "output_type": "stream",
          "name": "stdout",
          "text": [
            "                   all         48         48      0.334      0.156    0.00158   0.000596\n"
          ]
        },
        {
          "output_type": "stream",
          "name": "stderr",
          "text": [
            "\n"
          ]
        },
        {
          "output_type": "stream",
          "name": "stdout",
          "text": [
            "\n",
            "      Epoch    GPU_mem   box_loss   cls_loss   dfl_loss  Instances       Size\n"
          ]
        },
        {
          "output_type": "stream",
          "name": "stderr",
          "text": [
            "      6/100      9.18G      2.518      4.225      2.426         18       1024: 100%|██████████| 14/14 [00:10<00:00,  1.36it/s]\n",
            "                 Class     Images  Instances      Box(P          R      mAP50  mAP50-95): 100%|██████████| 2/2 [00:02<00:00,  1.02s/it]"
          ]
        },
        {
          "output_type": "stream",
          "name": "stdout",
          "text": [
            "                   all         48         48      0.334      0.156    0.00158   0.000596\n"
          ]
        },
        {
          "output_type": "stream",
          "name": "stderr",
          "text": [
            "\n"
          ]
        },
        {
          "output_type": "stream",
          "name": "stdout",
          "text": [
            "\n",
            "      Epoch    GPU_mem   box_loss   cls_loss   dfl_loss  Instances       Size\n"
          ]
        },
        {
          "output_type": "stream",
          "name": "stderr",
          "text": [
            "      7/100      9.15G       2.58      4.319       2.51         23       1024: 100%|██████████| 14/14 [00:09<00:00,  1.55it/s]\n",
            "                 Class     Images  Instances      Box(P          R      mAP50  mAP50-95): 100%|██████████| 2/2 [00:01<00:00,  1.24it/s]"
          ]
        },
        {
          "output_type": "stream",
          "name": "stdout",
          "text": [
            "                   all         48         48      0.334      0.156    0.00158   0.000596\n"
          ]
        },
        {
          "output_type": "stream",
          "name": "stderr",
          "text": [
            "\n"
          ]
        },
        {
          "output_type": "stream",
          "name": "stdout",
          "text": [
            "\n",
            "      Epoch    GPU_mem   box_loss   cls_loss   dfl_loss  Instances       Size\n"
          ]
        },
        {
          "output_type": "stream",
          "name": "stderr",
          "text": [
            "      8/100      9.16G      2.534      4.199      2.432         36       1024: 100%|██████████| 14/14 [00:10<00:00,  1.29it/s]\n",
            "                 Class     Images  Instances      Box(P          R      mAP50  mAP50-95): 100%|██████████| 2/2 [00:01<00:00,  1.31it/s]"
          ]
        },
        {
          "output_type": "stream",
          "name": "stdout",
          "text": [
            "                   all         48         48      0.334      0.156    0.00158   0.000596\n"
          ]
        },
        {
          "output_type": "stream",
          "name": "stderr",
          "text": [
            "\n"
          ]
        },
        {
          "output_type": "stream",
          "name": "stdout",
          "text": [
            "\n",
            "      Epoch    GPU_mem   box_loss   cls_loss   dfl_loss  Instances       Size\n"
          ]
        },
        {
          "output_type": "stream",
          "name": "stderr",
          "text": [
            "      9/100      9.15G      2.457      4.132      2.335         21       1024: 100%|██████████| 14/14 [00:12<00:00,  1.12it/s]\n",
            "                 Class     Images  Instances      Box(P          R      mAP50  mAP50-95): 100%|██████████| 2/2 [00:01<00:00,  1.40it/s]"
          ]
        },
        {
          "output_type": "stream",
          "name": "stdout",
          "text": [
            "                   all         48         48      0.334      0.156    0.00158   0.000596\n"
          ]
        },
        {
          "output_type": "stream",
          "name": "stderr",
          "text": [
            "\n"
          ]
        },
        {
          "output_type": "stream",
          "name": "stdout",
          "text": [
            "\n",
            "      Epoch    GPU_mem   box_loss   cls_loss   dfl_loss  Instances       Size\n"
          ]
        },
        {
          "output_type": "stream",
          "name": "stderr",
          "text": [
            "     10/100      9.17G      2.485      4.105      2.344         18       1024: 100%|██████████| 14/14 [00:12<00:00,  1.14it/s]\n",
            "                 Class     Images  Instances      Box(P          R      mAP50  mAP50-95): 100%|██████████| 2/2 [00:01<00:00,  1.41it/s]"
          ]
        },
        {
          "output_type": "stream",
          "name": "stdout",
          "text": [
            "                   all         48         48      0.334      0.156    0.00158   0.000596\n"
          ]
        },
        {
          "output_type": "stream",
          "name": "stderr",
          "text": [
            "\n"
          ]
        },
        {
          "output_type": "stream",
          "name": "stdout",
          "text": [
            "\n",
            "      Epoch    GPU_mem   box_loss   cls_loss   dfl_loss  Instances       Size\n"
          ]
        },
        {
          "output_type": "stream",
          "name": "stderr",
          "text": [
            "     11/100      9.15G      2.472      4.057      2.332         18       1024: 100%|██████████| 14/14 [00:10<00:00,  1.34it/s]\n",
            "                 Class     Images  Instances      Box(P          R      mAP50  mAP50-95): 100%|██████████| 2/2 [00:02<00:00,  1.13s/it]"
          ]
        },
        {
          "output_type": "stream",
          "name": "stdout",
          "text": [
            "                   all         48         48      0.333     0.0444   6.71e-05   1.41e-05\n"
          ]
        },
        {
          "output_type": "stream",
          "name": "stderr",
          "text": [
            "\n"
          ]
        },
        {
          "output_type": "stream",
          "name": "stdout",
          "text": [
            "\n",
            "      Epoch    GPU_mem   box_loss   cls_loss   dfl_loss  Instances       Size\n"
          ]
        },
        {
          "output_type": "stream",
          "name": "stderr",
          "text": [
            "     12/100      9.18G      2.488      4.079      2.355         31       1024: 100%|██████████| 14/14 [00:09<00:00,  1.51it/s]\n",
            "                 Class     Images  Instances      Box(P          R      mAP50  mAP50-95): 100%|██████████| 2/2 [00:01<00:00,  1.23it/s]"
          ]
        },
        {
          "output_type": "stream",
          "name": "stdout",
          "text": [
            "                   all         48         48    0.00029      0.133   0.000281   6.65e-05\n"
          ]
        },
        {
          "output_type": "stream",
          "name": "stderr",
          "text": [
            "\n"
          ]
        },
        {
          "output_type": "stream",
          "name": "stdout",
          "text": [
            "\n",
            "      Epoch    GPU_mem   box_loss   cls_loss   dfl_loss  Instances       Size\n"
          ]
        },
        {
          "output_type": "stream",
          "name": "stderr",
          "text": [
            "     13/100      9.15G      2.445       3.96      2.349         23       1024: 100%|██████████| 14/14 [00:10<00:00,  1.33it/s]\n",
            "                 Class     Images  Instances      Box(P          R      mAP50  mAP50-95): 100%|██████████| 2/2 [00:01<00:00,  1.77it/s]"
          ]
        },
        {
          "output_type": "stream",
          "name": "stdout",
          "text": [
            "                   all         48         48   0.000614      0.267    0.00157   0.000373\n"
          ]
        },
        {
          "output_type": "stream",
          "name": "stderr",
          "text": [
            "\n"
          ]
        },
        {
          "output_type": "stream",
          "name": "stdout",
          "text": [
            "\n",
            "      Epoch    GPU_mem   box_loss   cls_loss   dfl_loss  Instances       Size\n"
          ]
        },
        {
          "output_type": "stream",
          "name": "stderr",
          "text": [
            "     14/100      9.17G      2.363       3.99      2.296         27       1024: 100%|██████████| 14/14 [00:13<00:00,  1.06it/s]\n",
            "                 Class     Images  Instances      Box(P          R      mAP50  mAP50-95): 100%|██████████| 2/2 [00:01<00:00,  1.62it/s]"
          ]
        },
        {
          "output_type": "stream",
          "name": "stdout",
          "text": [
            "                   all         48         48   0.000816      0.289     0.0035     0.0014\n"
          ]
        },
        {
          "output_type": "stream",
          "name": "stderr",
          "text": [
            "\n"
          ]
        },
        {
          "output_type": "stream",
          "name": "stdout",
          "text": [
            "\n",
            "      Epoch    GPU_mem   box_loss   cls_loss   dfl_loss  Instances       Size\n"
          ]
        },
        {
          "output_type": "stream",
          "name": "stderr",
          "text": [
            "     15/100      9.15G      2.274      3.976      2.241         21       1024: 100%|██████████| 14/14 [00:11<00:00,  1.21it/s]\n",
            "                 Class     Images  Instances      Box(P          R      mAP50  mAP50-95): 100%|██████████| 2/2 [00:01<00:00,  1.16it/s]"
          ]
        },
        {
          "output_type": "stream",
          "name": "stdout",
          "text": [
            "                   all         48         48   0.000557      0.267    0.00122   0.000377\n"
          ]
        },
        {
          "output_type": "stream",
          "name": "stderr",
          "text": [
            "\n"
          ]
        },
        {
          "output_type": "stream",
          "name": "stdout",
          "text": [
            "\n",
            "      Epoch    GPU_mem   box_loss   cls_loss   dfl_loss  Instances       Size\n"
          ]
        },
        {
          "output_type": "stream",
          "name": "stderr",
          "text": [
            "     16/100      9.19G      2.338       3.92      2.259         22       1024: 100%|██████████| 14/14 [00:10<00:00,  1.30it/s]\n",
            "                 Class     Images  Instances      Box(P          R      mAP50  mAP50-95): 100%|██████████| 2/2 [00:01<00:00,  1.43it/s]"
          ]
        },
        {
          "output_type": "stream",
          "name": "stdout",
          "text": [
            "                   all         48         48   0.000557      0.267    0.00122   0.000377\n"
          ]
        },
        {
          "output_type": "stream",
          "name": "stderr",
          "text": [
            "\n"
          ]
        },
        {
          "output_type": "stream",
          "name": "stdout",
          "text": [
            "\n",
            "      Epoch    GPU_mem   box_loss   cls_loss   dfl_loss  Instances       Size\n"
          ]
        },
        {
          "output_type": "stream",
          "name": "stderr",
          "text": [
            "     17/100      9.15G      2.223      3.992      2.182         25       1024: 100%|██████████| 14/14 [00:12<00:00,  1.13it/s]\n",
            "                 Class     Images  Instances      Box(P          R      mAP50  mAP50-95): 100%|██████████| 2/2 [00:01<00:00,  1.62it/s]"
          ]
        },
        {
          "output_type": "stream",
          "name": "stdout",
          "text": [
            "                   all         48         48   0.000313      0.075   0.000215   0.000101\n"
          ]
        },
        {
          "output_type": "stream",
          "name": "stderr",
          "text": [
            "\n"
          ]
        },
        {
          "output_type": "stream",
          "name": "stdout",
          "text": [
            "\n",
            "      Epoch    GPU_mem   box_loss   cls_loss   dfl_loss  Instances       Size\n"
          ]
        },
        {
          "output_type": "stream",
          "name": "stderr",
          "text": [
            "     18/100      9.16G        2.3      3.901      2.232         24       1024: 100%|██████████| 14/14 [00:13<00:00,  1.06it/s]\n",
            "                 Class     Images  Instances      Box(P          R      mAP50  mAP50-95): 100%|██████████| 2/2 [00:01<00:00,  1.62it/s]"
          ]
        },
        {
          "output_type": "stream",
          "name": "stdout",
          "text": [
            "                   all         48         48    0.00126      0.425    0.00256   0.000753\n"
          ]
        },
        {
          "output_type": "stream",
          "name": "stderr",
          "text": [
            "\n"
          ]
        },
        {
          "output_type": "stream",
          "name": "stdout",
          "text": [
            "\n",
            "      Epoch    GPU_mem   box_loss   cls_loss   dfl_loss  Instances       Size\n"
          ]
        },
        {
          "output_type": "stream",
          "name": "stderr",
          "text": [
            "     19/100      9.15G      2.319      3.909      2.202         25       1024: 100%|██████████| 14/14 [00:12<00:00,  1.11it/s]\n",
            "                 Class     Images  Instances      Box(P          R      mAP50  mAP50-95): 100%|██████████| 2/2 [00:01<00:00,  1.35it/s]"
          ]
        },
        {
          "output_type": "stream",
          "name": "stdout",
          "text": [
            "                   all         48         48    0.00126      0.311    0.00545    0.00156\n"
          ]
        },
        {
          "output_type": "stream",
          "name": "stderr",
          "text": [
            "\n"
          ]
        },
        {
          "output_type": "stream",
          "name": "stdout",
          "text": [
            "\n",
            "      Epoch    GPU_mem   box_loss   cls_loss   dfl_loss  Instances       Size\n"
          ]
        },
        {
          "output_type": "stream",
          "name": "stderr",
          "text": [
            "     20/100      9.16G      2.283      3.856      2.208         19       1024: 100%|██████████| 14/14 [00:09<00:00,  1.42it/s]\n",
            "                 Class     Images  Instances      Box(P          R      mAP50  mAP50-95): 100%|██████████| 2/2 [00:01<00:00,  1.34it/s]"
          ]
        },
        {
          "output_type": "stream",
          "name": "stdout",
          "text": [
            "                   all         48         48   0.000124     0.0556   9.98e-05   1.13e-05\n"
          ]
        },
        {
          "output_type": "stream",
          "name": "stderr",
          "text": [
            "\n"
          ]
        },
        {
          "output_type": "stream",
          "name": "stdout",
          "text": [
            "\n",
            "      Epoch    GPU_mem   box_loss   cls_loss   dfl_loss  Instances       Size\n"
          ]
        },
        {
          "output_type": "stream",
          "name": "stderr",
          "text": [
            "     21/100      9.15G      2.265      3.788      2.222         19       1024: 100%|██████████| 14/14 [00:09<00:00,  1.40it/s]\n",
            "                 Class     Images  Instances      Box(P          R      mAP50  mAP50-95): 100%|██████████| 2/2 [00:01<00:00,  1.58it/s]"
          ]
        },
        {
          "output_type": "stream",
          "name": "stdout",
          "text": [
            "                   all         48         48   0.000708      0.267    0.00153   0.000363\n"
          ]
        },
        {
          "output_type": "stream",
          "name": "stderr",
          "text": [
            "\n"
          ]
        },
        {
          "output_type": "stream",
          "name": "stdout",
          "text": [
            "\n",
            "      Epoch    GPU_mem   box_loss   cls_loss   dfl_loss  Instances       Size\n"
          ]
        },
        {
          "output_type": "stream",
          "name": "stderr",
          "text": [
            "     22/100      9.16G      2.267      3.843      2.254         26       1024: 100%|██████████| 14/14 [00:12<00:00,  1.16it/s]\n",
            "                 Class     Images  Instances      Box(P          R      mAP50  mAP50-95): 100%|██████████| 2/2 [00:01<00:00,  1.55it/s]"
          ]
        },
        {
          "output_type": "stream",
          "name": "stdout",
          "text": [
            "                   all         48         48    0.00067      0.278    0.00288   0.000567\n"
          ]
        },
        {
          "output_type": "stream",
          "name": "stderr",
          "text": [
            "\n"
          ]
        },
        {
          "output_type": "stream",
          "name": "stdout",
          "text": [
            "\n",
            "      Epoch    GPU_mem   box_loss   cls_loss   dfl_loss  Instances       Size\n"
          ]
        },
        {
          "output_type": "stream",
          "name": "stderr",
          "text": [
            "     23/100      9.15G      2.218      3.887      2.192         29       1024: 100%|██████████| 14/14 [00:12<00:00,  1.11it/s]\n",
            "                 Class     Images  Instances      Box(P          R      mAP50  mAP50-95): 100%|██████████| 2/2 [00:01<00:00,  1.56it/s]"
          ]
        },
        {
          "output_type": "stream",
          "name": "stdout",
          "text": [
            "                   all         48         48   0.000728      0.322    0.00232   0.000569\n"
          ]
        },
        {
          "output_type": "stream",
          "name": "stderr",
          "text": [
            "\n"
          ]
        },
        {
          "output_type": "stream",
          "name": "stdout",
          "text": [
            "\n",
            "      Epoch    GPU_mem   box_loss   cls_loss   dfl_loss  Instances       Size\n"
          ]
        },
        {
          "output_type": "stream",
          "name": "stderr",
          "text": [
            "     24/100      9.19G      2.183      3.813      2.169         19       1024: 100%|██████████| 14/14 [00:10<00:00,  1.33it/s]\n",
            "                 Class     Images  Instances      Box(P          R      mAP50  mAP50-95): 100%|██████████| 2/2 [00:01<00:00,  1.17it/s]"
          ]
        },
        {
          "output_type": "stream",
          "name": "stdout",
          "text": [
            "                   all         48         48    0.00173      0.322    0.00983    0.00306\n"
          ]
        },
        {
          "output_type": "stream",
          "name": "stderr",
          "text": [
            "\n"
          ]
        },
        {
          "output_type": "stream",
          "name": "stdout",
          "text": [
            "\n",
            "      Epoch    GPU_mem   box_loss   cls_loss   dfl_loss  Instances       Size\n"
          ]
        },
        {
          "output_type": "stream",
          "name": "stderr",
          "text": [
            "     25/100      9.15G      2.283      3.798      2.247         20       1024: 100%|██████████| 14/14 [00:09<00:00,  1.54it/s]\n",
            "                 Class     Images  Instances      Box(P          R      mAP50  mAP50-95): 100%|██████████| 2/2 [00:01<00:00,  1.30it/s]"
          ]
        },
        {
          "output_type": "stream",
          "name": "stdout",
          "text": [
            "                   all         48         48      0.335      0.256    0.00261    0.00078\n"
          ]
        },
        {
          "output_type": "stream",
          "name": "stderr",
          "text": [
            "\n"
          ]
        },
        {
          "output_type": "stream",
          "name": "stdout",
          "text": [
            "\n",
            "      Epoch    GPU_mem   box_loss   cls_loss   dfl_loss  Instances       Size\n"
          ]
        },
        {
          "output_type": "stream",
          "name": "stderr",
          "text": [
            "     26/100      9.19G      2.203      3.835      2.218         24       1024: 100%|██████████| 14/14 [00:11<00:00,  1.26it/s]\n",
            "                 Class     Images  Instances      Box(P          R      mAP50  mAP50-95): 100%|██████████| 2/2 [00:01<00:00,  1.62it/s]"
          ]
        },
        {
          "output_type": "stream",
          "name": "stdout",
          "text": [
            "                   all         48         48       0.67     0.0556    0.00243   0.000938\n"
          ]
        },
        {
          "output_type": "stream",
          "name": "stderr",
          "text": [
            "\n"
          ]
        },
        {
          "output_type": "stream",
          "name": "stdout",
          "text": [
            "\n",
            "      Epoch    GPU_mem   box_loss   cls_loss   dfl_loss  Instances       Size\n"
          ]
        },
        {
          "output_type": "stream",
          "name": "stderr",
          "text": [
            "     27/100      9.15G      2.274      3.875      2.289         22       1024: 100%|██████████| 14/14 [00:12<00:00,  1.08it/s]\n",
            "                 Class     Images  Instances      Box(P          R      mAP50  mAP50-95): 100%|██████████| 2/2 [00:01<00:00,  1.69it/s]"
          ]
        },
        {
          "output_type": "stream",
          "name": "stdout",
          "text": [
            "                   all         48         48   0.000565      0.222   0.000518   0.000146\n"
          ]
        },
        {
          "output_type": "stream",
          "name": "stderr",
          "text": [
            "\n"
          ]
        },
        {
          "output_type": "stream",
          "name": "stdout",
          "text": [
            "\n",
            "      Epoch    GPU_mem   box_loss   cls_loss   dfl_loss  Instances       Size\n"
          ]
        },
        {
          "output_type": "stream",
          "name": "stderr",
          "text": [
            "     28/100      9.19G      2.229      3.837       2.24         17       1024: 100%|██████████| 14/14 [00:12<00:00,  1.14it/s]\n",
            "                 Class     Images  Instances      Box(P          R      mAP50  mAP50-95): 100%|██████████| 2/2 [00:01<00:00,  1.51it/s]"
          ]
        },
        {
          "output_type": "stream",
          "name": "stdout",
          "text": [
            "                   all         48         48   0.000865      0.311    0.00455    0.00122\n"
          ]
        },
        {
          "output_type": "stream",
          "name": "stderr",
          "text": [
            "\n"
          ]
        },
        {
          "output_type": "stream",
          "name": "stdout",
          "text": [
            "\n",
            "      Epoch    GPU_mem   box_loss   cls_loss   dfl_loss  Instances       Size\n"
          ]
        },
        {
          "output_type": "stream",
          "name": "stderr",
          "text": [
            "     29/100      9.15G      2.211      3.851      2.236         22       1024: 100%|██████████| 14/14 [00:09<00:00,  1.44it/s]\n",
            "                 Class     Images  Instances      Box(P          R      mAP50  mAP50-95): 100%|██████████| 2/2 [00:01<00:00,  1.37it/s]"
          ]
        },
        {
          "output_type": "stream",
          "name": "stdout",
          "text": [
            "                   all         48         48    0.00106      0.322    0.00742     0.0019\n"
          ]
        },
        {
          "output_type": "stream",
          "name": "stderr",
          "text": [
            "\n"
          ]
        },
        {
          "output_type": "stream",
          "name": "stdout",
          "text": [
            "\n",
            "      Epoch    GPU_mem   box_loss   cls_loss   dfl_loss  Instances       Size\n"
          ]
        },
        {
          "output_type": "stream",
          "name": "stderr",
          "text": [
            "     30/100      9.16G      2.255      3.823      2.242         23       1024: 100%|██████████| 14/14 [00:09<00:00,  1.45it/s]\n",
            "                 Class     Images  Instances      Box(P          R      mAP50  mAP50-95): 100%|██████████| 2/2 [00:01<00:00,  1.71it/s]"
          ]
        },
        {
          "output_type": "stream",
          "name": "stdout",
          "text": [
            "                   all         48         48       0.67      0.111    0.00441    0.00088\n"
          ]
        },
        {
          "output_type": "stream",
          "name": "stderr",
          "text": [
            "\n"
          ]
        },
        {
          "output_type": "stream",
          "name": "stdout",
          "text": [
            "\n",
            "      Epoch    GPU_mem   box_loss   cls_loss   dfl_loss  Instances       Size\n"
          ]
        },
        {
          "output_type": "stream",
          "name": "stderr",
          "text": [
            "     31/100      9.15G      2.214      3.788      2.209         23       1024: 100%|██████████| 14/14 [00:14<00:00,  1.02s/it]\n",
            "                 Class     Images  Instances      Box(P          R      mAP50  mAP50-95): 100%|██████████| 2/2 [00:01<00:00,  1.71it/s]"
          ]
        },
        {
          "output_type": "stream",
          "name": "stdout",
          "text": [
            "                   all         48         48     0.0011      0.333    0.00558    0.00192\n"
          ]
        },
        {
          "output_type": "stream",
          "name": "stderr",
          "text": [
            "\n"
          ]
        },
        {
          "output_type": "stream",
          "name": "stdout",
          "text": [
            "\n",
            "      Epoch    GPU_mem   box_loss   cls_loss   dfl_loss  Instances       Size\n"
          ]
        },
        {
          "output_type": "stream",
          "name": "stderr",
          "text": [
            "     32/100      9.16G      2.217      3.728      2.192         20       1024: 100%|██████████| 14/14 [00:12<00:00,  1.10it/s]\n",
            "                 Class     Images  Instances      Box(P          R      mAP50  mAP50-95): 100%|██████████| 2/2 [00:01<00:00,  1.19it/s]"
          ]
        },
        {
          "output_type": "stream",
          "name": "stdout",
          "text": [
            "                   all         48         48    0.00116      0.394    0.00266   0.000828\n"
          ]
        },
        {
          "output_type": "stream",
          "name": "stderr",
          "text": [
            "\n"
          ]
        },
        {
          "output_type": "stream",
          "name": "stdout",
          "text": [
            "\n",
            "      Epoch    GPU_mem   box_loss   cls_loss   dfl_loss  Instances       Size\n"
          ]
        },
        {
          "output_type": "stream",
          "name": "stderr",
          "text": [
            "     33/100      9.15G      2.246      3.919      2.243         19       1024: 100%|██████████| 14/14 [00:09<00:00,  1.54it/s]\n",
            "                 Class     Images  Instances      Box(P          R      mAP50  mAP50-95): 100%|██████████| 2/2 [00:01<00:00,  1.27it/s]"
          ]
        },
        {
          "output_type": "stream",
          "name": "stdout",
          "text": [
            "                   all         48         48    0.00115      0.353    0.00531    0.00195\n"
          ]
        },
        {
          "output_type": "stream",
          "name": "stderr",
          "text": [
            "\n"
          ]
        },
        {
          "output_type": "stream",
          "name": "stdout",
          "text": [
            "\n",
            "      Epoch    GPU_mem   box_loss   cls_loss   dfl_loss  Instances       Size\n"
          ]
        },
        {
          "output_type": "stream",
          "name": "stderr",
          "text": [
            "     34/100      9.16G       2.21      3.758      2.174         21       1024: 100%|██████████| 14/14 [00:10<00:00,  1.32it/s]\n",
            "                 Class     Images  Instances      Box(P          R      mAP50  mAP50-95): 100%|██████████| 2/2 [00:01<00:00,  1.60it/s]"
          ]
        },
        {
          "output_type": "stream",
          "name": "stdout",
          "text": [
            "                   all         48         48   0.000555      0.222    0.00109   0.000178\n"
          ]
        },
        {
          "output_type": "stream",
          "name": "stderr",
          "text": [
            "\n"
          ]
        },
        {
          "output_type": "stream",
          "name": "stdout",
          "text": [
            "\n",
            "      Epoch    GPU_mem   box_loss   cls_loss   dfl_loss  Instances       Size\n"
          ]
        },
        {
          "output_type": "stream",
          "name": "stderr",
          "text": [
            "     35/100      9.15G      2.131      3.729      2.133         29       1024: 100%|██████████| 14/14 [00:12<00:00,  1.15it/s]\n",
            "                 Class     Images  Instances      Box(P          R      mAP50  mAP50-95): 100%|██████████| 2/2 [00:01<00:00,  1.53it/s]"
          ]
        },
        {
          "output_type": "stream",
          "name": "stdout",
          "text": [
            "                   all         48         48   0.000654      0.289    0.00213   0.000446\n"
          ]
        },
        {
          "output_type": "stream",
          "name": "stderr",
          "text": [
            "\n"
          ]
        },
        {
          "output_type": "stream",
          "name": "stdout",
          "text": [
            "\n",
            "      Epoch    GPU_mem   box_loss   cls_loss   dfl_loss  Instances       Size\n"
          ]
        },
        {
          "output_type": "stream",
          "name": "stderr",
          "text": [
            "     36/100      9.16G      2.193      3.838      2.231         36       1024: 100%|██████████| 14/14 [00:11<00:00,  1.19it/s]\n",
            "                 Class     Images  Instances      Box(P          R      mAP50  mAP50-95): 100%|██████████| 2/2 [00:01<00:00,  1.27it/s]"
          ]
        },
        {
          "output_type": "stream",
          "name": "stdout",
          "text": [
            "                   all         48         48    0.00163      0.289    0.00733    0.00228\n"
          ]
        },
        {
          "output_type": "stream",
          "name": "stderr",
          "text": [
            "\n"
          ]
        },
        {
          "output_type": "stream",
          "name": "stdout",
          "text": [
            "\n",
            "      Epoch    GPU_mem   box_loss   cls_loss   dfl_loss  Instances       Size\n"
          ]
        },
        {
          "output_type": "stream",
          "name": "stderr",
          "text": [
            "     37/100      9.15G        2.1      3.869      2.152         21       1024: 100%|██████████| 14/14 [00:09<00:00,  1.49it/s]\n",
            "                 Class     Images  Instances      Box(P          R      mAP50  mAP50-95): 100%|██████████| 2/2 [00:01<00:00,  1.36it/s]"
          ]
        },
        {
          "output_type": "stream",
          "name": "stdout",
          "text": [
            "                   all         48         48     0.0017      0.289    0.00528    0.00132\n"
          ]
        },
        {
          "output_type": "stream",
          "name": "stderr",
          "text": [
            "\n"
          ]
        },
        {
          "output_type": "stream",
          "name": "stdout",
          "text": [
            "\n",
            "      Epoch    GPU_mem   box_loss   cls_loss   dfl_loss  Instances       Size\n"
          ]
        },
        {
          "output_type": "stream",
          "name": "stderr",
          "text": [
            "     38/100      9.19G      2.103      3.605       2.14         23       1024: 100%|██████████| 14/14 [00:09<00:00,  1.43it/s]\n",
            "                 Class     Images  Instances      Box(P          R      mAP50  mAP50-95): 100%|██████████| 2/2 [00:01<00:00,  1.77it/s]"
          ]
        },
        {
          "output_type": "stream",
          "name": "stdout",
          "text": [
            "                   all         48         48    0.00393      0.189    0.00517    0.00151\n"
          ]
        },
        {
          "output_type": "stream",
          "name": "stderr",
          "text": [
            "\n"
          ]
        },
        {
          "output_type": "stream",
          "name": "stdout",
          "text": [
            "\n",
            "      Epoch    GPU_mem   box_loss   cls_loss   dfl_loss  Instances       Size\n"
          ]
        },
        {
          "output_type": "stream",
          "name": "stderr",
          "text": [
            "     39/100      9.15G      2.115       3.77       2.12         16       1024: 100%|██████████| 14/14 [00:11<00:00,  1.17it/s]\n",
            "                 Class     Images  Instances      Box(P          R      mAP50  mAP50-95): 100%|██████████| 2/2 [00:01<00:00,  1.65it/s]"
          ]
        },
        {
          "output_type": "stream",
          "name": "stdout",
          "text": [
            "                   all         48         48     0.0015        0.3    0.00616    0.00192\n"
          ]
        },
        {
          "output_type": "stream",
          "name": "stderr",
          "text": [
            "\n"
          ]
        },
        {
          "output_type": "stream",
          "name": "stdout",
          "text": [
            "\n",
            "      Epoch    GPU_mem   box_loss   cls_loss   dfl_loss  Instances       Size\n"
          ]
        },
        {
          "output_type": "stream",
          "name": "stderr",
          "text": [
            "     40/100      9.16G      2.139      3.714      2.109         24       1024: 100%|██████████| 14/14 [00:12<00:00,  1.10it/s]\n",
            "                 Class     Images  Instances      Box(P          R      mAP50  mAP50-95): 100%|██████████| 2/2 [00:01<00:00,  1.66it/s]"
          ]
        },
        {
          "output_type": "stream",
          "name": "stdout",
          "text": [
            "                   all         48         48    0.00156        0.3    0.00902    0.00202\n"
          ]
        },
        {
          "output_type": "stream",
          "name": "stderr",
          "text": [
            "\n"
          ]
        },
        {
          "output_type": "stream",
          "name": "stdout",
          "text": [
            "\n",
            "      Epoch    GPU_mem   box_loss   cls_loss   dfl_loss  Instances       Size\n"
          ]
        },
        {
          "output_type": "stream",
          "name": "stderr",
          "text": [
            "     41/100      9.15G      2.146      3.766      2.134         28       1024: 100%|██████████| 14/14 [00:10<00:00,  1.29it/s]\n",
            "                 Class     Images  Instances      Box(P          R      mAP50  mAP50-95): 100%|██████████| 2/2 [00:01<00:00,  1.24it/s]"
          ]
        },
        {
          "output_type": "stream",
          "name": "stdout",
          "text": [
            "                   all         48         48    0.00129      0.289    0.00409    0.00137\n"
          ]
        },
        {
          "output_type": "stream",
          "name": "stderr",
          "text": [
            "\n"
          ]
        },
        {
          "output_type": "stream",
          "name": "stdout",
          "text": [
            "\n",
            "      Epoch    GPU_mem   box_loss   cls_loss   dfl_loss  Instances       Size\n"
          ]
        },
        {
          "output_type": "stream",
          "name": "stderr",
          "text": [
            "     42/100      9.16G       2.03      3.569      2.105         23       1024: 100%|██████████| 14/14 [00:10<00:00,  1.38it/s]\n",
            "                 Class     Images  Instances      Box(P          R      mAP50  mAP50-95): 100%|██████████| 2/2 [00:01<00:00,  1.35it/s]"
          ]
        },
        {
          "output_type": "stream",
          "name": "stdout",
          "text": [
            "                   all         48         48    0.00122      0.344    0.00358    0.00143\n"
          ]
        },
        {
          "output_type": "stream",
          "name": "stderr",
          "text": [
            "\n"
          ]
        },
        {
          "output_type": "stream",
          "name": "stdout",
          "text": [
            "\n",
            "      Epoch    GPU_mem   box_loss   cls_loss   dfl_loss  Instances       Size\n"
          ]
        },
        {
          "output_type": "stream",
          "name": "stderr",
          "text": [
            "     43/100      9.15G      2.137      3.634      2.138         31       1024: 100%|██████████| 14/14 [00:10<00:00,  1.37it/s]\n",
            "                 Class     Images  Instances      Box(P          R      mAP50  mAP50-95): 100%|██████████| 2/2 [00:01<00:00,  1.66it/s]"
          ]
        },
        {
          "output_type": "stream",
          "name": "stdout",
          "text": [
            "                   all         48         48    0.00185      0.397     0.0041    0.00154\n"
          ]
        },
        {
          "output_type": "stream",
          "name": "stderr",
          "text": [
            "\n"
          ]
        },
        {
          "output_type": "stream",
          "name": "stdout",
          "text": [
            "\n",
            "      Epoch    GPU_mem   box_loss   cls_loss   dfl_loss  Instances       Size\n"
          ]
        },
        {
          "output_type": "stream",
          "name": "stderr",
          "text": [
            "     44/100      9.18G      2.087      3.624      2.088         25       1024: 100%|██████████| 14/14 [00:12<00:00,  1.09it/s]\n",
            "                 Class     Images  Instances      Box(P          R      mAP50  mAP50-95): 100%|██████████| 2/2 [00:01<00:00,  1.93it/s]"
          ]
        },
        {
          "output_type": "stream",
          "name": "stdout",
          "text": [
            "                   all         48         48    0.00183      0.244    0.00366   0.000665\n"
          ]
        },
        {
          "output_type": "stream",
          "name": "stderr",
          "text": [
            "\n"
          ]
        },
        {
          "output_type": "stream",
          "name": "stdout",
          "text": [
            "\n",
            "      Epoch    GPU_mem   box_loss   cls_loss   dfl_loss  Instances       Size\n"
          ]
        },
        {
          "output_type": "stream",
          "name": "stderr",
          "text": [
            "     45/100      9.15G      2.058       3.63      2.132         18       1024: 100%|██████████| 14/14 [00:14<00:00,  1.03s/it]\n",
            "                 Class     Images  Instances      Box(P          R      mAP50  mAP50-95): 100%|██████████| 2/2 [00:01<00:00,  1.12it/s]"
          ]
        },
        {
          "output_type": "stream",
          "name": "stdout",
          "text": [
            "                   all         48         48    0.00153      0.278    0.00446    0.00157\n"
          ]
        },
        {
          "output_type": "stream",
          "name": "stderr",
          "text": [
            "\n"
          ]
        },
        {
          "output_type": "stream",
          "name": "stdout",
          "text": [
            "\n",
            "      Epoch    GPU_mem   box_loss   cls_loss   dfl_loss  Instances       Size\n"
          ]
        },
        {
          "output_type": "stream",
          "name": "stderr",
          "text": [
            "     46/100      9.16G      2.115      3.588      2.139         24       1024: 100%|██████████| 14/14 [00:09<00:00,  1.52it/s]\n",
            "                 Class     Images  Instances      Box(P          R      mAP50  mAP50-95): 100%|██████████| 2/2 [00:01<00:00,  1.25it/s]"
          ]
        },
        {
          "output_type": "stream",
          "name": "stdout",
          "text": [
            "                   all         48         48    0.00115      0.322    0.00555      0.002\n"
          ]
        },
        {
          "output_type": "stream",
          "name": "stderr",
          "text": [
            "\n"
          ]
        },
        {
          "output_type": "stream",
          "name": "stdout",
          "text": [
            "\n",
            "      Epoch    GPU_mem   box_loss   cls_loss   dfl_loss  Instances       Size\n"
          ]
        },
        {
          "output_type": "stream",
          "name": "stderr",
          "text": [
            "     47/100      9.15G      2.133      3.603      2.173         27       1024: 100%|██████████| 14/14 [00:10<00:00,  1.37it/s]\n",
            "                 Class     Images  Instances      Box(P          R      mAP50  mAP50-95): 100%|██████████| 2/2 [00:01<00:00,  1.82it/s]"
          ]
        },
        {
          "output_type": "stream",
          "name": "stdout",
          "text": [
            "                   all         48         48    0.00099      0.322    0.00341    0.00133\n"
          ]
        },
        {
          "output_type": "stream",
          "name": "stderr",
          "text": [
            "\n"
          ]
        },
        {
          "output_type": "stream",
          "name": "stdout",
          "text": [
            "\n",
            "      Epoch    GPU_mem   box_loss   cls_loss   dfl_loss  Instances       Size\n"
          ]
        },
        {
          "output_type": "stream",
          "name": "stderr",
          "text": [
            "     48/100      9.19G      2.073      3.555      2.184         24       1024: 100%|██████████| 14/14 [00:12<00:00,  1.10it/s]\n",
            "                 Class     Images  Instances      Box(P          R      mAP50  mAP50-95): 100%|██████████| 2/2 [00:01<00:00,  1.92it/s]"
          ]
        },
        {
          "output_type": "stream",
          "name": "stdout",
          "text": [
            "                   all         48         48    0.00179      0.447    0.00582    0.00248\n"
          ]
        },
        {
          "output_type": "stream",
          "name": "stderr",
          "text": [
            "\n"
          ]
        },
        {
          "output_type": "stream",
          "name": "stdout",
          "text": [
            "\n",
            "      Epoch    GPU_mem   box_loss   cls_loss   dfl_loss  Instances       Size\n"
          ]
        },
        {
          "output_type": "stream",
          "name": "stderr",
          "text": [
            "     49/100      9.15G      2.093      3.601      2.144         21       1024: 100%|██████████| 14/14 [00:12<00:00,  1.10it/s]\n",
            "                 Class     Images  Instances      Box(P          R      mAP50  mAP50-95): 100%|██████████| 2/2 [00:01<00:00,  1.63it/s]"
          ]
        },
        {
          "output_type": "stream",
          "name": "stdout",
          "text": [
            "                   all         48         48    0.00215      0.447     0.0071    0.00247\n"
          ]
        },
        {
          "output_type": "stream",
          "name": "stderr",
          "text": [
            "\n"
          ]
        },
        {
          "output_type": "stream",
          "name": "stdout",
          "text": [
            "\n",
            "      Epoch    GPU_mem   box_loss   cls_loss   dfl_loss  Instances       Size\n"
          ]
        },
        {
          "output_type": "stream",
          "name": "stderr",
          "text": [
            "     50/100      9.16G      2.087      3.747      2.139         25       1024: 100%|██████████| 14/14 [00:10<00:00,  1.31it/s]\n",
            "                 Class     Images  Instances      Box(P          R      mAP50  mAP50-95): 100%|██████████| 2/2 [00:01<00:00,  1.20it/s]"
          ]
        },
        {
          "output_type": "stream",
          "name": "stdout",
          "text": [
            "                   all         48         48    0.00471      0.458      0.022    0.00478\n"
          ]
        },
        {
          "output_type": "stream",
          "name": "stderr",
          "text": [
            "\n"
          ]
        },
        {
          "output_type": "stream",
          "name": "stdout",
          "text": [
            "\n",
            "      Epoch    GPU_mem   box_loss   cls_loss   dfl_loss  Instances       Size\n"
          ]
        },
        {
          "output_type": "stream",
          "name": "stderr",
          "text": [
            "     51/100      9.15G      2.055      3.554      2.101         25       1024: 100%|██████████| 14/14 [00:09<00:00,  1.50it/s]\n",
            "                 Class     Images  Instances      Box(P          R      mAP50  mAP50-95): 100%|██████████| 2/2 [00:01<00:00,  1.63it/s]"
          ]
        },
        {
          "output_type": "stream",
          "name": "stdout",
          "text": [
            "                   all         48         48    0.00193     0.0778    0.00173   0.000672\n"
          ]
        },
        {
          "output_type": "stream",
          "name": "stderr",
          "text": [
            "\n"
          ]
        },
        {
          "output_type": "stream",
          "name": "stdout",
          "text": [
            "\n",
            "      Epoch    GPU_mem   box_loss   cls_loss   dfl_loss  Instances       Size\n"
          ]
        },
        {
          "output_type": "stream",
          "name": "stderr",
          "text": [
            "     52/100      9.16G      2.072      3.493      2.138         26       1024: 100%|██████████| 14/14 [00:11<00:00,  1.20it/s]\n",
            "                 Class     Images  Instances      Box(P          R      mAP50  mAP50-95): 100%|██████████| 2/2 [00:01<00:00,  1.74it/s]"
          ]
        },
        {
          "output_type": "stream",
          "name": "stdout",
          "text": [
            "                   all         48         48    0.00188      0.356     0.0106    0.00335\n"
          ]
        },
        {
          "output_type": "stream",
          "name": "stderr",
          "text": [
            "\n"
          ]
        },
        {
          "output_type": "stream",
          "name": "stdout",
          "text": [
            "\n",
            "      Epoch    GPU_mem   box_loss   cls_loss   dfl_loss  Instances       Size\n"
          ]
        },
        {
          "output_type": "stream",
          "name": "stderr",
          "text": [
            "     53/100      9.15G      2.137      3.568      2.186         27       1024: 100%|██████████| 14/14 [00:13<00:00,  1.07it/s]\n",
            "                 Class     Images  Instances      Box(P          R      mAP50  mAP50-95): 100%|██████████| 2/2 [00:01<00:00,  1.61it/s]"
          ]
        },
        {
          "output_type": "stream",
          "name": "stdout",
          "text": [
            "                   all         48         48      0.003      0.278     0.0112    0.00463\n"
          ]
        },
        {
          "output_type": "stream",
          "name": "stderr",
          "text": [
            "\n"
          ]
        },
        {
          "output_type": "stream",
          "name": "stdout",
          "text": [
            "\n",
            "      Epoch    GPU_mem   box_loss   cls_loss   dfl_loss  Instances       Size\n"
          ]
        },
        {
          "output_type": "stream",
          "name": "stderr",
          "text": [
            "     54/100      9.16G      2.119       3.71      2.152         20       1024: 100%|██████████| 14/14 [00:11<00:00,  1.22it/s]\n",
            "                 Class     Images  Instances      Box(P          R      mAP50  mAP50-95): 100%|██████████| 2/2 [00:01<00:00,  1.14it/s]"
          ]
        },
        {
          "output_type": "stream",
          "name": "stdout",
          "text": [
            "                   all         48         48    0.00126      0.322    0.00409    0.00183\n"
          ]
        },
        {
          "output_type": "stream",
          "name": "stderr",
          "text": [
            "\n"
          ]
        },
        {
          "output_type": "stream",
          "name": "stdout",
          "text": [
            "\n",
            "      Epoch    GPU_mem   box_loss   cls_loss   dfl_loss  Instances       Size\n"
          ]
        },
        {
          "output_type": "stream",
          "name": "stderr",
          "text": [
            "     55/100      9.15G      2.091      3.622      2.168         24       1024: 100%|██████████| 14/14 [00:09<00:00,  1.53it/s]\n",
            "                 Class     Images  Instances      Box(P          R      mAP50  mAP50-95): 100%|██████████| 2/2 [00:01<00:00,  1.21it/s]"
          ]
        },
        {
          "output_type": "stream",
          "name": "stdout",
          "text": [
            "                   all         48         48     0.0034      0.344    0.00465    0.00165\n"
          ]
        },
        {
          "output_type": "stream",
          "name": "stderr",
          "text": [
            "\n"
          ]
        },
        {
          "output_type": "stream",
          "name": "stdout",
          "text": [
            "\n",
            "      Epoch    GPU_mem   box_loss   cls_loss   dfl_loss  Instances       Size\n"
          ]
        },
        {
          "output_type": "stream",
          "name": "stderr",
          "text": [
            "     56/100      9.19G      2.053      3.516      2.125         23       1024: 100%|██████████| 14/14 [00:10<00:00,  1.36it/s]\n",
            "                 Class     Images  Instances      Box(P          R      mAP50  mAP50-95): 100%|██████████| 2/2 [00:01<00:00,  1.58it/s]"
          ]
        },
        {
          "output_type": "stream",
          "name": "stdout",
          "text": [
            "                   all         48         48   0.000933      0.322    0.00557    0.00267\n"
          ]
        },
        {
          "output_type": "stream",
          "name": "stderr",
          "text": [
            "\n"
          ]
        },
        {
          "output_type": "stream",
          "name": "stdout",
          "text": [
            "\n",
            "      Epoch    GPU_mem   box_loss   cls_loss   dfl_loss  Instances       Size\n"
          ]
        },
        {
          "output_type": "stream",
          "name": "stderr",
          "text": [
            "     57/100      9.15G      2.117      3.604      2.153         25       1024: 100%|██████████| 14/14 [00:11<00:00,  1.17it/s]\n",
            "                 Class     Images  Instances      Box(P          R      mAP50  mAP50-95): 100%|██████████| 2/2 [00:01<00:00,  1.69it/s]"
          ]
        },
        {
          "output_type": "stream",
          "name": "stdout",
          "text": [
            "                   all         48         48    0.00148      0.356     0.0126    0.00262\n"
          ]
        },
        {
          "output_type": "stream",
          "name": "stderr",
          "text": [
            "\n"
          ]
        },
        {
          "output_type": "stream",
          "name": "stdout",
          "text": [
            "\n",
            "      Epoch    GPU_mem   box_loss   cls_loss   dfl_loss  Instances       Size\n"
          ]
        },
        {
          "output_type": "stream",
          "name": "stderr",
          "text": [
            "     58/100      9.19G      2.094      3.567      2.151         27       1024: 100%|██████████| 14/14 [00:13<00:00,  1.07it/s]\n",
            "                 Class     Images  Instances      Box(P          R      mAP50  mAP50-95): 100%|██████████| 2/2 [00:01<00:00,  1.77it/s]"
          ]
        },
        {
          "output_type": "stream",
          "name": "stdout",
          "text": [
            "                   all         48         48     0.0013      0.311    0.00665    0.00291\n"
          ]
        },
        {
          "output_type": "stream",
          "name": "stderr",
          "text": [
            "\n"
          ]
        },
        {
          "output_type": "stream",
          "name": "stdout",
          "text": [
            "\n",
            "      Epoch    GPU_mem   box_loss   cls_loss   dfl_loss  Instances       Size\n"
          ]
        },
        {
          "output_type": "stream",
          "name": "stderr",
          "text": [
            "     59/100      9.15G      2.033       3.56      2.117         17       1024: 100%|██████████| 14/14 [00:14<00:00,  1.02s/it]\n",
            "                 Class     Images  Instances      Box(P          R      mAP50  mAP50-95): 100%|██████████| 2/2 [00:01<00:00,  1.10it/s]"
          ]
        },
        {
          "output_type": "stream",
          "name": "stdout",
          "text": [
            "                   all         48         48   0.000696      0.322    0.00376    0.00168\n"
          ]
        },
        {
          "output_type": "stream",
          "name": "stderr",
          "text": [
            "\n"
          ]
        },
        {
          "output_type": "stream",
          "name": "stdout",
          "text": [
            "\n",
            "      Epoch    GPU_mem   box_loss   cls_loss   dfl_loss  Instances       Size\n"
          ]
        },
        {
          "output_type": "stream",
          "name": "stderr",
          "text": [
            "     60/100      9.19G      2.141      3.695       2.17         20       1024: 100%|██████████| 14/14 [00:09<00:00,  1.48it/s]\n",
            "                 Class     Images  Instances      Box(P          R      mAP50  mAP50-95): 100%|██████████| 2/2 [00:01<00:00,  1.37it/s]"
          ]
        },
        {
          "output_type": "stream",
          "name": "stdout",
          "text": [
            "                   all         48         48   0.000685      0.322    0.00328    0.00146\n"
          ]
        },
        {
          "output_type": "stream",
          "name": "stderr",
          "text": [
            "\n"
          ]
        },
        {
          "output_type": "stream",
          "name": "stdout",
          "text": [
            "\n",
            "      Epoch    GPU_mem   box_loss   cls_loss   dfl_loss  Instances       Size\n"
          ]
        },
        {
          "output_type": "stream",
          "name": "stderr",
          "text": [
            "     61/100      9.15G      2.071      3.501      2.127         27       1024: 100%|██████████| 14/14 [00:10<00:00,  1.37it/s]\n",
            "                 Class     Images  Instances      Box(P          R      mAP50  mAP50-95): 100%|██████████| 2/2 [00:01<00:00,  1.70it/s]"
          ]
        },
        {
          "output_type": "stream",
          "name": "stdout",
          "text": [
            "                   all         48         48    0.00134      0.322    0.00492    0.00219\n"
          ]
        },
        {
          "output_type": "stream",
          "name": "stderr",
          "text": [
            "\n"
          ]
        },
        {
          "output_type": "stream",
          "name": "stdout",
          "text": [
            "\n",
            "      Epoch    GPU_mem   box_loss   cls_loss   dfl_loss  Instances       Size\n"
          ]
        },
        {
          "output_type": "stream",
          "name": "stderr",
          "text": [
            "     62/100      9.16G      2.023      3.688      2.116         19       1024: 100%|██████████| 14/14 [00:12<00:00,  1.10it/s]\n",
            "                 Class     Images  Instances      Box(P          R      mAP50  mAP50-95): 100%|██████████| 2/2 [00:01<00:00,  1.74it/s]"
          ]
        },
        {
          "output_type": "stream",
          "name": "stdout",
          "text": [
            "                   all         48         48    0.00127      0.333     0.0054    0.00265\n"
          ]
        },
        {
          "output_type": "stream",
          "name": "stderr",
          "text": [
            "\n"
          ]
        },
        {
          "output_type": "stream",
          "name": "stdout",
          "text": [
            "\n",
            "      Epoch    GPU_mem   box_loss   cls_loss   dfl_loss  Instances       Size\n"
          ]
        },
        {
          "output_type": "stream",
          "name": "stderr",
          "text": [
            "     63/100      9.15G      2.026       3.57      2.116         24       1024: 100%|██████████| 14/14 [00:12<00:00,  1.16it/s]\n",
            "                 Class     Images  Instances      Box(P          R      mAP50  mAP50-95): 100%|██████████| 2/2 [00:01<00:00,  1.67it/s]"
          ]
        },
        {
          "output_type": "stream",
          "name": "stdout",
          "text": [
            "                   all         48         48    0.00139      0.322    0.00536    0.00199\n"
          ]
        },
        {
          "output_type": "stream",
          "name": "stderr",
          "text": [
            "\n"
          ]
        },
        {
          "output_type": "stream",
          "name": "stdout",
          "text": [
            "\n",
            "      Epoch    GPU_mem   box_loss   cls_loss   dfl_loss  Instances       Size\n"
          ]
        },
        {
          "output_type": "stream",
          "name": "stderr",
          "text": [
            "     64/100      9.16G      2.014       3.63      2.089         16       1024: 100%|██████████| 14/14 [00:10<00:00,  1.34it/s]\n",
            "                 Class     Images  Instances      Box(P          R      mAP50  mAP50-95): 100%|██████████| 2/2 [00:01<00:00,  1.33it/s]"
          ]
        },
        {
          "output_type": "stream",
          "name": "stdout",
          "text": [
            "                   all         48         48     0.0015      0.278    0.00594    0.00183\n"
          ]
        },
        {
          "output_type": "stream",
          "name": "stderr",
          "text": [
            "\n"
          ]
        },
        {
          "output_type": "stream",
          "name": "stdout",
          "text": [
            "\n",
            "      Epoch    GPU_mem   box_loss   cls_loss   dfl_loss  Instances       Size\n"
          ]
        },
        {
          "output_type": "stream",
          "name": "stderr",
          "text": [
            "     65/100      9.15G       2.01      3.505       2.08         28       1024: 100%|██████████| 14/14 [00:09<00:00,  1.44it/s]\n",
            "                 Class     Images  Instances      Box(P          R      mAP50  mAP50-95): 100%|██████████| 2/2 [00:01<00:00,  1.71it/s]"
          ]
        },
        {
          "output_type": "stream",
          "name": "stdout",
          "text": [
            "                   all         48         48    0.00171      0.311    0.00605    0.00241\n"
          ]
        },
        {
          "output_type": "stream",
          "name": "stderr",
          "text": [
            "\n"
          ]
        },
        {
          "output_type": "stream",
          "name": "stdout",
          "text": [
            "\n",
            "      Epoch    GPU_mem   box_loss   cls_loss   dfl_loss  Instances       Size\n"
          ]
        },
        {
          "output_type": "stream",
          "name": "stderr",
          "text": [
            "     66/100      9.17G      2.027      3.464      2.109         24       1024: 100%|██████████| 14/14 [00:11<00:00,  1.19it/s]\n",
            "                 Class     Images  Instances      Box(P          R      mAP50  mAP50-95): 100%|██████████| 2/2 [00:01<00:00,  1.62it/s]"
          ]
        },
        {
          "output_type": "stream",
          "name": "stdout",
          "text": [
            "                   all         48         48    0.00294      0.333    0.00677     0.0027\n"
          ]
        },
        {
          "output_type": "stream",
          "name": "stderr",
          "text": [
            "\n"
          ]
        },
        {
          "output_type": "stream",
          "name": "stdout",
          "text": [
            "\n",
            "      Epoch    GPU_mem   box_loss   cls_loss   dfl_loss  Instances       Size\n"
          ]
        },
        {
          "output_type": "stream",
          "name": "stderr",
          "text": [
            "     67/100      9.15G      2.009       3.47      2.092         22       1024: 100%|██████████| 14/14 [00:12<00:00,  1.12it/s]\n",
            "                 Class     Images  Instances      Box(P          R      mAP50  mAP50-95): 100%|██████████| 2/2 [00:01<00:00,  1.78it/s]"
          ]
        },
        {
          "output_type": "stream",
          "name": "stdout",
          "text": [
            "                   all         48         48    0.00269      0.311    0.00926    0.00303\n"
          ]
        },
        {
          "output_type": "stream",
          "name": "stderr",
          "text": [
            "\n"
          ]
        },
        {
          "output_type": "stream",
          "name": "stdout",
          "text": [
            "\n",
            "      Epoch    GPU_mem   box_loss   cls_loss   dfl_loss  Instances       Size\n"
          ]
        },
        {
          "output_type": "stream",
          "name": "stderr",
          "text": [
            "     68/100      9.16G      1.984      3.459      2.115         21       1024: 100%|██████████| 14/14 [00:12<00:00,  1.14it/s]\n",
            "                 Class     Images  Instances      Box(P          R      mAP50  mAP50-95): 100%|██████████| 2/2 [00:01<00:00,  1.16it/s]"
          ]
        },
        {
          "output_type": "stream",
          "name": "stdout",
          "text": [
            "                   all         48         48    0.00266      0.356    0.00592    0.00229\n"
          ]
        },
        {
          "output_type": "stream",
          "name": "stderr",
          "text": [
            "\n"
          ]
        },
        {
          "output_type": "stream",
          "name": "stdout",
          "text": [
            "\n",
            "      Epoch    GPU_mem   box_loss   cls_loss   dfl_loss  Instances       Size\n"
          ]
        },
        {
          "output_type": "stream",
          "name": "stderr",
          "text": [
            "     69/100      9.15G      1.993      3.538      2.091         20       1024: 100%|██████████| 14/14 [00:09<00:00,  1.52it/s]\n",
            "                 Class     Images  Instances      Box(P          R      mAP50  mAP50-95): 100%|██████████| 2/2 [00:01<00:00,  1.35it/s]"
          ]
        },
        {
          "output_type": "stream",
          "name": "stdout",
          "text": [
            "                   all         48         48    0.00387      0.353    0.00753    0.00278\n"
          ]
        },
        {
          "output_type": "stream",
          "name": "stderr",
          "text": [
            "\n"
          ]
        },
        {
          "output_type": "stream",
          "name": "stdout",
          "text": [
            "\n",
            "      Epoch    GPU_mem   box_loss   cls_loss   dfl_loss  Instances       Size\n"
          ]
        },
        {
          "output_type": "stream",
          "name": "stderr",
          "text": [
            "     70/100      9.18G      2.005      3.466      2.106         25       1024: 100%|██████████| 14/14 [00:11<00:00,  1.25it/s]\n",
            "                 Class     Images  Instances      Box(P          R      mAP50  mAP50-95): 100%|██████████| 2/2 [00:01<00:00,  1.64it/s]"
          ]
        },
        {
          "output_type": "stream",
          "name": "stdout",
          "text": [
            "                   all         48         48    0.00366      0.439    0.00785    0.00335\n"
          ]
        },
        {
          "output_type": "stream",
          "name": "stderr",
          "text": [
            "\n"
          ]
        },
        {
          "output_type": "stream",
          "name": "stdout",
          "text": [
            "\n",
            "      Epoch    GPU_mem   box_loss   cls_loss   dfl_loss  Instances       Size\n"
          ]
        },
        {
          "output_type": "stream",
          "name": "stderr",
          "text": [
            "     71/100      9.15G      1.978      3.377      2.095         17       1024: 100%|██████████| 14/14 [00:12<00:00,  1.12it/s]\n",
            "                 Class     Images  Instances      Box(P          R      mAP50  mAP50-95): 100%|██████████| 2/2 [00:01<00:00,  1.65it/s]"
          ]
        },
        {
          "output_type": "stream",
          "name": "stdout",
          "text": [
            "                   all         48         48    0.00226      0.406    0.00531    0.00239\n"
          ]
        },
        {
          "output_type": "stream",
          "name": "stderr",
          "text": [
            "\n"
          ]
        },
        {
          "output_type": "stream",
          "name": "stdout",
          "text": [
            "\n",
            "      Epoch    GPU_mem   box_loss   cls_loss   dfl_loss  Instances       Size\n"
          ]
        },
        {
          "output_type": "stream",
          "name": "stderr",
          "text": [
            "     72/100      9.17G      1.965      3.467      2.071         18       1024: 100%|██████████| 14/14 [00:11<00:00,  1.19it/s]\n",
            "                 Class     Images  Instances      Box(P          R      mAP50  mAP50-95): 100%|██████████| 2/2 [00:01<00:00,  1.14it/s]"
          ]
        },
        {
          "output_type": "stream",
          "name": "stdout",
          "text": [
            "                   all         48         48    0.00156      0.364    0.00534    0.00254\n"
          ]
        },
        {
          "output_type": "stream",
          "name": "stderr",
          "text": [
            "\n"
          ]
        },
        {
          "output_type": "stream",
          "name": "stdout",
          "text": [
            "\n",
            "      Epoch    GPU_mem   box_loss   cls_loss   dfl_loss  Instances       Size\n"
          ]
        },
        {
          "output_type": "stream",
          "name": "stderr",
          "text": [
            "     73/100      9.15G      2.034      3.445      2.132         23       1024: 100%|██████████| 14/14 [00:14<00:00,  1.02s/it]\n",
            "                 Class     Images  Instances      Box(P          R      mAP50  mAP50-95): 100%|██████████| 2/2 [00:01<00:00,  1.15it/s]"
          ]
        },
        {
          "output_type": "stream",
          "name": "stdout",
          "text": [
            "                   all         48         48    0.00139      0.322    0.00605    0.00241\n"
          ]
        },
        {
          "output_type": "stream",
          "name": "stderr",
          "text": [
            "\n"
          ]
        },
        {
          "output_type": "stream",
          "name": "stdout",
          "text": [
            "\n",
            "      Epoch    GPU_mem   box_loss   cls_loss   dfl_loss  Instances       Size\n"
          ]
        },
        {
          "output_type": "stream",
          "name": "stderr",
          "text": [
            "     74/100      9.19G      1.979      3.505      2.085         21       1024: 100%|██████████| 14/14 [00:09<00:00,  1.44it/s]\n",
            "                 Class     Images  Instances      Box(P          R      mAP50  mAP50-95): 100%|██████████| 2/2 [00:01<00:00,  1.31it/s]"
          ]
        },
        {
          "output_type": "stream",
          "name": "stdout",
          "text": [
            "                   all         48         48    0.00139      0.356     0.0066     0.0029\n"
          ]
        },
        {
          "output_type": "stream",
          "name": "stderr",
          "text": [
            "\n"
          ]
        },
        {
          "output_type": "stream",
          "name": "stdout",
          "text": [
            "\n",
            "      Epoch    GPU_mem   box_loss   cls_loss   dfl_loss  Instances       Size\n"
          ]
        },
        {
          "output_type": "stream",
          "name": "stderr",
          "text": [
            "     75/100      9.15G      1.976      3.499      2.079         20       1024: 100%|██████████| 14/14 [00:10<00:00,  1.31it/s]\n",
            "                 Class     Images  Instances      Box(P          R      mAP50  mAP50-95): 100%|██████████| 2/2 [00:01<00:00,  1.67it/s]"
          ]
        },
        {
          "output_type": "stream",
          "name": "stdout",
          "text": [
            "                   all         48         48    0.00117      0.322     0.0054    0.00235\n"
          ]
        },
        {
          "output_type": "stream",
          "name": "stderr",
          "text": [
            "\n"
          ]
        },
        {
          "output_type": "stream",
          "name": "stdout",
          "text": [
            "\n",
            "      Epoch    GPU_mem   box_loss   cls_loss   dfl_loss  Instances       Size\n"
          ]
        },
        {
          "output_type": "stream",
          "name": "stderr",
          "text": [
            "     76/100      9.16G      1.954      3.424      2.072         20       1024: 100%|██████████| 14/14 [00:12<00:00,  1.16it/s]\n",
            "                 Class     Images  Instances      Box(P          R      mAP50  mAP50-95): 100%|██████████| 2/2 [00:01<00:00,  1.74it/s]"
          ]
        },
        {
          "output_type": "stream",
          "name": "stdout",
          "text": [
            "                   all         48         48    0.00143      0.322    0.00746    0.00322\n"
          ]
        },
        {
          "output_type": "stream",
          "name": "stderr",
          "text": [
            "\n"
          ]
        },
        {
          "output_type": "stream",
          "name": "stdout",
          "text": [
            "\n",
            "      Epoch    GPU_mem   box_loss   cls_loss   dfl_loss  Instances       Size\n"
          ]
        },
        {
          "output_type": "stream",
          "name": "stderr",
          "text": [
            "     77/100      9.15G      1.919      3.355      2.015         24       1024: 100%|██████████| 14/14 [00:12<00:00,  1.14it/s]\n",
            "                 Class     Images  Instances      Box(P          R      mAP50  mAP50-95): 100%|██████████| 2/2 [00:01<00:00,  1.59it/s]"
          ]
        },
        {
          "output_type": "stream",
          "name": "stdout",
          "text": [
            "                   all         48         48     0.0018      0.364     0.0119    0.00458\n"
          ]
        },
        {
          "output_type": "stream",
          "name": "stderr",
          "text": [
            "\n"
          ]
        },
        {
          "output_type": "stream",
          "name": "stdout",
          "text": [
            "\n",
            "      Epoch    GPU_mem   box_loss   cls_loss   dfl_loss  Instances       Size\n"
          ]
        },
        {
          "output_type": "stream",
          "name": "stderr",
          "text": [
            "     78/100      9.17G      1.973      3.413      2.048         19       1024: 100%|██████████| 14/14 [00:10<00:00,  1.35it/s]\n",
            "                 Class     Images  Instances      Box(P          R      mAP50  mAP50-95): 100%|██████████| 2/2 [00:01<00:00,  1.11it/s]"
          ]
        },
        {
          "output_type": "stream",
          "name": "stdout",
          "text": [
            "                   all         48         48    0.00193      0.447     0.0117    0.00426\n"
          ]
        },
        {
          "output_type": "stream",
          "name": "stderr",
          "text": [
            "\n"
          ]
        },
        {
          "output_type": "stream",
          "name": "stdout",
          "text": [
            "\n",
            "      Epoch    GPU_mem   box_loss   cls_loss   dfl_loss  Instances       Size\n"
          ]
        },
        {
          "output_type": "stream",
          "name": "stderr",
          "text": [
            "     79/100      9.15G      1.976      3.448      2.054         22       1024: 100%|██████████| 14/14 [00:09<00:00,  1.41it/s]\n",
            "                 Class     Images  Instances      Box(P          R      mAP50  mAP50-95): 100%|██████████| 2/2 [00:01<00:00,  1.51it/s]"
          ]
        },
        {
          "output_type": "stream",
          "name": "stdout",
          "text": [
            "                   all         48         48    0.00228      0.447     0.0113    0.00401\n"
          ]
        },
        {
          "output_type": "stream",
          "name": "stderr",
          "text": [
            "\n"
          ]
        },
        {
          "output_type": "stream",
          "name": "stdout",
          "text": [
            "\n",
            "      Epoch    GPU_mem   box_loss   cls_loss   dfl_loss  Instances       Size\n"
          ]
        },
        {
          "output_type": "stream",
          "name": "stderr",
          "text": [
            "     80/100      9.19G      1.974      3.421      2.084         20       1024: 100%|██████████| 14/14 [00:11<00:00,  1.24it/s]\n",
            "                 Class     Images  Instances      Box(P          R      mAP50  mAP50-95): 100%|██████████| 2/2 [00:01<00:00,  1.67it/s]"
          ]
        },
        {
          "output_type": "stream",
          "name": "stdout",
          "text": [
            "                   all         48         48    0.00259      0.375     0.0113     0.0044\n"
          ]
        },
        {
          "output_type": "stream",
          "name": "stderr",
          "text": [
            "\n"
          ]
        },
        {
          "output_type": "stream",
          "name": "stdout",
          "text": [
            "\n",
            "      Epoch    GPU_mem   box_loss   cls_loss   dfl_loss  Instances       Size\n"
          ]
        },
        {
          "output_type": "stream",
          "name": "stderr",
          "text": [
            "     81/100      9.15G      1.984      3.463       2.08         18       1024: 100%|██████████| 14/14 [00:12<00:00,  1.08it/s]\n",
            "                 Class     Images  Instances      Box(P          R      mAP50  mAP50-95): 100%|██████████| 2/2 [00:01<00:00,  1.64it/s]"
          ]
        },
        {
          "output_type": "stream",
          "name": "stdout",
          "text": [
            "                   all         48         48    0.00285      0.364      0.011    0.00425\n"
          ]
        },
        {
          "output_type": "stream",
          "name": "stderr",
          "text": [
            "\n"
          ]
        },
        {
          "output_type": "stream",
          "name": "stdout",
          "text": [
            "\n",
            "      Epoch    GPU_mem   box_loss   cls_loss   dfl_loss  Instances       Size\n"
          ]
        },
        {
          "output_type": "stream",
          "name": "stderr",
          "text": [
            "     82/100      9.18G       1.98      3.395      2.068         25       1024: 100%|██████████| 14/14 [00:11<00:00,  1.22it/s]\n",
            "                 Class     Images  Instances      Box(P          R      mAP50  mAP50-95): 100%|██████████| 2/2 [00:01<00:00,  1.16it/s]"
          ]
        },
        {
          "output_type": "stream",
          "name": "stdout",
          "text": [
            "                   all         48         48      0.002      0.389    0.00851    0.00348\n"
          ]
        },
        {
          "output_type": "stream",
          "name": "stderr",
          "text": [
            "\n"
          ]
        },
        {
          "output_type": "stream",
          "name": "stdout",
          "text": [
            "\n",
            "      Epoch    GPU_mem   box_loss   cls_loss   dfl_loss  Instances       Size\n"
          ]
        },
        {
          "output_type": "stream",
          "name": "stderr",
          "text": [
            "     83/100      9.15G      1.924      3.486       2.08         20       1024: 100%|██████████| 14/14 [00:09<00:00,  1.52it/s]\n",
            "                 Class     Images  Instances      Box(P          R      mAP50  mAP50-95): 100%|██████████| 2/2 [00:01<00:00,  1.28it/s]"
          ]
        },
        {
          "output_type": "stream",
          "name": "stdout",
          "text": [
            "                   all         48         48    0.00203      0.389    0.00675    0.00297\n"
          ]
        },
        {
          "output_type": "stream",
          "name": "stderr",
          "text": [
            "\n"
          ]
        },
        {
          "output_type": "stream",
          "name": "stdout",
          "text": [
            "\n",
            "      Epoch    GPU_mem   box_loss   cls_loss   dfl_loss  Instances       Size\n"
          ]
        },
        {
          "output_type": "stream",
          "name": "stderr",
          "text": [
            "     84/100      9.17G      1.914      3.288      2.039         29       1024: 100%|██████████| 14/14 [00:10<00:00,  1.27it/s]\n",
            "                 Class     Images  Instances      Box(P          R      mAP50  mAP50-95): 100%|██████████| 2/2 [00:01<00:00,  1.59it/s]"
          ]
        },
        {
          "output_type": "stream",
          "name": "stdout",
          "text": [
            "                   all         48         48    0.00173      0.322     0.0104    0.00377\n"
          ]
        },
        {
          "output_type": "stream",
          "name": "stderr",
          "text": [
            "\n"
          ]
        },
        {
          "output_type": "stream",
          "name": "stdout",
          "text": [
            "\n",
            "      Epoch    GPU_mem   box_loss   cls_loss   dfl_loss  Instances       Size\n"
          ]
        },
        {
          "output_type": "stream",
          "name": "stderr",
          "text": [
            "     85/100      9.15G      1.916      3.306      2.029         24       1024: 100%|██████████| 14/14 [00:12<00:00,  1.12it/s]\n",
            "                 Class     Images  Instances      Box(P          R      mAP50  mAP50-95): 100%|██████████| 2/2 [00:01<00:00,  1.64it/s]"
          ]
        },
        {
          "output_type": "stream",
          "name": "stdout",
          "text": [
            "                   all         48         48    0.00168      0.311      0.011    0.00423\n"
          ]
        },
        {
          "output_type": "stream",
          "name": "stderr",
          "text": [
            "\n"
          ]
        },
        {
          "output_type": "stream",
          "name": "stdout",
          "text": [
            "\n",
            "      Epoch    GPU_mem   box_loss   cls_loss   dfl_loss  Instances       Size\n"
          ]
        },
        {
          "output_type": "stream",
          "name": "stderr",
          "text": [
            "     86/100      9.16G      1.938      3.366      2.036         21       1024: 100%|██████████| 14/14 [00:12<00:00,  1.13it/s]\n",
            "                 Class     Images  Instances      Box(P          R      mAP50  mAP50-95): 100%|██████████| 2/2 [00:01<00:00,  1.08it/s]"
          ]
        },
        {
          "output_type": "stream",
          "name": "stdout",
          "text": [
            "                   all         48         48     0.0018      0.322     0.0097    0.00424\n"
          ]
        },
        {
          "output_type": "stream",
          "name": "stderr",
          "text": [
            "\n"
          ]
        },
        {
          "output_type": "stream",
          "name": "stdout",
          "text": [
            "\n",
            "      Epoch    GPU_mem   box_loss   cls_loss   dfl_loss  Instances       Size\n"
          ]
        },
        {
          "output_type": "stream",
          "name": "stderr",
          "text": [
            "     87/100      9.15G      1.898      3.311      2.057         20       1024: 100%|██████████| 14/14 [00:13<00:00,  1.07it/s]\n",
            "                 Class     Images  Instances      Box(P          R      mAP50  mAP50-95): 100%|██████████| 2/2 [00:01<00:00,  1.28it/s]"
          ]
        },
        {
          "output_type": "stream",
          "name": "stdout",
          "text": [
            "                   all         48         48    0.00172      0.322     0.0089    0.00424\n"
          ]
        },
        {
          "output_type": "stream",
          "name": "stderr",
          "text": [
            "\n"
          ]
        },
        {
          "output_type": "stream",
          "name": "stdout",
          "text": [
            "\n",
            "      Epoch    GPU_mem   box_loss   cls_loss   dfl_loss  Instances       Size\n"
          ]
        },
        {
          "output_type": "stream",
          "name": "stderr",
          "text": [
            "     88/100      9.16G      1.815      3.162      1.966         22       1024: 100%|██████████| 14/14 [00:09<00:00,  1.46it/s]\n",
            "                 Class     Images  Instances      Box(P          R      mAP50  mAP50-95): 100%|██████████| 2/2 [00:01<00:00,  1.18it/s]"
          ]
        },
        {
          "output_type": "stream",
          "name": "stdout",
          "text": [
            "                   all         48         48    0.00324      0.397       0.01    0.00339\n"
          ]
        },
        {
          "output_type": "stream",
          "name": "stderr",
          "text": [
            "\n"
          ]
        },
        {
          "output_type": "stream",
          "name": "stdout",
          "text": [
            "\n",
            "      Epoch    GPU_mem   box_loss   cls_loss   dfl_loss  Instances       Size\n"
          ]
        },
        {
          "output_type": "stream",
          "name": "stderr",
          "text": [
            "     89/100      9.15G      1.884      3.277      2.017         20       1024: 100%|██████████| 14/14 [00:09<00:00,  1.45it/s]\n",
            "                 Class     Images  Instances      Box(P          R      mAP50  mAP50-95): 100%|██████████| 2/2 [00:01<00:00,  1.47it/s]"
          ]
        },
        {
          "output_type": "stream",
          "name": "stdout",
          "text": [
            "                   all         48         48    0.00268      0.356    0.00755    0.00367\n"
          ]
        },
        {
          "output_type": "stream",
          "name": "stderr",
          "text": [
            "\n"
          ]
        },
        {
          "output_type": "stream",
          "name": "stdout",
          "text": [
            "\n",
            "      Epoch    GPU_mem   box_loss   cls_loss   dfl_loss  Instances       Size\n"
          ]
        },
        {
          "output_type": "stream",
          "name": "stderr",
          "text": [
            "     90/100      9.18G      1.894      3.293      2.001         21       1024: 100%|██████████| 14/14 [00:11<00:00,  1.17it/s]\n",
            "                 Class     Images  Instances      Box(P          R      mAP50  mAP50-95): 100%|██████████| 2/2 [00:01<00:00,  1.59it/s]"
          ]
        },
        {
          "output_type": "stream",
          "name": "stdout",
          "text": [
            "                   all         48         48    0.00318      0.397    0.00935    0.00434\n"
          ]
        },
        {
          "output_type": "stream",
          "name": "stderr",
          "text": [
            "\n"
          ]
        },
        {
          "output_type": "stream",
          "name": "stdout",
          "text": [
            "Closing dataloader mosaic\n",
            "\u001b[34m\u001b[1malbumentations: \u001b[0mBlur(p=0.01, blur_limit=(3, 7)), MedianBlur(p=0.01, blur_limit=(3, 7)), ToGray(p=0.01, num_output_channels=3, method='weighted_average'), CLAHE(p=0.01, clip_limit=(1.0, 4.0), tile_grid_size=(8, 8))\n",
            "\n",
            "      Epoch    GPU_mem   box_loss   cls_loss   dfl_loss  Instances       Size\n"
          ]
        },
        {
          "output_type": "stream",
          "name": "stderr",
          "text": [
            "     91/100      9.15G      1.844      3.393      2.077         16       1024: 100%|██████████| 14/14 [00:18<00:00,  1.30s/it]\n",
            "                 Class     Images  Instances      Box(P          R      mAP50  mAP50-95): 100%|██████████| 2/2 [00:01<00:00,  1.65it/s]"
          ]
        },
        {
          "output_type": "stream",
          "name": "stdout",
          "text": [
            "                   all         48         48    0.00273      0.333     0.0102    0.00468\n"
          ]
        },
        {
          "output_type": "stream",
          "name": "stderr",
          "text": [
            "\n"
          ]
        },
        {
          "output_type": "stream",
          "name": "stdout",
          "text": [
            "\n",
            "      Epoch    GPU_mem   box_loss   cls_loss   dfl_loss  Instances       Size\n"
          ]
        },
        {
          "output_type": "stream",
          "name": "stderr",
          "text": [
            "     92/100      9.16G      1.809      3.294      2.053         16       1024: 100%|██████████| 14/14 [00:12<00:00,  1.13it/s]\n",
            "                 Class     Images  Instances      Box(P          R      mAP50  mAP50-95): 100%|██████████| 2/2 [00:01<00:00,  1.60it/s]"
          ]
        },
        {
          "output_type": "stream",
          "name": "stdout",
          "text": [
            "                   all         48         48    0.00311      0.344     0.0109    0.00476\n"
          ]
        },
        {
          "output_type": "stream",
          "name": "stderr",
          "text": [
            "\n"
          ]
        },
        {
          "output_type": "stream",
          "name": "stdout",
          "text": [
            "\n",
            "      Epoch    GPU_mem   box_loss   cls_loss   dfl_loss  Instances       Size\n"
          ]
        },
        {
          "output_type": "stream",
          "name": "stderr",
          "text": [
            "     93/100      9.15G       1.79      3.213      2.017         16       1024: 100%|██████████| 14/14 [00:09<00:00,  1.40it/s]\n",
            "                 Class     Images  Instances      Box(P          R      mAP50  mAP50-95): 100%|██████████| 2/2 [00:01<00:00,  1.30it/s]"
          ]
        },
        {
          "output_type": "stream",
          "name": "stdout",
          "text": [
            "                   all         48         48     0.0032      0.356     0.0133    0.00456\n"
          ]
        },
        {
          "output_type": "stream",
          "name": "stderr",
          "text": [
            "\n"
          ]
        },
        {
          "output_type": "stream",
          "name": "stdout",
          "text": [
            "\n",
            "      Epoch    GPU_mem   box_loss   cls_loss   dfl_loss  Instances       Size\n"
          ]
        },
        {
          "output_type": "stream",
          "name": "stderr",
          "text": [
            "     94/100      9.16G      1.771      3.287      2.031         16       1024: 100%|██████████| 14/14 [00:09<00:00,  1.55it/s]\n",
            "                 Class     Images  Instances      Box(P          R      mAP50  mAP50-95): 100%|██████████| 2/2 [00:01<00:00,  1.29it/s]"
          ]
        },
        {
          "output_type": "stream",
          "name": "stdout",
          "text": [
            "                   all         48         48    0.00277      0.322      0.012    0.00464\n"
          ]
        },
        {
          "output_type": "stream",
          "name": "stderr",
          "text": [
            "\n"
          ]
        },
        {
          "output_type": "stream",
          "name": "stdout",
          "text": [
            "\n",
            "      Epoch    GPU_mem   box_loss   cls_loss   dfl_loss  Instances       Size\n"
          ]
        },
        {
          "output_type": "stream",
          "name": "stderr",
          "text": [
            "     95/100      9.15G      1.756      3.201       2.05         16       1024: 100%|██████████| 14/14 [00:10<00:00,  1.33it/s]\n",
            "                 Class     Images  Instances      Box(P          R      mAP50  mAP50-95): 100%|██████████| 2/2 [00:01<00:00,  1.67it/s]"
          ]
        },
        {
          "output_type": "stream",
          "name": "stdout",
          "text": [
            "                   all         48         48    0.00266      0.322     0.0117    0.00454\n"
          ]
        },
        {
          "output_type": "stream",
          "name": "stderr",
          "text": [
            "\n"
          ]
        },
        {
          "output_type": "stream",
          "name": "stdout",
          "text": [
            "\n",
            "      Epoch    GPU_mem   box_loss   cls_loss   dfl_loss  Instances       Size\n"
          ]
        },
        {
          "output_type": "stream",
          "name": "stderr",
          "text": [
            "     96/100      9.16G      1.729      3.253      2.015         16       1024: 100%|██████████| 14/14 [00:12<00:00,  1.11it/s]\n",
            "                 Class     Images  Instances      Box(P          R      mAP50  mAP50-95): 100%|██████████| 2/2 [00:01<00:00,  1.60it/s]"
          ]
        },
        {
          "output_type": "stream",
          "name": "stdout",
          "text": [
            "                   all         48         48    0.00274      0.322     0.0116    0.00482\n"
          ]
        },
        {
          "output_type": "stream",
          "name": "stderr",
          "text": [
            "\n"
          ]
        },
        {
          "output_type": "stream",
          "name": "stdout",
          "text": [
            "\n",
            "      Epoch    GPU_mem   box_loss   cls_loss   dfl_loss  Instances       Size\n"
          ]
        },
        {
          "output_type": "stream",
          "name": "stderr",
          "text": [
            "     97/100      9.15G      1.722      3.121      2.007         16       1024: 100%|██████████| 14/14 [00:10<00:00,  1.30it/s]\n",
            "                 Class     Images  Instances      Box(P          R      mAP50  mAP50-95): 100%|██████████| 2/2 [00:01<00:00,  1.10it/s]"
          ]
        },
        {
          "output_type": "stream",
          "name": "stdout",
          "text": [
            "                   all         48         48    0.00286      0.322     0.0109    0.00481\n"
          ]
        },
        {
          "output_type": "stream",
          "name": "stderr",
          "text": [
            "\n"
          ]
        },
        {
          "output_type": "stream",
          "name": "stdout",
          "text": [
            "\n",
            "      Epoch    GPU_mem   box_loss   cls_loss   dfl_loss  Instances       Size\n"
          ]
        },
        {
          "output_type": "stream",
          "name": "stderr",
          "text": [
            "     98/100      9.18G      1.748      3.091      2.009         16       1024: 100%|██████████| 14/14 [00:08<00:00,  1.56it/s]\n",
            "                 Class     Images  Instances      Box(P          R      mAP50  mAP50-95): 100%|██████████| 2/2 [00:01<00:00,  1.38it/s]"
          ]
        },
        {
          "output_type": "stream",
          "name": "stdout",
          "text": [
            "                   all         48         48    0.00294      0.322     0.0111    0.00476\n"
          ]
        },
        {
          "output_type": "stream",
          "name": "stderr",
          "text": [
            "\n"
          ]
        },
        {
          "output_type": "stream",
          "name": "stdout",
          "text": [
            "\n",
            "      Epoch    GPU_mem   box_loss   cls_loss   dfl_loss  Instances       Size\n"
          ]
        },
        {
          "output_type": "stream",
          "name": "stderr",
          "text": [
            "     99/100      9.15G      1.732      3.096      2.006         16       1024: 100%|██████████| 14/14 [00:10<00:00,  1.28it/s]\n",
            "                 Class     Images  Instances      Box(P          R      mAP50  mAP50-95): 100%|██████████| 2/2 [00:01<00:00,  1.56it/s]"
          ]
        },
        {
          "output_type": "stream",
          "name": "stdout",
          "text": [
            "                   all         48         48    0.00285      0.322     0.0111    0.00505\n"
          ]
        },
        {
          "output_type": "stream",
          "name": "stderr",
          "text": [
            "\n"
          ]
        },
        {
          "output_type": "stream",
          "name": "stdout",
          "text": [
            "\n",
            "      Epoch    GPU_mem   box_loss   cls_loss   dfl_loss  Instances       Size\n"
          ]
        },
        {
          "output_type": "stream",
          "name": "stderr",
          "text": [
            "    100/100      9.16G      1.714      3.009      1.994         16       1024: 100%|██████████| 14/14 [00:13<00:00,  1.01it/s]\n",
            "                 Class     Images  Instances      Box(P          R      mAP50  mAP50-95): 100%|██████████| 2/2 [00:01<00:00,  1.16it/s]"
          ]
        },
        {
          "output_type": "stream",
          "name": "stdout",
          "text": [
            "                   all         48         48    0.00277      0.322     0.0119    0.00529\n"
          ]
        },
        {
          "output_type": "stream",
          "name": "stderr",
          "text": [
            "\n"
          ]
        },
        {
          "output_type": "stream",
          "name": "stdout",
          "text": [
            "\n",
            "100 epochs completed in 0.435 hours.\n",
            "Optimizer stripped from runs/detect/train4/weights/last.pt, 22.6MB\n",
            "Optimizer stripped from runs/detect/train4/weights/best.pt, 22.6MB\n",
            "\n",
            "Validating runs/detect/train4/weights/best.pt...\n",
            "Ultralytics 8.3.49 🚀 Python-3.10.12 torch-2.5.1+cu121 CUDA:0 (Tesla T4, 15102MiB)\n",
            "Model summary (fused): 168 layers, 11,126,745 parameters, 0 gradients, 28.4 GFLOPs\n"
          ]
        },
        {
          "output_type": "stream",
          "name": "stderr",
          "text": [
            "                 Class     Images  Instances      Box(P          R      mAP50  mAP50-95): 100%|██████████| 2/2 [00:00<00:00,  2.06it/s]\n"
          ]
        },
        {
          "output_type": "stream",
          "name": "stdout",
          "text": [
            "                   all         48         48    0.00471      0.458     0.0222    0.00487\n",
            "                Normal         30         30     0.0119        0.9     0.0637     0.0142\n",
            "                Benign         10         10    0.00141        0.1    0.00198   0.000198\n",
            "             Malignant          8          8   0.000834      0.375    0.00077   0.000227\n",
            "Speed: 0.5ms preprocess, 11.3ms inference, 0.0ms loss, 1.8ms postprocess per image\n",
            "Results saved to \u001b[1mruns/detect/train4\u001b[0m\n"
          ]
        },
        {
          "output_type": "execute_result",
          "data": {
            "text/plain": [
              "ultralytics.utils.metrics.DetMetrics object with attributes:\n",
              "\n",
              "ap_class_index: array([0, 1, 2])\n",
              "box: ultralytics.utils.metrics.Metric object\n",
              "confusion_matrix: <ultralytics.utils.metrics.ConfusionMatrix object at 0x78f212446fe0>\n",
              "curves: ['Precision-Recall(B)', 'F1-Confidence(B)', 'Precision-Confidence(B)', 'Recall-Confidence(B)']\n",
              "curves_results: [[array([          0,    0.001001,    0.002002,    0.003003,    0.004004,    0.005005,    0.006006,    0.007007,    0.008008,    0.009009,     0.01001,    0.011011,    0.012012,    0.013013,    0.014014,    0.015015,    0.016016,    0.017017,    0.018018,    0.019019,     0.02002,    0.021021,    0.022022,    0.023023,\n",
              "          0.024024,    0.025025,    0.026026,    0.027027,    0.028028,    0.029029,     0.03003,    0.031031,    0.032032,    0.033033,    0.034034,    0.035035,    0.036036,    0.037037,    0.038038,    0.039039,     0.04004,    0.041041,    0.042042,    0.043043,    0.044044,    0.045045,    0.046046,    0.047047,\n",
              "          0.048048,    0.049049,     0.05005,    0.051051,    0.052052,    0.053053,    0.054054,    0.055055,    0.056056,    0.057057,    0.058058,    0.059059,     0.06006,    0.061061,    0.062062,    0.063063,    0.064064,    0.065065,    0.066066,    0.067067,    0.068068,    0.069069,     0.07007,    0.071071,\n",
              "          0.072072,    0.073073,    0.074074,    0.075075,    0.076076,    0.077077,    0.078078,    0.079079,     0.08008,    0.081081,    0.082082,    0.083083,    0.084084,    0.085085,    0.086086,    0.087087,    0.088088,    0.089089,     0.09009,    0.091091,    0.092092,    0.093093,    0.094094,    0.095095,\n",
              "          0.096096,    0.097097,    0.098098,    0.099099,      0.1001,      0.1011,      0.1021,      0.1031,      0.1041,     0.10511,     0.10611,     0.10711,     0.10811,     0.10911,     0.11011,     0.11111,     0.11211,     0.11311,     0.11411,     0.11512,     0.11612,     0.11712,     0.11812,     0.11912,\n",
              "           0.12012,     0.12112,     0.12212,     0.12312,     0.12412,     0.12513,     0.12613,     0.12713,     0.12813,     0.12913,     0.13013,     0.13113,     0.13213,     0.13313,     0.13413,     0.13514,     0.13614,     0.13714,     0.13814,     0.13914,     0.14014,     0.14114,     0.14214,     0.14314,\n",
              "           0.14414,     0.14515,     0.14615,     0.14715,     0.14815,     0.14915,     0.15015,     0.15115,     0.15215,     0.15315,     0.15415,     0.15516,     0.15616,     0.15716,     0.15816,     0.15916,     0.16016,     0.16116,     0.16216,     0.16316,     0.16416,     0.16517,     0.16617,     0.16717,\n",
              "           0.16817,     0.16917,     0.17017,     0.17117,     0.17217,     0.17317,     0.17417,     0.17518,     0.17618,     0.17718,     0.17818,     0.17918,     0.18018,     0.18118,     0.18218,     0.18318,     0.18418,     0.18519,     0.18619,     0.18719,     0.18819,     0.18919,     0.19019,     0.19119,\n",
              "           0.19219,     0.19319,     0.19419,      0.1952,      0.1962,      0.1972,      0.1982,      0.1992,      0.2002,      0.2012,      0.2022,      0.2032,      0.2042,     0.20521,     0.20621,     0.20721,     0.20821,     0.20921,     0.21021,     0.21121,     0.21221,     0.21321,     0.21421,     0.21522,\n",
              "           0.21622,     0.21722,     0.21822,     0.21922,     0.22022,     0.22122,     0.22222,     0.22322,     0.22422,     0.22523,     0.22623,     0.22723,     0.22823,     0.22923,     0.23023,     0.23123,     0.23223,     0.23323,     0.23423,     0.23524,     0.23624,     0.23724,     0.23824,     0.23924,\n",
              "           0.24024,     0.24124,     0.24224,     0.24324,     0.24424,     0.24525,     0.24625,     0.24725,     0.24825,     0.24925,     0.25025,     0.25125,     0.25225,     0.25325,     0.25425,     0.25526,     0.25626,     0.25726,     0.25826,     0.25926,     0.26026,     0.26126,     0.26226,     0.26326,\n",
              "           0.26426,     0.26527,     0.26627,     0.26727,     0.26827,     0.26927,     0.27027,     0.27127,     0.27227,     0.27327,     0.27427,     0.27528,     0.27628,     0.27728,     0.27828,     0.27928,     0.28028,     0.28128,     0.28228,     0.28328,     0.28428,     0.28529,     0.28629,     0.28729,\n",
              "           0.28829,     0.28929,     0.29029,     0.29129,     0.29229,     0.29329,     0.29429,      0.2953,      0.2963,      0.2973,      0.2983,      0.2993,      0.3003,      0.3013,      0.3023,      0.3033,      0.3043,     0.30531,     0.30631,     0.30731,     0.30831,     0.30931,     0.31031,     0.31131,\n",
              "           0.31231,     0.31331,     0.31431,     0.31532,     0.31632,     0.31732,     0.31832,     0.31932,     0.32032,     0.32132,     0.32232,     0.32332,     0.32432,     0.32533,     0.32633,     0.32733,     0.32833,     0.32933,     0.33033,     0.33133,     0.33233,     0.33333,     0.33433,     0.33534,\n",
              "           0.33634,     0.33734,     0.33834,     0.33934,     0.34034,     0.34134,     0.34234,     0.34334,     0.34434,     0.34535,     0.34635,     0.34735,     0.34835,     0.34935,     0.35035,     0.35135,     0.35235,     0.35335,     0.35435,     0.35536,     0.35636,     0.35736,     0.35836,     0.35936,\n",
              "           0.36036,     0.36136,     0.36236,     0.36336,     0.36436,     0.36537,     0.36637,     0.36737,     0.36837,     0.36937,     0.37037,     0.37137,     0.37237,     0.37337,     0.37437,     0.37538,     0.37638,     0.37738,     0.37838,     0.37938,     0.38038,     0.38138,     0.38238,     0.38338,\n",
              "           0.38438,     0.38539,     0.38639,     0.38739,     0.38839,     0.38939,     0.39039,     0.39139,     0.39239,     0.39339,     0.39439,      0.3954,      0.3964,      0.3974,      0.3984,      0.3994,      0.4004,      0.4014,      0.4024,      0.4034,      0.4044,     0.40541,     0.40641,     0.40741,\n",
              "           0.40841,     0.40941,     0.41041,     0.41141,     0.41241,     0.41341,     0.41441,     0.41542,     0.41642,     0.41742,     0.41842,     0.41942,     0.42042,     0.42142,     0.42242,     0.42342,     0.42442,     0.42543,     0.42643,     0.42743,     0.42843,     0.42943,     0.43043,     0.43143,\n",
              "           0.43243,     0.43343,     0.43443,     0.43544,     0.43644,     0.43744,     0.43844,     0.43944,     0.44044,     0.44144,     0.44244,     0.44344,     0.44444,     0.44545,     0.44645,     0.44745,     0.44845,     0.44945,     0.45045,     0.45145,     0.45245,     0.45345,     0.45445,     0.45546,\n",
              "           0.45646,     0.45746,     0.45846,     0.45946,     0.46046,     0.46146,     0.46246,     0.46346,     0.46446,     0.46547,     0.46647,     0.46747,     0.46847,     0.46947,     0.47047,     0.47147,     0.47247,     0.47347,     0.47447,     0.47548,     0.47648,     0.47748,     0.47848,     0.47948,\n",
              "           0.48048,     0.48148,     0.48248,     0.48348,     0.48448,     0.48549,     0.48649,     0.48749,     0.48849,     0.48949,     0.49049,     0.49149,     0.49249,     0.49349,     0.49449,      0.4955,      0.4965,      0.4975,      0.4985,      0.4995,      0.5005,      0.5015,      0.5025,      0.5035,\n",
              "            0.5045,     0.50551,     0.50651,     0.50751,     0.50851,     0.50951,     0.51051,     0.51151,     0.51251,     0.51351,     0.51451,     0.51552,     0.51652,     0.51752,     0.51852,     0.51952,     0.52052,     0.52152,     0.52252,     0.52352,     0.52452,     0.52553,     0.52653,     0.52753,\n",
              "           0.52853,     0.52953,     0.53053,     0.53153,     0.53253,     0.53353,     0.53453,     0.53554,     0.53654,     0.53754,     0.53854,     0.53954,     0.54054,     0.54154,     0.54254,     0.54354,     0.54454,     0.54555,     0.54655,     0.54755,     0.54855,     0.54955,     0.55055,     0.55155,\n",
              "           0.55255,     0.55355,     0.55455,     0.55556,     0.55656,     0.55756,     0.55856,     0.55956,     0.56056,     0.56156,     0.56256,     0.56356,     0.56456,     0.56557,     0.56657,     0.56757,     0.56857,     0.56957,     0.57057,     0.57157,     0.57257,     0.57357,     0.57457,     0.57558,\n",
              "           0.57658,     0.57758,     0.57858,     0.57958,     0.58058,     0.58158,     0.58258,     0.58358,     0.58458,     0.58559,     0.58659,     0.58759,     0.58859,     0.58959,     0.59059,     0.59159,     0.59259,     0.59359,     0.59459,      0.5956,      0.5966,      0.5976,      0.5986,      0.5996,\n",
              "            0.6006,      0.6016,      0.6026,      0.6036,      0.6046,     0.60561,     0.60661,     0.60761,     0.60861,     0.60961,     0.61061,     0.61161,     0.61261,     0.61361,     0.61461,     0.61562,     0.61662,     0.61762,     0.61862,     0.61962,     0.62062,     0.62162,     0.62262,     0.62362,\n",
              "           0.62462,     0.62563,     0.62663,     0.62763,     0.62863,     0.62963,     0.63063,     0.63163,     0.63263,     0.63363,     0.63463,     0.63564,     0.63664,     0.63764,     0.63864,     0.63964,     0.64064,     0.64164,     0.64264,     0.64364,     0.64464,     0.64565,     0.64665,     0.64765,\n",
              "           0.64865,     0.64965,     0.65065,     0.65165,     0.65265,     0.65365,     0.65465,     0.65566,     0.65666,     0.65766,     0.65866,     0.65966,     0.66066,     0.66166,     0.66266,     0.66366,     0.66466,     0.66567,     0.66667,     0.66767,     0.66867,     0.66967,     0.67067,     0.67167,\n",
              "           0.67267,     0.67367,     0.67467,     0.67568,     0.67668,     0.67768,     0.67868,     0.67968,     0.68068,     0.68168,     0.68268,     0.68368,     0.68468,     0.68569,     0.68669,     0.68769,     0.68869,     0.68969,     0.69069,     0.69169,     0.69269,     0.69369,     0.69469,      0.6957,\n",
              "            0.6967,      0.6977,      0.6987,      0.6997,      0.7007,      0.7017,      0.7027,      0.7037,      0.7047,     0.70571,     0.70671,     0.70771,     0.70871,     0.70971,     0.71071,     0.71171,     0.71271,     0.71371,     0.71471,     0.71572,     0.71672,     0.71772,     0.71872,     0.71972,\n",
              "           0.72072,     0.72172,     0.72272,     0.72372,     0.72472,     0.72573,     0.72673,     0.72773,     0.72873,     0.72973,     0.73073,     0.73173,     0.73273,     0.73373,     0.73473,     0.73574,     0.73674,     0.73774,     0.73874,     0.73974,     0.74074,     0.74174,     0.74274,     0.74374,\n",
              "           0.74474,     0.74575,     0.74675,     0.74775,     0.74875,     0.74975,     0.75075,     0.75175,     0.75275,     0.75375,     0.75475,     0.75576,     0.75676,     0.75776,     0.75876,     0.75976,     0.76076,     0.76176,     0.76276,     0.76376,     0.76476,     0.76577,     0.76677,     0.76777,\n",
              "           0.76877,     0.76977,     0.77077,     0.77177,     0.77277,     0.77377,     0.77477,     0.77578,     0.77678,     0.77778,     0.77878,     0.77978,     0.78078,     0.78178,     0.78278,     0.78378,     0.78478,     0.78579,     0.78679,     0.78779,     0.78879,     0.78979,     0.79079,     0.79179,\n",
              "           0.79279,     0.79379,     0.79479,      0.7958,      0.7968,      0.7978,      0.7988,      0.7998,      0.8008,      0.8018,      0.8028,      0.8038,      0.8048,     0.80581,     0.80681,     0.80781,     0.80881,     0.80981,     0.81081,     0.81181,     0.81281,     0.81381,     0.81481,     0.81582,\n",
              "           0.81682,     0.81782,     0.81882,     0.81982,     0.82082,     0.82182,     0.82282,     0.82382,     0.82482,     0.82583,     0.82683,     0.82783,     0.82883,     0.82983,     0.83083,     0.83183,     0.83283,     0.83383,     0.83483,     0.83584,     0.83684,     0.83784,     0.83884,     0.83984,\n",
              "           0.84084,     0.84184,     0.84284,     0.84384,     0.84484,     0.84585,     0.84685,     0.84785,     0.84885,     0.84985,     0.85085,     0.85185,     0.85285,     0.85385,     0.85485,     0.85586,     0.85686,     0.85786,     0.85886,     0.85986,     0.86086,     0.86186,     0.86286,     0.86386,\n",
              "           0.86486,     0.86587,     0.86687,     0.86787,     0.86887,     0.86987,     0.87087,     0.87187,     0.87287,     0.87387,     0.87487,     0.87588,     0.87688,     0.87788,     0.87888,     0.87988,     0.88088,     0.88188,     0.88288,     0.88388,     0.88488,     0.88589,     0.88689,     0.88789,\n",
              "           0.88889,     0.88989,     0.89089,     0.89189,     0.89289,     0.89389,     0.89489,      0.8959,      0.8969,      0.8979,      0.8989,      0.8999,      0.9009,      0.9019,      0.9029,      0.9039,      0.9049,     0.90591,     0.90691,     0.90791,     0.90891,     0.90991,     0.91091,     0.91191,\n",
              "           0.91291,     0.91391,     0.91491,     0.91592,     0.91692,     0.91792,     0.91892,     0.91992,     0.92092,     0.92192,     0.92292,     0.92392,     0.92492,     0.92593,     0.92693,     0.92793,     0.92893,     0.92993,     0.93093,     0.93193,     0.93293,     0.93393,     0.93493,     0.93594,\n",
              "           0.93694,     0.93794,     0.93894,     0.93994,     0.94094,     0.94194,     0.94294,     0.94394,     0.94494,     0.94595,     0.94695,     0.94795,     0.94895,     0.94995,     0.95095,     0.95195,     0.95295,     0.95395,     0.95495,     0.95596,     0.95696,     0.95796,     0.95896,     0.95996,\n",
              "           0.96096,     0.96196,     0.96296,     0.96396,     0.96496,     0.96597,     0.96697,     0.96797,     0.96897,     0.96997,     0.97097,     0.97197,     0.97297,     0.97397,     0.97497,     0.97598,     0.97698,     0.97798,     0.97898,     0.97998,     0.98098,     0.98198,     0.98298,     0.98398,\n",
              "           0.98498,     0.98599,     0.98699,     0.98799,     0.98899,     0.98999,     0.99099,     0.99199,     0.99299,     0.99399,     0.99499,       0.996,       0.997,       0.998,       0.999,           1]), array([[          1,           1,           1, ...,   0.0002377,  0.00011885,           0],\n",
              "       [   0.014085,    0.014085,    0.014085, ...,   3.133e-06,  1.5665e-06,           0],\n",
              "       [  0.0022472,   0.0022472,   0.0022472, ...,  2.6708e-06,  1.3354e-06,           0]]), 'Recall', 'Precision'], [array([          0,    0.001001,    0.002002,    0.003003,    0.004004,    0.005005,    0.006006,    0.007007,    0.008008,    0.009009,     0.01001,    0.011011,    0.012012,    0.013013,    0.014014,    0.015015,    0.016016,    0.017017,    0.018018,    0.019019,     0.02002,    0.021021,    0.022022,    0.023023,\n",
              "          0.024024,    0.025025,    0.026026,    0.027027,    0.028028,    0.029029,     0.03003,    0.031031,    0.032032,    0.033033,    0.034034,    0.035035,    0.036036,    0.037037,    0.038038,    0.039039,     0.04004,    0.041041,    0.042042,    0.043043,    0.044044,    0.045045,    0.046046,    0.047047,\n",
              "          0.048048,    0.049049,     0.05005,    0.051051,    0.052052,    0.053053,    0.054054,    0.055055,    0.056056,    0.057057,    0.058058,    0.059059,     0.06006,    0.061061,    0.062062,    0.063063,    0.064064,    0.065065,    0.066066,    0.067067,    0.068068,    0.069069,     0.07007,    0.071071,\n",
              "          0.072072,    0.073073,    0.074074,    0.075075,    0.076076,    0.077077,    0.078078,    0.079079,     0.08008,    0.081081,    0.082082,    0.083083,    0.084084,    0.085085,    0.086086,    0.087087,    0.088088,    0.089089,     0.09009,    0.091091,    0.092092,    0.093093,    0.094094,    0.095095,\n",
              "          0.096096,    0.097097,    0.098098,    0.099099,      0.1001,      0.1011,      0.1021,      0.1031,      0.1041,     0.10511,     0.10611,     0.10711,     0.10811,     0.10911,     0.11011,     0.11111,     0.11211,     0.11311,     0.11411,     0.11512,     0.11612,     0.11712,     0.11812,     0.11912,\n",
              "           0.12012,     0.12112,     0.12212,     0.12312,     0.12412,     0.12513,     0.12613,     0.12713,     0.12813,     0.12913,     0.13013,     0.13113,     0.13213,     0.13313,     0.13413,     0.13514,     0.13614,     0.13714,     0.13814,     0.13914,     0.14014,     0.14114,     0.14214,     0.14314,\n",
              "           0.14414,     0.14515,     0.14615,     0.14715,     0.14815,     0.14915,     0.15015,     0.15115,     0.15215,     0.15315,     0.15415,     0.15516,     0.15616,     0.15716,     0.15816,     0.15916,     0.16016,     0.16116,     0.16216,     0.16316,     0.16416,     0.16517,     0.16617,     0.16717,\n",
              "           0.16817,     0.16917,     0.17017,     0.17117,     0.17217,     0.17317,     0.17417,     0.17518,     0.17618,     0.17718,     0.17818,     0.17918,     0.18018,     0.18118,     0.18218,     0.18318,     0.18418,     0.18519,     0.18619,     0.18719,     0.18819,     0.18919,     0.19019,     0.19119,\n",
              "           0.19219,     0.19319,     0.19419,      0.1952,      0.1962,      0.1972,      0.1982,      0.1992,      0.2002,      0.2012,      0.2022,      0.2032,      0.2042,     0.20521,     0.20621,     0.20721,     0.20821,     0.20921,     0.21021,     0.21121,     0.21221,     0.21321,     0.21421,     0.21522,\n",
              "           0.21622,     0.21722,     0.21822,     0.21922,     0.22022,     0.22122,     0.22222,     0.22322,     0.22422,     0.22523,     0.22623,     0.22723,     0.22823,     0.22923,     0.23023,     0.23123,     0.23223,     0.23323,     0.23423,     0.23524,     0.23624,     0.23724,     0.23824,     0.23924,\n",
              "           0.24024,     0.24124,     0.24224,     0.24324,     0.24424,     0.24525,     0.24625,     0.24725,     0.24825,     0.24925,     0.25025,     0.25125,     0.25225,     0.25325,     0.25425,     0.25526,     0.25626,     0.25726,     0.25826,     0.25926,     0.26026,     0.26126,     0.26226,     0.26326,\n",
              "           0.26426,     0.26527,     0.26627,     0.26727,     0.26827,     0.26927,     0.27027,     0.27127,     0.27227,     0.27327,     0.27427,     0.27528,     0.27628,     0.27728,     0.27828,     0.27928,     0.28028,     0.28128,     0.28228,     0.28328,     0.28428,     0.28529,     0.28629,     0.28729,\n",
              "           0.28829,     0.28929,     0.29029,     0.29129,     0.29229,     0.29329,     0.29429,      0.2953,      0.2963,      0.2973,      0.2983,      0.2993,      0.3003,      0.3013,      0.3023,      0.3033,      0.3043,     0.30531,     0.30631,     0.30731,     0.30831,     0.30931,     0.31031,     0.31131,\n",
              "           0.31231,     0.31331,     0.31431,     0.31532,     0.31632,     0.31732,     0.31832,     0.31932,     0.32032,     0.32132,     0.32232,     0.32332,     0.32432,     0.32533,     0.32633,     0.32733,     0.32833,     0.32933,     0.33033,     0.33133,     0.33233,     0.33333,     0.33433,     0.33534,\n",
              "           0.33634,     0.33734,     0.33834,     0.33934,     0.34034,     0.34134,     0.34234,     0.34334,     0.34434,     0.34535,     0.34635,     0.34735,     0.34835,     0.34935,     0.35035,     0.35135,     0.35235,     0.35335,     0.35435,     0.35536,     0.35636,     0.35736,     0.35836,     0.35936,\n",
              "           0.36036,     0.36136,     0.36236,     0.36336,     0.36436,     0.36537,     0.36637,     0.36737,     0.36837,     0.36937,     0.37037,     0.37137,     0.37237,     0.37337,     0.37437,     0.37538,     0.37638,     0.37738,     0.37838,     0.37938,     0.38038,     0.38138,     0.38238,     0.38338,\n",
              "           0.38438,     0.38539,     0.38639,     0.38739,     0.38839,     0.38939,     0.39039,     0.39139,     0.39239,     0.39339,     0.39439,      0.3954,      0.3964,      0.3974,      0.3984,      0.3994,      0.4004,      0.4014,      0.4024,      0.4034,      0.4044,     0.40541,     0.40641,     0.40741,\n",
              "           0.40841,     0.40941,     0.41041,     0.41141,     0.41241,     0.41341,     0.41441,     0.41542,     0.41642,     0.41742,     0.41842,     0.41942,     0.42042,     0.42142,     0.42242,     0.42342,     0.42442,     0.42543,     0.42643,     0.42743,     0.42843,     0.42943,     0.43043,     0.43143,\n",
              "           0.43243,     0.43343,     0.43443,     0.43544,     0.43644,     0.43744,     0.43844,     0.43944,     0.44044,     0.44144,     0.44244,     0.44344,     0.44444,     0.44545,     0.44645,     0.44745,     0.44845,     0.44945,     0.45045,     0.45145,     0.45245,     0.45345,     0.45445,     0.45546,\n",
              "           0.45646,     0.45746,     0.45846,     0.45946,     0.46046,     0.46146,     0.46246,     0.46346,     0.46446,     0.46547,     0.46647,     0.46747,     0.46847,     0.46947,     0.47047,     0.47147,     0.47247,     0.47347,     0.47447,     0.47548,     0.47648,     0.47748,     0.47848,     0.47948,\n",
              "           0.48048,     0.48148,     0.48248,     0.48348,     0.48448,     0.48549,     0.48649,     0.48749,     0.48849,     0.48949,     0.49049,     0.49149,     0.49249,     0.49349,     0.49449,      0.4955,      0.4965,      0.4975,      0.4985,      0.4995,      0.5005,      0.5015,      0.5025,      0.5035,\n",
              "            0.5045,     0.50551,     0.50651,     0.50751,     0.50851,     0.50951,     0.51051,     0.51151,     0.51251,     0.51351,     0.51451,     0.51552,     0.51652,     0.51752,     0.51852,     0.51952,     0.52052,     0.52152,     0.52252,     0.52352,     0.52452,     0.52553,     0.52653,     0.52753,\n",
              "           0.52853,     0.52953,     0.53053,     0.53153,     0.53253,     0.53353,     0.53453,     0.53554,     0.53654,     0.53754,     0.53854,     0.53954,     0.54054,     0.54154,     0.54254,     0.54354,     0.54454,     0.54555,     0.54655,     0.54755,     0.54855,     0.54955,     0.55055,     0.55155,\n",
              "           0.55255,     0.55355,     0.55455,     0.55556,     0.55656,     0.55756,     0.55856,     0.55956,     0.56056,     0.56156,     0.56256,     0.56356,     0.56456,     0.56557,     0.56657,     0.56757,     0.56857,     0.56957,     0.57057,     0.57157,     0.57257,     0.57357,     0.57457,     0.57558,\n",
              "           0.57658,     0.57758,     0.57858,     0.57958,     0.58058,     0.58158,     0.58258,     0.58358,     0.58458,     0.58559,     0.58659,     0.58759,     0.58859,     0.58959,     0.59059,     0.59159,     0.59259,     0.59359,     0.59459,      0.5956,      0.5966,      0.5976,      0.5986,      0.5996,\n",
              "            0.6006,      0.6016,      0.6026,      0.6036,      0.6046,     0.60561,     0.60661,     0.60761,     0.60861,     0.60961,     0.61061,     0.61161,     0.61261,     0.61361,     0.61461,     0.61562,     0.61662,     0.61762,     0.61862,     0.61962,     0.62062,     0.62162,     0.62262,     0.62362,\n",
              "           0.62462,     0.62563,     0.62663,     0.62763,     0.62863,     0.62963,     0.63063,     0.63163,     0.63263,     0.63363,     0.63463,     0.63564,     0.63664,     0.63764,     0.63864,     0.63964,     0.64064,     0.64164,     0.64264,     0.64364,     0.64464,     0.64565,     0.64665,     0.64765,\n",
              "           0.64865,     0.64965,     0.65065,     0.65165,     0.65265,     0.65365,     0.65465,     0.65566,     0.65666,     0.65766,     0.65866,     0.65966,     0.66066,     0.66166,     0.66266,     0.66366,     0.66466,     0.66567,     0.66667,     0.66767,     0.66867,     0.66967,     0.67067,     0.67167,\n",
              "           0.67267,     0.67367,     0.67467,     0.67568,     0.67668,     0.67768,     0.67868,     0.67968,     0.68068,     0.68168,     0.68268,     0.68368,     0.68468,     0.68569,     0.68669,     0.68769,     0.68869,     0.68969,     0.69069,     0.69169,     0.69269,     0.69369,     0.69469,      0.6957,\n",
              "            0.6967,      0.6977,      0.6987,      0.6997,      0.7007,      0.7017,      0.7027,      0.7037,      0.7047,     0.70571,     0.70671,     0.70771,     0.70871,     0.70971,     0.71071,     0.71171,     0.71271,     0.71371,     0.71471,     0.71572,     0.71672,     0.71772,     0.71872,     0.71972,\n",
              "           0.72072,     0.72172,     0.72272,     0.72372,     0.72472,     0.72573,     0.72673,     0.72773,     0.72873,     0.72973,     0.73073,     0.73173,     0.73273,     0.73373,     0.73473,     0.73574,     0.73674,     0.73774,     0.73874,     0.73974,     0.74074,     0.74174,     0.74274,     0.74374,\n",
              "           0.74474,     0.74575,     0.74675,     0.74775,     0.74875,     0.74975,     0.75075,     0.75175,     0.75275,     0.75375,     0.75475,     0.75576,     0.75676,     0.75776,     0.75876,     0.75976,     0.76076,     0.76176,     0.76276,     0.76376,     0.76476,     0.76577,     0.76677,     0.76777,\n",
              "           0.76877,     0.76977,     0.77077,     0.77177,     0.77277,     0.77377,     0.77477,     0.77578,     0.77678,     0.77778,     0.77878,     0.77978,     0.78078,     0.78178,     0.78278,     0.78378,     0.78478,     0.78579,     0.78679,     0.78779,     0.78879,     0.78979,     0.79079,     0.79179,\n",
              "           0.79279,     0.79379,     0.79479,      0.7958,      0.7968,      0.7978,      0.7988,      0.7998,      0.8008,      0.8018,      0.8028,      0.8038,      0.8048,     0.80581,     0.80681,     0.80781,     0.80881,     0.80981,     0.81081,     0.81181,     0.81281,     0.81381,     0.81481,     0.81582,\n",
              "           0.81682,     0.81782,     0.81882,     0.81982,     0.82082,     0.82182,     0.82282,     0.82382,     0.82482,     0.82583,     0.82683,     0.82783,     0.82883,     0.82983,     0.83083,     0.83183,     0.83283,     0.83383,     0.83483,     0.83584,     0.83684,     0.83784,     0.83884,     0.83984,\n",
              "           0.84084,     0.84184,     0.84284,     0.84384,     0.84484,     0.84585,     0.84685,     0.84785,     0.84885,     0.84985,     0.85085,     0.85185,     0.85285,     0.85385,     0.85485,     0.85586,     0.85686,     0.85786,     0.85886,     0.85986,     0.86086,     0.86186,     0.86286,     0.86386,\n",
              "           0.86486,     0.86587,     0.86687,     0.86787,     0.86887,     0.86987,     0.87087,     0.87187,     0.87287,     0.87387,     0.87487,     0.87588,     0.87688,     0.87788,     0.87888,     0.87988,     0.88088,     0.88188,     0.88288,     0.88388,     0.88488,     0.88589,     0.88689,     0.88789,\n",
              "           0.88889,     0.88989,     0.89089,     0.89189,     0.89289,     0.89389,     0.89489,      0.8959,      0.8969,      0.8979,      0.8989,      0.8999,      0.9009,      0.9019,      0.9029,      0.9039,      0.9049,     0.90591,     0.90691,     0.90791,     0.90891,     0.90991,     0.91091,     0.91191,\n",
              "           0.91291,     0.91391,     0.91491,     0.91592,     0.91692,     0.91792,     0.91892,     0.91992,     0.92092,     0.92192,     0.92292,     0.92392,     0.92492,     0.92593,     0.92693,     0.92793,     0.92893,     0.92993,     0.93093,     0.93193,     0.93293,     0.93393,     0.93493,     0.93594,\n",
              "           0.93694,     0.93794,     0.93894,     0.93994,     0.94094,     0.94194,     0.94294,     0.94394,     0.94494,     0.94595,     0.94695,     0.94795,     0.94895,     0.94995,     0.95095,     0.95195,     0.95295,     0.95395,     0.95495,     0.95596,     0.95696,     0.95796,     0.95896,     0.95996,\n",
              "           0.96096,     0.96196,     0.96296,     0.96396,     0.96496,     0.96597,     0.96697,     0.96797,     0.96897,     0.96997,     0.97097,     0.97197,     0.97297,     0.97397,     0.97497,     0.97598,     0.97698,     0.97798,     0.97898,     0.97998,     0.98098,     0.98198,     0.98298,     0.98398,\n",
              "           0.98498,     0.98599,     0.98699,     0.98799,     0.98899,     0.98999,     0.99099,     0.99199,     0.99299,     0.99399,     0.99499,       0.996,       0.997,       0.998,       0.999,           1]), array([[   0.023437,    0.023437,    0.036183, ...,           0,           0,           0],\n",
              "       [  0.0027778,   0.0027778,           0, ...,           0,           0,           0],\n",
              "       [  0.0016639,   0.0016639,    0.001522, ...,           0,           0,           0]]), 'Confidence', 'F1'], [array([          0,    0.001001,    0.002002,    0.003003,    0.004004,    0.005005,    0.006006,    0.007007,    0.008008,    0.009009,     0.01001,    0.011011,    0.012012,    0.013013,    0.014014,    0.015015,    0.016016,    0.017017,    0.018018,    0.019019,     0.02002,    0.021021,    0.022022,    0.023023,\n",
              "          0.024024,    0.025025,    0.026026,    0.027027,    0.028028,    0.029029,     0.03003,    0.031031,    0.032032,    0.033033,    0.034034,    0.035035,    0.036036,    0.037037,    0.038038,    0.039039,     0.04004,    0.041041,    0.042042,    0.043043,    0.044044,    0.045045,    0.046046,    0.047047,\n",
              "          0.048048,    0.049049,     0.05005,    0.051051,    0.052052,    0.053053,    0.054054,    0.055055,    0.056056,    0.057057,    0.058058,    0.059059,     0.06006,    0.061061,    0.062062,    0.063063,    0.064064,    0.065065,    0.066066,    0.067067,    0.068068,    0.069069,     0.07007,    0.071071,\n",
              "          0.072072,    0.073073,    0.074074,    0.075075,    0.076076,    0.077077,    0.078078,    0.079079,     0.08008,    0.081081,    0.082082,    0.083083,    0.084084,    0.085085,    0.086086,    0.087087,    0.088088,    0.089089,     0.09009,    0.091091,    0.092092,    0.093093,    0.094094,    0.095095,\n",
              "          0.096096,    0.097097,    0.098098,    0.099099,      0.1001,      0.1011,      0.1021,      0.1031,      0.1041,     0.10511,     0.10611,     0.10711,     0.10811,     0.10911,     0.11011,     0.11111,     0.11211,     0.11311,     0.11411,     0.11512,     0.11612,     0.11712,     0.11812,     0.11912,\n",
              "           0.12012,     0.12112,     0.12212,     0.12312,     0.12412,     0.12513,     0.12613,     0.12713,     0.12813,     0.12913,     0.13013,     0.13113,     0.13213,     0.13313,     0.13413,     0.13514,     0.13614,     0.13714,     0.13814,     0.13914,     0.14014,     0.14114,     0.14214,     0.14314,\n",
              "           0.14414,     0.14515,     0.14615,     0.14715,     0.14815,     0.14915,     0.15015,     0.15115,     0.15215,     0.15315,     0.15415,     0.15516,     0.15616,     0.15716,     0.15816,     0.15916,     0.16016,     0.16116,     0.16216,     0.16316,     0.16416,     0.16517,     0.16617,     0.16717,\n",
              "           0.16817,     0.16917,     0.17017,     0.17117,     0.17217,     0.17317,     0.17417,     0.17518,     0.17618,     0.17718,     0.17818,     0.17918,     0.18018,     0.18118,     0.18218,     0.18318,     0.18418,     0.18519,     0.18619,     0.18719,     0.18819,     0.18919,     0.19019,     0.19119,\n",
              "           0.19219,     0.19319,     0.19419,      0.1952,      0.1962,      0.1972,      0.1982,      0.1992,      0.2002,      0.2012,      0.2022,      0.2032,      0.2042,     0.20521,     0.20621,     0.20721,     0.20821,     0.20921,     0.21021,     0.21121,     0.21221,     0.21321,     0.21421,     0.21522,\n",
              "           0.21622,     0.21722,     0.21822,     0.21922,     0.22022,     0.22122,     0.22222,     0.22322,     0.22422,     0.22523,     0.22623,     0.22723,     0.22823,     0.22923,     0.23023,     0.23123,     0.23223,     0.23323,     0.23423,     0.23524,     0.23624,     0.23724,     0.23824,     0.23924,\n",
              "           0.24024,     0.24124,     0.24224,     0.24324,     0.24424,     0.24525,     0.24625,     0.24725,     0.24825,     0.24925,     0.25025,     0.25125,     0.25225,     0.25325,     0.25425,     0.25526,     0.25626,     0.25726,     0.25826,     0.25926,     0.26026,     0.26126,     0.26226,     0.26326,\n",
              "           0.26426,     0.26527,     0.26627,     0.26727,     0.26827,     0.26927,     0.27027,     0.27127,     0.27227,     0.27327,     0.27427,     0.27528,     0.27628,     0.27728,     0.27828,     0.27928,     0.28028,     0.28128,     0.28228,     0.28328,     0.28428,     0.28529,     0.28629,     0.28729,\n",
              "           0.28829,     0.28929,     0.29029,     0.29129,     0.29229,     0.29329,     0.29429,      0.2953,      0.2963,      0.2973,      0.2983,      0.2993,      0.3003,      0.3013,      0.3023,      0.3033,      0.3043,     0.30531,     0.30631,     0.30731,     0.30831,     0.30931,     0.31031,     0.31131,\n",
              "           0.31231,     0.31331,     0.31431,     0.31532,     0.31632,     0.31732,     0.31832,     0.31932,     0.32032,     0.32132,     0.32232,     0.32332,     0.32432,     0.32533,     0.32633,     0.32733,     0.32833,     0.32933,     0.33033,     0.33133,     0.33233,     0.33333,     0.33433,     0.33534,\n",
              "           0.33634,     0.33734,     0.33834,     0.33934,     0.34034,     0.34134,     0.34234,     0.34334,     0.34434,     0.34535,     0.34635,     0.34735,     0.34835,     0.34935,     0.35035,     0.35135,     0.35235,     0.35335,     0.35435,     0.35536,     0.35636,     0.35736,     0.35836,     0.35936,\n",
              "           0.36036,     0.36136,     0.36236,     0.36336,     0.36436,     0.36537,     0.36637,     0.36737,     0.36837,     0.36937,     0.37037,     0.37137,     0.37237,     0.37337,     0.37437,     0.37538,     0.37638,     0.37738,     0.37838,     0.37938,     0.38038,     0.38138,     0.38238,     0.38338,\n",
              "           0.38438,     0.38539,     0.38639,     0.38739,     0.38839,     0.38939,     0.39039,     0.39139,     0.39239,     0.39339,     0.39439,      0.3954,      0.3964,      0.3974,      0.3984,      0.3994,      0.4004,      0.4014,      0.4024,      0.4034,      0.4044,     0.40541,     0.40641,     0.40741,\n",
              "           0.40841,     0.40941,     0.41041,     0.41141,     0.41241,     0.41341,     0.41441,     0.41542,     0.41642,     0.41742,     0.41842,     0.41942,     0.42042,     0.42142,     0.42242,     0.42342,     0.42442,     0.42543,     0.42643,     0.42743,     0.42843,     0.42943,     0.43043,     0.43143,\n",
              "           0.43243,     0.43343,     0.43443,     0.43544,     0.43644,     0.43744,     0.43844,     0.43944,     0.44044,     0.44144,     0.44244,     0.44344,     0.44444,     0.44545,     0.44645,     0.44745,     0.44845,     0.44945,     0.45045,     0.45145,     0.45245,     0.45345,     0.45445,     0.45546,\n",
              "           0.45646,     0.45746,     0.45846,     0.45946,     0.46046,     0.46146,     0.46246,     0.46346,     0.46446,     0.46547,     0.46647,     0.46747,     0.46847,     0.46947,     0.47047,     0.47147,     0.47247,     0.47347,     0.47447,     0.47548,     0.47648,     0.47748,     0.47848,     0.47948,\n",
              "           0.48048,     0.48148,     0.48248,     0.48348,     0.48448,     0.48549,     0.48649,     0.48749,     0.48849,     0.48949,     0.49049,     0.49149,     0.49249,     0.49349,     0.49449,      0.4955,      0.4965,      0.4975,      0.4985,      0.4995,      0.5005,      0.5015,      0.5025,      0.5035,\n",
              "            0.5045,     0.50551,     0.50651,     0.50751,     0.50851,     0.50951,     0.51051,     0.51151,     0.51251,     0.51351,     0.51451,     0.51552,     0.51652,     0.51752,     0.51852,     0.51952,     0.52052,     0.52152,     0.52252,     0.52352,     0.52452,     0.52553,     0.52653,     0.52753,\n",
              "           0.52853,     0.52953,     0.53053,     0.53153,     0.53253,     0.53353,     0.53453,     0.53554,     0.53654,     0.53754,     0.53854,     0.53954,     0.54054,     0.54154,     0.54254,     0.54354,     0.54454,     0.54555,     0.54655,     0.54755,     0.54855,     0.54955,     0.55055,     0.55155,\n",
              "           0.55255,     0.55355,     0.55455,     0.55556,     0.55656,     0.55756,     0.55856,     0.55956,     0.56056,     0.56156,     0.56256,     0.56356,     0.56456,     0.56557,     0.56657,     0.56757,     0.56857,     0.56957,     0.57057,     0.57157,     0.57257,     0.57357,     0.57457,     0.57558,\n",
              "           0.57658,     0.57758,     0.57858,     0.57958,     0.58058,     0.58158,     0.58258,     0.58358,     0.58458,     0.58559,     0.58659,     0.58759,     0.58859,     0.58959,     0.59059,     0.59159,     0.59259,     0.59359,     0.59459,      0.5956,      0.5966,      0.5976,      0.5986,      0.5996,\n",
              "            0.6006,      0.6016,      0.6026,      0.6036,      0.6046,     0.60561,     0.60661,     0.60761,     0.60861,     0.60961,     0.61061,     0.61161,     0.61261,     0.61361,     0.61461,     0.61562,     0.61662,     0.61762,     0.61862,     0.61962,     0.62062,     0.62162,     0.62262,     0.62362,\n",
              "           0.62462,     0.62563,     0.62663,     0.62763,     0.62863,     0.62963,     0.63063,     0.63163,     0.63263,     0.63363,     0.63463,     0.63564,     0.63664,     0.63764,     0.63864,     0.63964,     0.64064,     0.64164,     0.64264,     0.64364,     0.64464,     0.64565,     0.64665,     0.64765,\n",
              "           0.64865,     0.64965,     0.65065,     0.65165,     0.65265,     0.65365,     0.65465,     0.65566,     0.65666,     0.65766,     0.65866,     0.65966,     0.66066,     0.66166,     0.66266,     0.66366,     0.66466,     0.66567,     0.66667,     0.66767,     0.66867,     0.66967,     0.67067,     0.67167,\n",
              "           0.67267,     0.67367,     0.67467,     0.67568,     0.67668,     0.67768,     0.67868,     0.67968,     0.68068,     0.68168,     0.68268,     0.68368,     0.68468,     0.68569,     0.68669,     0.68769,     0.68869,     0.68969,     0.69069,     0.69169,     0.69269,     0.69369,     0.69469,      0.6957,\n",
              "            0.6967,      0.6977,      0.6987,      0.6997,      0.7007,      0.7017,      0.7027,      0.7037,      0.7047,     0.70571,     0.70671,     0.70771,     0.70871,     0.70971,     0.71071,     0.71171,     0.71271,     0.71371,     0.71471,     0.71572,     0.71672,     0.71772,     0.71872,     0.71972,\n",
              "           0.72072,     0.72172,     0.72272,     0.72372,     0.72472,     0.72573,     0.72673,     0.72773,     0.72873,     0.72973,     0.73073,     0.73173,     0.73273,     0.73373,     0.73473,     0.73574,     0.73674,     0.73774,     0.73874,     0.73974,     0.74074,     0.74174,     0.74274,     0.74374,\n",
              "           0.74474,     0.74575,     0.74675,     0.74775,     0.74875,     0.74975,     0.75075,     0.75175,     0.75275,     0.75375,     0.75475,     0.75576,     0.75676,     0.75776,     0.75876,     0.75976,     0.76076,     0.76176,     0.76276,     0.76376,     0.76476,     0.76577,     0.76677,     0.76777,\n",
              "           0.76877,     0.76977,     0.77077,     0.77177,     0.77277,     0.77377,     0.77477,     0.77578,     0.77678,     0.77778,     0.77878,     0.77978,     0.78078,     0.78178,     0.78278,     0.78378,     0.78478,     0.78579,     0.78679,     0.78779,     0.78879,     0.78979,     0.79079,     0.79179,\n",
              "           0.79279,     0.79379,     0.79479,      0.7958,      0.7968,      0.7978,      0.7988,      0.7998,      0.8008,      0.8018,      0.8028,      0.8038,      0.8048,     0.80581,     0.80681,     0.80781,     0.80881,     0.80981,     0.81081,     0.81181,     0.81281,     0.81381,     0.81481,     0.81582,\n",
              "           0.81682,     0.81782,     0.81882,     0.81982,     0.82082,     0.82182,     0.82282,     0.82382,     0.82482,     0.82583,     0.82683,     0.82783,     0.82883,     0.82983,     0.83083,     0.83183,     0.83283,     0.83383,     0.83483,     0.83584,     0.83684,     0.83784,     0.83884,     0.83984,\n",
              "           0.84084,     0.84184,     0.84284,     0.84384,     0.84484,     0.84585,     0.84685,     0.84785,     0.84885,     0.84985,     0.85085,     0.85185,     0.85285,     0.85385,     0.85485,     0.85586,     0.85686,     0.85786,     0.85886,     0.85986,     0.86086,     0.86186,     0.86286,     0.86386,\n",
              "           0.86486,     0.86587,     0.86687,     0.86787,     0.86887,     0.86987,     0.87087,     0.87187,     0.87287,     0.87387,     0.87487,     0.87588,     0.87688,     0.87788,     0.87888,     0.87988,     0.88088,     0.88188,     0.88288,     0.88388,     0.88488,     0.88589,     0.88689,     0.88789,\n",
              "           0.88889,     0.88989,     0.89089,     0.89189,     0.89289,     0.89389,     0.89489,      0.8959,      0.8969,      0.8979,      0.8989,      0.8999,      0.9009,      0.9019,      0.9029,      0.9039,      0.9049,     0.90591,     0.90691,     0.90791,     0.90891,     0.90991,     0.91091,     0.91191,\n",
              "           0.91291,     0.91391,     0.91491,     0.91592,     0.91692,     0.91792,     0.91892,     0.91992,     0.92092,     0.92192,     0.92292,     0.92392,     0.92492,     0.92593,     0.92693,     0.92793,     0.92893,     0.92993,     0.93093,     0.93193,     0.93293,     0.93393,     0.93493,     0.93594,\n",
              "           0.93694,     0.93794,     0.93894,     0.93994,     0.94094,     0.94194,     0.94294,     0.94394,     0.94494,     0.94595,     0.94695,     0.94795,     0.94895,     0.94995,     0.95095,     0.95195,     0.95295,     0.95395,     0.95495,     0.95596,     0.95696,     0.95796,     0.95896,     0.95996,\n",
              "           0.96096,     0.96196,     0.96296,     0.96396,     0.96496,     0.96597,     0.96697,     0.96797,     0.96897,     0.96997,     0.97097,     0.97197,     0.97297,     0.97397,     0.97497,     0.97598,     0.97698,     0.97798,     0.97898,     0.97998,     0.98098,     0.98198,     0.98298,     0.98398,\n",
              "           0.98498,     0.98599,     0.98699,     0.98799,     0.98899,     0.98999,     0.99099,     0.99199,     0.99299,     0.99399,     0.99499,       0.996,       0.997,       0.998,       0.999,           1]), array([[   0.011873,    0.011873,    0.018549, ...,           1,           1,           1],\n",
              "       [  0.0014085,   0.0014085,           0, ...,           1,           1,           1],\n",
              "       [  0.0008338,   0.0008338,  0.00076564, ...,           1,           1,           1]]), 'Confidence', 'Precision'], [array([          0,    0.001001,    0.002002,    0.003003,    0.004004,    0.005005,    0.006006,    0.007007,    0.008008,    0.009009,     0.01001,    0.011011,    0.012012,    0.013013,    0.014014,    0.015015,    0.016016,    0.017017,    0.018018,    0.019019,     0.02002,    0.021021,    0.022022,    0.023023,\n",
              "          0.024024,    0.025025,    0.026026,    0.027027,    0.028028,    0.029029,     0.03003,    0.031031,    0.032032,    0.033033,    0.034034,    0.035035,    0.036036,    0.037037,    0.038038,    0.039039,     0.04004,    0.041041,    0.042042,    0.043043,    0.044044,    0.045045,    0.046046,    0.047047,\n",
              "          0.048048,    0.049049,     0.05005,    0.051051,    0.052052,    0.053053,    0.054054,    0.055055,    0.056056,    0.057057,    0.058058,    0.059059,     0.06006,    0.061061,    0.062062,    0.063063,    0.064064,    0.065065,    0.066066,    0.067067,    0.068068,    0.069069,     0.07007,    0.071071,\n",
              "          0.072072,    0.073073,    0.074074,    0.075075,    0.076076,    0.077077,    0.078078,    0.079079,     0.08008,    0.081081,    0.082082,    0.083083,    0.084084,    0.085085,    0.086086,    0.087087,    0.088088,    0.089089,     0.09009,    0.091091,    0.092092,    0.093093,    0.094094,    0.095095,\n",
              "          0.096096,    0.097097,    0.098098,    0.099099,      0.1001,      0.1011,      0.1021,      0.1031,      0.1041,     0.10511,     0.10611,     0.10711,     0.10811,     0.10911,     0.11011,     0.11111,     0.11211,     0.11311,     0.11411,     0.11512,     0.11612,     0.11712,     0.11812,     0.11912,\n",
              "           0.12012,     0.12112,     0.12212,     0.12312,     0.12412,     0.12513,     0.12613,     0.12713,     0.12813,     0.12913,     0.13013,     0.13113,     0.13213,     0.13313,     0.13413,     0.13514,     0.13614,     0.13714,     0.13814,     0.13914,     0.14014,     0.14114,     0.14214,     0.14314,\n",
              "           0.14414,     0.14515,     0.14615,     0.14715,     0.14815,     0.14915,     0.15015,     0.15115,     0.15215,     0.15315,     0.15415,     0.15516,     0.15616,     0.15716,     0.15816,     0.15916,     0.16016,     0.16116,     0.16216,     0.16316,     0.16416,     0.16517,     0.16617,     0.16717,\n",
              "           0.16817,     0.16917,     0.17017,     0.17117,     0.17217,     0.17317,     0.17417,     0.17518,     0.17618,     0.17718,     0.17818,     0.17918,     0.18018,     0.18118,     0.18218,     0.18318,     0.18418,     0.18519,     0.18619,     0.18719,     0.18819,     0.18919,     0.19019,     0.19119,\n",
              "           0.19219,     0.19319,     0.19419,      0.1952,      0.1962,      0.1972,      0.1982,      0.1992,      0.2002,      0.2012,      0.2022,      0.2032,      0.2042,     0.20521,     0.20621,     0.20721,     0.20821,     0.20921,     0.21021,     0.21121,     0.21221,     0.21321,     0.21421,     0.21522,\n",
              "           0.21622,     0.21722,     0.21822,     0.21922,     0.22022,     0.22122,     0.22222,     0.22322,     0.22422,     0.22523,     0.22623,     0.22723,     0.22823,     0.22923,     0.23023,     0.23123,     0.23223,     0.23323,     0.23423,     0.23524,     0.23624,     0.23724,     0.23824,     0.23924,\n",
              "           0.24024,     0.24124,     0.24224,     0.24324,     0.24424,     0.24525,     0.24625,     0.24725,     0.24825,     0.24925,     0.25025,     0.25125,     0.25225,     0.25325,     0.25425,     0.25526,     0.25626,     0.25726,     0.25826,     0.25926,     0.26026,     0.26126,     0.26226,     0.26326,\n",
              "           0.26426,     0.26527,     0.26627,     0.26727,     0.26827,     0.26927,     0.27027,     0.27127,     0.27227,     0.27327,     0.27427,     0.27528,     0.27628,     0.27728,     0.27828,     0.27928,     0.28028,     0.28128,     0.28228,     0.28328,     0.28428,     0.28529,     0.28629,     0.28729,\n",
              "           0.28829,     0.28929,     0.29029,     0.29129,     0.29229,     0.29329,     0.29429,      0.2953,      0.2963,      0.2973,      0.2983,      0.2993,      0.3003,      0.3013,      0.3023,      0.3033,      0.3043,     0.30531,     0.30631,     0.30731,     0.30831,     0.30931,     0.31031,     0.31131,\n",
              "           0.31231,     0.31331,     0.31431,     0.31532,     0.31632,     0.31732,     0.31832,     0.31932,     0.32032,     0.32132,     0.32232,     0.32332,     0.32432,     0.32533,     0.32633,     0.32733,     0.32833,     0.32933,     0.33033,     0.33133,     0.33233,     0.33333,     0.33433,     0.33534,\n",
              "           0.33634,     0.33734,     0.33834,     0.33934,     0.34034,     0.34134,     0.34234,     0.34334,     0.34434,     0.34535,     0.34635,     0.34735,     0.34835,     0.34935,     0.35035,     0.35135,     0.35235,     0.35335,     0.35435,     0.35536,     0.35636,     0.35736,     0.35836,     0.35936,\n",
              "           0.36036,     0.36136,     0.36236,     0.36336,     0.36436,     0.36537,     0.36637,     0.36737,     0.36837,     0.36937,     0.37037,     0.37137,     0.37237,     0.37337,     0.37437,     0.37538,     0.37638,     0.37738,     0.37838,     0.37938,     0.38038,     0.38138,     0.38238,     0.38338,\n",
              "           0.38438,     0.38539,     0.38639,     0.38739,     0.38839,     0.38939,     0.39039,     0.39139,     0.39239,     0.39339,     0.39439,      0.3954,      0.3964,      0.3974,      0.3984,      0.3994,      0.4004,      0.4014,      0.4024,      0.4034,      0.4044,     0.40541,     0.40641,     0.40741,\n",
              "           0.40841,     0.40941,     0.41041,     0.41141,     0.41241,     0.41341,     0.41441,     0.41542,     0.41642,     0.41742,     0.41842,     0.41942,     0.42042,     0.42142,     0.42242,     0.42342,     0.42442,     0.42543,     0.42643,     0.42743,     0.42843,     0.42943,     0.43043,     0.43143,\n",
              "           0.43243,     0.43343,     0.43443,     0.43544,     0.43644,     0.43744,     0.43844,     0.43944,     0.44044,     0.44144,     0.44244,     0.44344,     0.44444,     0.44545,     0.44645,     0.44745,     0.44845,     0.44945,     0.45045,     0.45145,     0.45245,     0.45345,     0.45445,     0.45546,\n",
              "           0.45646,     0.45746,     0.45846,     0.45946,     0.46046,     0.46146,     0.46246,     0.46346,     0.46446,     0.46547,     0.46647,     0.46747,     0.46847,     0.46947,     0.47047,     0.47147,     0.47247,     0.47347,     0.47447,     0.47548,     0.47648,     0.47748,     0.47848,     0.47948,\n",
              "           0.48048,     0.48148,     0.48248,     0.48348,     0.48448,     0.48549,     0.48649,     0.48749,     0.48849,     0.48949,     0.49049,     0.49149,     0.49249,     0.49349,     0.49449,      0.4955,      0.4965,      0.4975,      0.4985,      0.4995,      0.5005,      0.5015,      0.5025,      0.5035,\n",
              "            0.5045,     0.50551,     0.50651,     0.50751,     0.50851,     0.50951,     0.51051,     0.51151,     0.51251,     0.51351,     0.51451,     0.51552,     0.51652,     0.51752,     0.51852,     0.51952,     0.52052,     0.52152,     0.52252,     0.52352,     0.52452,     0.52553,     0.52653,     0.52753,\n",
              "           0.52853,     0.52953,     0.53053,     0.53153,     0.53253,     0.53353,     0.53453,     0.53554,     0.53654,     0.53754,     0.53854,     0.53954,     0.54054,     0.54154,     0.54254,     0.54354,     0.54454,     0.54555,     0.54655,     0.54755,     0.54855,     0.54955,     0.55055,     0.55155,\n",
              "           0.55255,     0.55355,     0.55455,     0.55556,     0.55656,     0.55756,     0.55856,     0.55956,     0.56056,     0.56156,     0.56256,     0.56356,     0.56456,     0.56557,     0.56657,     0.56757,     0.56857,     0.56957,     0.57057,     0.57157,     0.57257,     0.57357,     0.57457,     0.57558,\n",
              "           0.57658,     0.57758,     0.57858,     0.57958,     0.58058,     0.58158,     0.58258,     0.58358,     0.58458,     0.58559,     0.58659,     0.58759,     0.58859,     0.58959,     0.59059,     0.59159,     0.59259,     0.59359,     0.59459,      0.5956,      0.5966,      0.5976,      0.5986,      0.5996,\n",
              "            0.6006,      0.6016,      0.6026,      0.6036,      0.6046,     0.60561,     0.60661,     0.60761,     0.60861,     0.60961,     0.61061,     0.61161,     0.61261,     0.61361,     0.61461,     0.61562,     0.61662,     0.61762,     0.61862,     0.61962,     0.62062,     0.62162,     0.62262,     0.62362,\n",
              "           0.62462,     0.62563,     0.62663,     0.62763,     0.62863,     0.62963,     0.63063,     0.63163,     0.63263,     0.63363,     0.63463,     0.63564,     0.63664,     0.63764,     0.63864,     0.63964,     0.64064,     0.64164,     0.64264,     0.64364,     0.64464,     0.64565,     0.64665,     0.64765,\n",
              "           0.64865,     0.64965,     0.65065,     0.65165,     0.65265,     0.65365,     0.65465,     0.65566,     0.65666,     0.65766,     0.65866,     0.65966,     0.66066,     0.66166,     0.66266,     0.66366,     0.66466,     0.66567,     0.66667,     0.66767,     0.66867,     0.66967,     0.67067,     0.67167,\n",
              "           0.67267,     0.67367,     0.67467,     0.67568,     0.67668,     0.67768,     0.67868,     0.67968,     0.68068,     0.68168,     0.68268,     0.68368,     0.68468,     0.68569,     0.68669,     0.68769,     0.68869,     0.68969,     0.69069,     0.69169,     0.69269,     0.69369,     0.69469,      0.6957,\n",
              "            0.6967,      0.6977,      0.6987,      0.6997,      0.7007,      0.7017,      0.7027,      0.7037,      0.7047,     0.70571,     0.70671,     0.70771,     0.70871,     0.70971,     0.71071,     0.71171,     0.71271,     0.71371,     0.71471,     0.71572,     0.71672,     0.71772,     0.71872,     0.71972,\n",
              "           0.72072,     0.72172,     0.72272,     0.72372,     0.72472,     0.72573,     0.72673,     0.72773,     0.72873,     0.72973,     0.73073,     0.73173,     0.73273,     0.73373,     0.73473,     0.73574,     0.73674,     0.73774,     0.73874,     0.73974,     0.74074,     0.74174,     0.74274,     0.74374,\n",
              "           0.74474,     0.74575,     0.74675,     0.74775,     0.74875,     0.74975,     0.75075,     0.75175,     0.75275,     0.75375,     0.75475,     0.75576,     0.75676,     0.75776,     0.75876,     0.75976,     0.76076,     0.76176,     0.76276,     0.76376,     0.76476,     0.76577,     0.76677,     0.76777,\n",
              "           0.76877,     0.76977,     0.77077,     0.77177,     0.77277,     0.77377,     0.77477,     0.77578,     0.77678,     0.77778,     0.77878,     0.77978,     0.78078,     0.78178,     0.78278,     0.78378,     0.78478,     0.78579,     0.78679,     0.78779,     0.78879,     0.78979,     0.79079,     0.79179,\n",
              "           0.79279,     0.79379,     0.79479,      0.7958,      0.7968,      0.7978,      0.7988,      0.7998,      0.8008,      0.8018,      0.8028,      0.8038,      0.8048,     0.80581,     0.80681,     0.80781,     0.80881,     0.80981,     0.81081,     0.81181,     0.81281,     0.81381,     0.81481,     0.81582,\n",
              "           0.81682,     0.81782,     0.81882,     0.81982,     0.82082,     0.82182,     0.82282,     0.82382,     0.82482,     0.82583,     0.82683,     0.82783,     0.82883,     0.82983,     0.83083,     0.83183,     0.83283,     0.83383,     0.83483,     0.83584,     0.83684,     0.83784,     0.83884,     0.83984,\n",
              "           0.84084,     0.84184,     0.84284,     0.84384,     0.84484,     0.84585,     0.84685,     0.84785,     0.84885,     0.84985,     0.85085,     0.85185,     0.85285,     0.85385,     0.85485,     0.85586,     0.85686,     0.85786,     0.85886,     0.85986,     0.86086,     0.86186,     0.86286,     0.86386,\n",
              "           0.86486,     0.86587,     0.86687,     0.86787,     0.86887,     0.86987,     0.87087,     0.87187,     0.87287,     0.87387,     0.87487,     0.87588,     0.87688,     0.87788,     0.87888,     0.87988,     0.88088,     0.88188,     0.88288,     0.88388,     0.88488,     0.88589,     0.88689,     0.88789,\n",
              "           0.88889,     0.88989,     0.89089,     0.89189,     0.89289,     0.89389,     0.89489,      0.8959,      0.8969,      0.8979,      0.8989,      0.8999,      0.9009,      0.9019,      0.9029,      0.9039,      0.9049,     0.90591,     0.90691,     0.90791,     0.90891,     0.90991,     0.91091,     0.91191,\n",
              "           0.91291,     0.91391,     0.91491,     0.91592,     0.91692,     0.91792,     0.91892,     0.91992,     0.92092,     0.92192,     0.92292,     0.92392,     0.92492,     0.92593,     0.92693,     0.92793,     0.92893,     0.92993,     0.93093,     0.93193,     0.93293,     0.93393,     0.93493,     0.93594,\n",
              "           0.93694,     0.93794,     0.93894,     0.93994,     0.94094,     0.94194,     0.94294,     0.94394,     0.94494,     0.94595,     0.94695,     0.94795,     0.94895,     0.94995,     0.95095,     0.95195,     0.95295,     0.95395,     0.95495,     0.95596,     0.95696,     0.95796,     0.95896,     0.95996,\n",
              "           0.96096,     0.96196,     0.96296,     0.96396,     0.96496,     0.96597,     0.96697,     0.96797,     0.96897,     0.96997,     0.97097,     0.97197,     0.97297,     0.97397,     0.97497,     0.97598,     0.97698,     0.97798,     0.97898,     0.97998,     0.98098,     0.98198,     0.98298,     0.98398,\n",
              "           0.98498,     0.98599,     0.98699,     0.98799,     0.98899,     0.98999,     0.99099,     0.99199,     0.99299,     0.99399,     0.99499,       0.996,       0.997,       0.998,       0.999,           1]), array([[        0.9,         0.9,     0.73333, ...,           0,           0,           0],\n",
              "       [        0.1,         0.1,           0, ...,           0,           0,           0],\n",
              "       [      0.375,       0.375,       0.125, ...,           0,           0,           0]]), 'Confidence', 'Recall']]\n",
              "fitness: 0.00660299099125064\n",
              "keys: ['metrics/precision(B)', 'metrics/recall(B)', 'metrics/mAP50(B)', 'metrics/mAP50-95(B)']\n",
              "maps: array([   0.014197,  0.00019789,  0.00022747])\n",
              "names: {0: 'Normal', 1: 'Benign', 2: 'Malignant'}\n",
              "plot: True\n",
              "results_dict: {'metrics/precision(B)': 0.004705199393783038, 'metrics/recall(B)': 0.4583333333333333, 'metrics/mAP50(B)': 0.022162259986674312, 'metrics/mAP50-95(B)': 0.004874183325092454, 'fitness': 0.00660299099125064}\n",
              "save_dir: PosixPath('runs/detect/train4')\n",
              "speed: {'preprocess': 0.46646098295847577, 'inference': 11.328096191088358, 'loss': 0.0006010135014851888, 'postprocess': 1.8375714619954426}\n",
              "task: 'detect'"
            ]
          },
          "metadata": {},
          "execution_count": 22
        }
      ],
      "source": [
        "from ultralytics import YOLO\n",
        "from google.colab import drive\n",
        "import shutil\n",
        "import os\n",
        "\n",
        "# Mount Google Drive\n",
        "drive.mount('/content/drive')\n",
        "# Load YOLOv8 model và huấn luyện\n",
        "model = YOLO('yolov8s.pt')  # Tải mô hình YOLOv8 nhỏ\n",
        "model.train(data='/content/drive/My Drive/yolo_dataset1/data.yaml', epochs=100, imgsz=1024)\n",
        "\n",
        "\n"
      ]
    }
  ],
  "metadata": {
    "accelerator": "GPU",
    "colab": {
      "gpuType": "T4",
      "provenance": [],
      "mount_file_id": "1LilTs5NHSt7VMpfSKQkhHKjTxiFzC3pO",
      "authorship_tag": "ABX9TyNgJNlco6AGJ4qrWKfP5GmW",
      "include_colab_link": true
    },
    "kernelspec": {
      "display_name": "Python 3",
      "name": "python3"
    },
    "language_info": {
      "name": "python"
    }
  },
  "nbformat": 4,
  "nbformat_minor": 0
}